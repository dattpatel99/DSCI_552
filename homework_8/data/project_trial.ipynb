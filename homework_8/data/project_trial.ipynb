{
 "cells": [
  {
   "cell_type": "code",
   "execution_count": 1,
   "id": "2cfa8cb8",
   "metadata": {
    "execution": {
     "iopub.execute_input": "2023-05-08T12:02:00.810872Z",
     "iopub.status.busy": "2023-05-08T12:02:00.810129Z",
     "iopub.status.idle": "2023-05-08T12:02:07.613110Z",
     "shell.execute_reply": "2023-05-08T12:02:07.612213Z"
    },
    "id": "zuocW4vSOTeX",
    "papermill": {
     "duration": 6.81588,
     "end_time": "2023-05-08T12:02:07.615328",
     "exception": false,
     "start_time": "2023-05-08T12:02:00.799448",
     "status": "completed"
    },
    "tags": []
   },
   "outputs": [
    {
     "name": "stderr",
     "output_type": "stream",
     "text": [
      "/opt/conda/lib/python3.10/site-packages/scipy/__init__.py:146: UserWarning: A NumPy version >=1.16.5 and <1.23.0 is required for this version of SciPy (detected version 1.23.5\n",
      "  warnings.warn(f\"A NumPy version >={np_minversion} and <{np_maxversion}\"\n"
     ]
    }
   ],
   "source": [
    "import tensorflow as tf\n",
    "import matplotlib.pyplot as plt\n",
    "import numpy as np\n",
    "import shutil\n",
    "import os\n",
    "import glob"
   ]
  },
  {
   "cell_type": "code",
   "execution_count": 2,
   "id": "3390fd98",
   "metadata": {
    "execution": {
     "iopub.execute_input": "2023-05-08T12:02:07.634539Z",
     "iopub.status.busy": "2023-05-08T12:02:07.633995Z",
     "iopub.status.idle": "2023-05-08T12:02:07.638282Z",
     "shell.execute_reply": "2023-05-08T12:02:07.637409Z"
    },
    "id": "iEdpV8G5O5_7",
    "papermill": {
     "duration": 0.016022,
     "end_time": "2023-05-08T12:02:07.640063",
     "exception": false,
     "start_time": "2023-05-08T12:02:07.624041",
     "status": "completed"
    },
    "tags": []
   },
   "outputs": [],
   "source": [
    "IMG_WID, IMG_HG = 256, 256\n",
    "IMG_SIZE = (IMG_WID, IMG_HG)"
   ]
  },
  {
   "cell_type": "code",
   "execution_count": 3,
   "id": "9e20abd9",
   "metadata": {
    "execution": {
     "iopub.execute_input": "2023-05-08T12:02:07.659640Z",
     "iopub.status.busy": "2023-05-08T12:02:07.659225Z",
     "iopub.status.idle": "2023-05-08T12:02:07.663111Z",
     "shell.execute_reply": "2023-05-08T12:02:07.662245Z"
    },
    "id": "_l3nS2vGOFYW",
    "papermill": {
     "duration": 0.017076,
     "end_time": "2023-05-08T12:02:07.665750",
     "exception": false,
     "start_time": "2023-05-08T12:02:07.648674",
     "status": "completed"
    },
    "tags": []
   },
   "outputs": [],
   "source": [
    "data_images = '/kaggle/input/project-images/Data/Sport Images'\n",
    "data_video = '/kaggle/input/project-images/Data/Sport Videos'"
   ]
  },
  {
   "cell_type": "markdown",
   "id": "c407e0f6",
   "metadata": {
    "id": "SgwSihQO1RXV",
    "papermill": {
     "duration": 0.007819,
     "end_time": "2023-05-08T12:02:07.681568",
     "exception": false,
     "start_time": "2023-05-08T12:02:07.673749",
     "status": "completed"
    },
    "tags": []
   },
   "source": [
    "# Creating the required dataset"
   ]
  },
  {
   "cell_type": "code",
   "execution_count": 4,
   "id": "78031633",
   "metadata": {
    "execution": {
     "iopub.execute_input": "2023-05-08T12:02:07.699379Z",
     "iopub.status.busy": "2023-05-08T12:02:07.699119Z",
     "iopub.status.idle": "2023-05-08T12:02:07.704884Z",
     "shell.execute_reply": "2023-05-08T12:02:07.703901Z"
    },
    "id": "DsNl8q4jmQvu",
    "papermill": {
     "duration": 0.016809,
     "end_time": "2023-05-08T12:02:07.706666",
     "exception": false,
     "start_time": "2023-05-08T12:02:07.689857",
     "status": "completed"
    },
    "tags": []
   },
   "outputs": [],
   "source": [
    "def split_folders(image_path, label_count):\n",
    "    dataset = tf.keras.utils.image_dataset_from_directory(image_path,labels=None,label_mode='int',color_mode='rgb',batch_size=None,image_size=IMG_SIZE,seed=20)\n",
    "    dataset = dataset.map(lambda x: (x, label_count))\n",
    "    total_file = len(dataset)\n",
    "    train_size, val_size = int(np.ceil(total_file*0.7)), int(np.ceil(total_file*0.15))\n",
    "    test_size = total_file - (train_size + val_size)\n",
    "    train = dataset.take(train_size)\n",
    "    val = dataset.skip(train_size).take(val_size)\n",
    "    test = dataset.skip(train_size + val_size).take(test_size)\n",
    "    return [train, val, test]"
   ]
  },
  {
   "cell_type": "code",
   "execution_count": 5,
   "id": "fc817352",
   "metadata": {
    "execution": {
     "iopub.execute_input": "2023-05-08T12:02:07.725067Z",
     "iopub.status.busy": "2023-05-08T12:02:07.723640Z",
     "iopub.status.idle": "2023-05-08T12:02:11.013780Z",
     "shell.execute_reply": "2023-05-08T12:02:11.012885Z"
    },
    "id": "KUf_5OKhPwZy",
    "outputId": "49a50048-ea6d-48d5-a5b9-decdeb41df1a",
    "papermill": {
     "duration": 3.301153,
     "end_time": "2023-05-08T12:02:11.015888",
     "exception": false,
     "start_time": "2023-05-08T12:02:07.714735",
     "status": "completed"
    },
    "tags": []
   },
   "outputs": [
    {
     "name": "stdout",
     "output_type": "stream",
     "text": [
      "Found 734 files belonging to 1 classes.\n",
      "Found 492 files belonging to 1 classes.\n",
      "Found 634 files belonging to 1 classes.\n",
      "Found 715 files belonging to 1 classes.\n",
      "Found 704 files belonging to 1 classes.\n"
     ]
    }
   ],
   "source": [
    "classes = ['baseball','basketball','fencing','tennis','volleyball']\n",
    "data_sets = []\n",
    "for idx in range(len(classes)):\n",
    "    data_sets.append(split_folders(data_images+'/'+classes[idx], idx))"
   ]
  },
  {
   "cell_type": "code",
   "execution_count": 6,
   "id": "814f5d2e",
   "metadata": {
    "execution": {
     "iopub.execute_input": "2023-05-08T12:02:11.034636Z",
     "iopub.status.busy": "2023-05-08T12:02:11.034363Z",
     "iopub.status.idle": "2023-05-08T12:02:11.045349Z",
     "shell.execute_reply": "2023-05-08T12:02:11.044591Z"
    },
    "id": "3-HhAKNEMiDU",
    "papermill": {
     "duration": 0.022248,
     "end_time": "2023-05-08T12:02:11.047090",
     "exception": false,
     "start_time": "2023-05-08T12:02:11.024842",
     "status": "completed"
    },
    "tags": []
   },
   "outputs": [],
   "source": [
    "train, val, test = data_sets[0][0],data_sets[0][1],data_sets[0][2]\n",
    "for t, v, tst in data_sets[1:]:\n",
    "    train = train.concatenate(t)\n",
    "    val = val.concatenate(v)\n",
    "    test = test.concatenate(tst)"
   ]
  },
  {
   "cell_type": "markdown",
   "id": "ea3e7fad",
   "metadata": {
    "id": "svVTxzl-dgPB",
    "papermill": {
     "duration": 0.0082,
     "end_time": "2023-05-08T12:02:11.063776",
     "exception": false,
     "start_time": "2023-05-08T12:02:11.055576",
     "status": "completed"
    },
    "tags": []
   },
   "source": [
    "# Data Augmentation"
   ]
  },
  {
   "cell_type": "code",
   "execution_count": 7,
   "id": "72d2818a",
   "metadata": {
    "execution": {
     "iopub.execute_input": "2023-05-08T12:02:11.081534Z",
     "iopub.status.busy": "2023-05-08T12:02:11.081283Z",
     "iopub.status.idle": "2023-05-08T12:02:11.093158Z",
     "shell.execute_reply": "2023-05-08T12:02:11.092263Z"
    },
    "id": "8noPqsnh3Wmg",
    "papermill": {
     "duration": 0.022777,
     "end_time": "2023-05-08T12:02:11.094967",
     "exception": false,
     "start_time": "2023-05-08T12:02:11.072190",
     "status": "completed"
    },
    "tags": []
   },
   "outputs": [],
   "source": [
    "image_augmentation_flip = tf.keras.layers.RandomFlip(\"horizontal_and_vertical\")\n",
    "image_augmentation_rotation = tf.keras.layers.RandomRotation((-0.1, 0.3))\n",
    "image_augmentation_translation = tf.keras.layers.RandomTranslation((-0.1, 0.5), (-0.2, 0.4))\n",
    "image_augmentation_zoom = tf.keras.layers.RandomZoom((-0.1, 0.4))\n",
    "image_augmentation_brightness = tf.keras.layers.RandomBrightness(0.6)\n",
    "image_augmentation_contrast = tf.keras.layers.RandomContrast(0.3)"
   ]
  },
  {
   "cell_type": "code",
   "execution_count": 8,
   "id": "0845747c",
   "metadata": {
    "execution": {
     "iopub.execute_input": "2023-05-08T12:02:11.112287Z",
     "iopub.status.busy": "2023-05-08T12:02:11.112023Z",
     "iopub.status.idle": "2023-05-08T12:02:11.116592Z",
     "shell.execute_reply": "2023-05-08T12:02:11.115650Z"
    },
    "id": "XWTcyveJpouC",
    "papermill": {
     "duration": 0.015516,
     "end_time": "2023-05-08T12:02:11.118627",
     "exception": false,
     "start_time": "2023-05-08T12:02:11.103111",
     "status": "completed"
    },
    "tags": []
   },
   "outputs": [],
   "source": [
    "def chooseRandom(img):\n",
    "    choice = [0,1]\n",
    "    np.random.shuffle(choice)\n",
    "    if choice == 1:\n",
    "        return image_augmentation_zoom(image_augmentation_rotation(image_augmentation_brightness(image_augmentation_translation(img))))\n",
    "    else:\n",
    "        return image_augmentation_contrast(image_augmentation_flip(img))"
   ]
  },
  {
   "cell_type": "code",
   "execution_count": 9,
   "id": "5a699d89",
   "metadata": {
    "execution": {
     "iopub.execute_input": "2023-05-08T12:02:11.136097Z",
     "iopub.status.busy": "2023-05-08T12:02:11.135860Z",
     "iopub.status.idle": "2023-05-08T12:02:11.500434Z",
     "shell.execute_reply": "2023-05-08T12:02:11.499465Z"
    },
    "id": "Yvc1RFKAmQvx",
    "papermill": {
     "duration": 0.375838,
     "end_time": "2023-05-08T12:02:11.502690",
     "exception": false,
     "start_time": "2023-05-08T12:02:11.126852",
     "status": "completed"
    },
    "tags": []
   },
   "outputs": [],
   "source": [
    "dataset_random_augmentation = train.map(lambda i,l:(chooseRandom(i), l))\n",
    "dataset_flip = train.map(lambda i,l:(image_augmentation_flip(i), l))\n",
    "dataset_rotated = train.map(lambda i,l:(image_augmentation_rotation(i), l))\n",
    "dataset_bright = train.map(lambda i,l:(image_augmentation_brightness(i), l))\n",
    "dataset_zoomed = train.map(lambda i,l:(image_augmentation_zoom(i), l))"
   ]
  },
  {
   "cell_type": "code",
   "execution_count": 10,
   "id": "71d696d6",
   "metadata": {
    "execution": {
     "iopub.execute_input": "2023-05-08T12:02:11.522064Z",
     "iopub.status.busy": "2023-05-08T12:02:11.520651Z",
     "iopub.status.idle": "2023-05-08T12:02:11.528000Z",
     "shell.execute_reply": "2023-05-08T12:02:11.527244Z"
    },
    "id": "8rBXtKLEbSLZ",
    "papermill": {
     "duration": 0.018389,
     "end_time": "2023-05-08T12:02:11.529769",
     "exception": false,
     "start_time": "2023-05-08T12:02:11.511380",
     "status": "completed"
    },
    "tags": []
   },
   "outputs": [],
   "source": [
    "augmented_train = train.concatenate(dataset_random_augmentation)\n",
    "augmented_train = augmented_train.concatenate(dataset_flip)\n",
    "augmented_train = augmented_train.concatenate(dataset_rotated)\n",
    "augmented_train = augmented_train.concatenate(dataset_bright)\n",
    "augmented_train = augmented_train.concatenate(dataset_zoomed)"
   ]
  },
  {
   "cell_type": "code",
   "execution_count": 11,
   "id": "8c1a7523",
   "metadata": {
    "execution": {
     "iopub.execute_input": "2023-05-08T12:02:11.547313Z",
     "iopub.status.busy": "2023-05-08T12:02:11.547058Z",
     "iopub.status.idle": "2023-05-08T12:02:11.554922Z",
     "shell.execute_reply": "2023-05-08T12:02:11.554175Z"
    },
    "id": "iAmg5inNbSLZ",
    "papermill": {
     "duration": 0.018617,
     "end_time": "2023-05-08T12:02:11.556668",
     "exception": false,
     "start_time": "2023-05-08T12:02:11.538051",
     "status": "completed"
    },
    "tags": []
   },
   "outputs": [],
   "source": [
    "augmented_train = augmented_train.batch(128, drop_remainder=True)\n",
    "validation = val.batch(128, drop_remainder=True)\n",
    "test_dataset = test.batch(128, drop_remainder=True)"
   ]
  },
  {
   "cell_type": "markdown",
   "id": "5b45d832",
   "metadata": {
    "id": "y7K_E131mQvx",
    "papermill": {
     "duration": 0.008209,
     "end_time": "2023-05-08T12:02:11.573054",
     "exception": false,
     "start_time": "2023-05-08T12:02:11.564845",
     "status": "completed"
    },
    "tags": []
   },
   "source": [
    "# Model Creation"
   ]
  },
  {
   "cell_type": "code",
   "execution_count": 12,
   "id": "be16ce0f",
   "metadata": {
    "execution": {
     "iopub.execute_input": "2023-05-08T12:02:11.590457Z",
     "iopub.status.busy": "2023-05-08T12:02:11.590215Z",
     "iopub.status.idle": "2023-05-08T12:02:11.595851Z",
     "shell.execute_reply": "2023-05-08T12:02:11.594971Z"
    },
    "id": "fgLf822vt0jb",
    "papermill": {
     "duration": 0.016427,
     "end_time": "2023-05-08T12:02:11.597619",
     "exception": false,
     "start_time": "2023-05-08T12:02:11.581192",
     "status": "completed"
    },
    "tags": []
   },
   "outputs": [],
   "source": [
    "def modelCreation(base):\n",
    "    for layer in base.layers:\n",
    "        layer.trainable = False\n",
    "    model = tf.keras.layers.Flatten()(base.output)\n",
    "    model = tf.keras.layers.Dense(32, activation='relu')(model)\n",
    "    model = tf.keras.layers.Dropout(0.2)(model)\n",
    "    model = tf.keras.layers.BatchNormalization()(model)\n",
    "    model_prediction = tf.keras.layers.Dense(5, activation = 'softmax')(model)\n",
    "    model_final = tf.keras.Model(inputs = base.input, outputs = model_prediction)\n",
    "    model_final.compile(optimizer='adam', loss=\"sparse_categorical_crossentropy\", metrics=['accuracy'])\n",
    "    return model_final"
   ]
  },
  {
   "cell_type": "code",
   "execution_count": 13,
   "id": "37ae932f",
   "metadata": {
    "execution": {
     "iopub.execute_input": "2023-05-08T12:02:11.615455Z",
     "iopub.status.busy": "2023-05-08T12:02:11.614619Z",
     "iopub.status.idle": "2023-05-08T12:02:18.346410Z",
     "shell.execute_reply": "2023-05-08T12:02:18.345469Z"
    },
    "id": "rUqlAWS9mQvx",
    "outputId": "337049b8-50f5-486e-9909-375a01b5ed76",
    "papermill": {
     "duration": 6.742995,
     "end_time": "2023-05-08T12:02:18.348717",
     "exception": false,
     "start_time": "2023-05-08T12:02:11.605722",
     "status": "completed"
    },
    "tags": []
   },
   "outputs": [
    {
     "name": "stdout",
     "output_type": "stream",
     "text": [
      "Downloading data from https://storage.googleapis.com/tensorflow/keras-applications/resnet/resnet50_weights_tf_dim_ordering_tf_kernels_notop.h5\n",
      "94765736/94765736 [==============================] - 2s 0us/step\n",
      "Downloading data from https://storage.googleapis.com/keras-applications/efficientnetb0_notop.h5\n",
      "16705208/16705208 [==============================] - 0s 0us/step\n",
      "Downloading data from https://storage.googleapis.com/tensorflow/keras-applications/vgg16/vgg16_weights_tf_dim_ordering_tf_kernels_notop.h5\n",
      "58889256/58889256 [==============================] - 0s 0us/step\n"
     ]
    }
   ],
   "source": [
    "resnet = tf.keras.applications.ResNet50(weights = 'imagenet', include_top = False, input_shape = (IMG_WID, IMG_HG, 3))\n",
    "efficient = tf.keras.applications.EfficientNetB0(weights = 'imagenet', include_top = False, input_shape = (IMG_WID, IMG_HG, 3))\n",
    "vgg = tf.keras.applications.VGG16(weights = 'imagenet', include_top = False, input_shape = (IMG_WID, IMG_HG, 3))"
   ]
  },
  {
   "cell_type": "code",
   "execution_count": 14,
   "id": "81dfdee3",
   "metadata": {
    "execution": {
     "iopub.execute_input": "2023-05-08T12:02:18.371863Z",
     "iopub.status.busy": "2023-05-08T12:02:18.370893Z",
     "iopub.status.idle": "2023-05-08T12:02:18.545601Z",
     "shell.execute_reply": "2023-05-08T12:02:18.544709Z"
    },
    "id": "Tl4W7ZfNwKoz",
    "papermill": {
     "duration": 0.18756,
     "end_time": "2023-05-08T12:02:18.547509",
     "exception": false,
     "start_time": "2023-05-08T12:02:18.359949",
     "status": "completed"
    },
    "tags": []
   },
   "outputs": [],
   "source": [
    "resnet_model = modelCreation(resnet)\n",
    "efficient_model = modelCreation(efficient)\n",
    "vgg_model = modelCreation(vgg)"
   ]
  },
  {
   "cell_type": "code",
   "execution_count": 15,
   "id": "9d5c28d9",
   "metadata": {
    "execution": {
     "iopub.execute_input": "2023-05-08T12:02:18.568902Z",
     "iopub.status.busy": "2023-05-08T12:02:18.568635Z",
     "iopub.status.idle": "2023-05-08T12:02:18.573102Z",
     "shell.execute_reply": "2023-05-08T12:02:18.572126Z"
    },
    "id": "Ky5Q5CRMmQvy",
    "papermill": {
     "duration": 0.017498,
     "end_time": "2023-05-08T12:02:18.575140",
     "exception": false,
     "start_time": "2023-05-08T12:02:18.557642",
     "status": "completed"
    },
    "tags": []
   },
   "outputs": [],
   "source": [
    "# Early stop and restore weight from best model, min validation loss\n",
    "early_stopper = tf.keras.callbacks.EarlyStopping(monitor='val_loss', patience=5, verbose=1, mode='min', restore_best_weights=True)"
   ]
  },
  {
   "cell_type": "code",
   "execution_count": 16,
   "id": "d8de0d9d",
   "metadata": {
    "execution": {
     "iopub.execute_input": "2023-05-08T12:02:18.615089Z",
     "iopub.status.busy": "2023-05-08T12:02:18.614829Z",
     "iopub.status.idle": "2023-05-08T13:30:28.191718Z",
     "shell.execute_reply": "2023-05-08T13:30:28.190646Z"
    },
    "id": "v-zb8LWbmQvy",
    "outputId": "6e6b0249-8395-4948-c6df-66b6ee419d94",
    "papermill": {
     "duration": 5289.79636,
     "end_time": "2023-05-08T13:30:28.384016",
     "exception": false,
     "start_time": "2023-05-08T12:02:18.587656",
     "status": "completed"
    },
    "tags": []
   },
   "outputs": [
    {
     "name": "stdout",
     "output_type": "stream",
     "text": [
      "Epoch 1/50\n",
      "107/107 [==============================] - 112s 944ms/step - loss: 1.7205 - accuracy: 0.2258 - val_loss: 1.6154 - val_accuracy: 0.4766\n",
      "Epoch 2/50\n",
      "107/107 [==============================] - 93s 860ms/step - loss: 1.6355 - accuracy: 0.2579 - val_loss: 1.3521 - val_accuracy: 0.7344\n",
      "Epoch 3/50\n",
      "107/107 [==============================] - 94s 872ms/step - loss: 1.6125 - accuracy: 0.2817 - val_loss: 1.3075 - val_accuracy: 0.8203\n",
      "Epoch 4/50\n",
      "107/107 [==============================] - 92s 854ms/step - loss: 1.5975 - accuracy: 0.2955 - val_loss: 1.1848 - val_accuracy: 0.9036\n",
      "Epoch 5/50\n",
      "107/107 [==============================] - 97s 899ms/step - loss: 1.5917 - accuracy: 0.3029 - val_loss: 1.3843 - val_accuracy: 0.8333\n",
      "Epoch 6/50\n",
      "107/107 [==============================] - 93s 862ms/step - loss: 1.5849 - accuracy: 0.3175 - val_loss: 1.4176 - val_accuracy: 0.8802\n",
      "Epoch 7/50\n",
      "107/107 [==============================] - 92s 856ms/step - loss: 1.5815 - accuracy: 0.3235 - val_loss: 1.1507 - val_accuracy: 0.8620\n",
      "Epoch 8/50\n",
      "107/107 [==============================] - 91s 846ms/step - loss: 1.5782 - accuracy: 0.3213 - val_loss: 1.1454 - val_accuracy: 0.8958\n",
      "Epoch 9/50\n",
      "107/107 [==============================] - 92s 852ms/step - loss: 1.5757 - accuracy: 0.3272 - val_loss: 1.2086 - val_accuracy: 0.9297\n",
      "Epoch 10/50\n",
      "107/107 [==============================] - 92s 850ms/step - loss: 1.5728 - accuracy: 0.3260 - val_loss: 1.1865 - val_accuracy: 0.9245\n",
      "Epoch 11/50\n",
      "107/107 [==============================] - 92s 851ms/step - loss: 1.5715 - accuracy: 0.3245 - val_loss: 1.0447 - val_accuracy: 0.9036\n",
      "Epoch 12/50\n",
      "107/107 [==============================] - 92s 857ms/step - loss: 1.5680 - accuracy: 0.3294 - val_loss: 1.0923 - val_accuracy: 0.9245\n",
      "Epoch 13/50\n",
      "107/107 [==============================] - 93s 859ms/step - loss: 1.5677 - accuracy: 0.3296 - val_loss: 1.1760 - val_accuracy: 0.8620\n",
      "Epoch 14/50\n",
      "107/107 [==============================] - 93s 859ms/step - loss: 1.5651 - accuracy: 0.3389 - val_loss: 0.9647 - val_accuracy: 0.9583\n",
      "Epoch 15/50\n",
      "107/107 [==============================] - 92s 857ms/step - loss: 1.5631 - accuracy: 0.3327 - val_loss: 0.9637 - val_accuracy: 0.9141\n",
      "Epoch 16/50\n",
      "107/107 [==============================] - 92s 850ms/step - loss: 1.5633 - accuracy: 0.3366 - val_loss: 1.0819 - val_accuracy: 0.9219\n",
      "Epoch 17/50\n",
      "107/107 [==============================] - 92s 853ms/step - loss: 1.5629 - accuracy: 0.3417 - val_loss: 1.0497 - val_accuracy: 0.9349\n",
      "Epoch 18/50\n",
      "107/107 [==============================] - 93s 863ms/step - loss: 1.5634 - accuracy: 0.3396 - val_loss: 0.9412 - val_accuracy: 0.8594\n",
      "Epoch 19/50\n",
      "107/107 [==============================] - 93s 861ms/step - loss: 1.5608 - accuracy: 0.3435 - val_loss: 1.0350 - val_accuracy: 0.8594\n",
      "Epoch 20/50\n",
      "107/107 [==============================] - 99s 913ms/step - loss: 1.5605 - accuracy: 0.3489 - val_loss: 0.9407 - val_accuracy: 0.8151\n",
      "Epoch 21/50\n",
      "107/107 [==============================] - 92s 853ms/step - loss: 1.5601 - accuracy: 0.3416 - val_loss: 0.9695 - val_accuracy: 0.8646\n",
      "Epoch 22/50\n",
      "107/107 [==============================] - 93s 857ms/step - loss: 1.5594 - accuracy: 0.3436 - val_loss: 1.0387 - val_accuracy: 0.8802\n",
      "Epoch 23/50\n",
      "107/107 [==============================] - 90s 838ms/step - loss: 1.5575 - accuracy: 0.3516 - val_loss: 1.0033 - val_accuracy: 0.8672\n",
      "Epoch 24/50\n",
      "107/107 [==============================] - 92s 856ms/step - loss: 1.5573 - accuracy: 0.3478 - val_loss: 0.9311 - val_accuracy: 0.9141\n",
      "Epoch 25/50\n",
      "107/107 [==============================] - 100s 924ms/step - loss: 1.5568 - accuracy: 0.3470 - val_loss: 0.9148 - val_accuracy: 0.8932\n",
      "Epoch 26/50\n",
      "107/107 [==============================] - 96s 884ms/step - loss: 1.5560 - accuracy: 0.3521 - val_loss: 0.8890 - val_accuracy: 0.8333\n",
      "Epoch 27/50\n",
      "107/107 [==============================] - 97s 900ms/step - loss: 1.5569 - accuracy: 0.3518 - val_loss: 0.9554 - val_accuracy: 0.8854\n",
      "Epoch 28/50\n",
      "107/107 [==============================] - 92s 851ms/step - loss: 1.5572 - accuracy: 0.3439 - val_loss: 0.9199 - val_accuracy: 0.8307\n",
      "Epoch 29/50\n",
      "107/107 [==============================] - 92s 855ms/step - loss: 1.5540 - accuracy: 0.3547 - val_loss: 0.9017 - val_accuracy: 0.9167\n",
      "Epoch 30/50\n",
      "107/107 [==============================] - 92s 853ms/step - loss: 1.5526 - accuracy: 0.3514 - val_loss: 1.0389 - val_accuracy: 0.8646\n",
      "Epoch 31/50\n",
      "107/107 [==============================] - 92s 853ms/step - loss: 1.5532 - accuracy: 0.3551 - val_loss: 0.8797 - val_accuracy: 0.8906\n",
      "Epoch 32/50\n",
      "107/107 [==============================] - 92s 851ms/step - loss: 1.5520 - accuracy: 0.3596 - val_loss: 0.9370 - val_accuracy: 0.9010\n",
      "Epoch 33/50\n",
      "107/107 [==============================] - 98s 909ms/step - loss: 1.5524 - accuracy: 0.3597 - val_loss: 1.0275 - val_accuracy: 0.8620\n",
      "Epoch 34/50\n",
      "107/107 [==============================] - 92s 850ms/step - loss: 1.5512 - accuracy: 0.3589 - val_loss: 0.8940 - val_accuracy: 0.8776\n",
      "Epoch 35/50\n",
      "107/107 [==============================] - 94s 868ms/step - loss: 1.5514 - accuracy: 0.3581 - val_loss: 0.9341 - val_accuracy: 0.8125\n",
      "Epoch 36/50\n",
      "107/107 [==============================] - 93s 855ms/step - loss: 1.5507 - accuracy: 0.3526 - val_loss: 0.8583 - val_accuracy: 0.8750\n",
      "Epoch 37/50\n",
      "107/107 [==============================] - 89s 824ms/step - loss: 1.5498 - accuracy: 0.3611 - val_loss: 0.8686 - val_accuracy: 0.8620\n",
      "Epoch 38/50\n",
      "107/107 [==============================] - 92s 851ms/step - loss: 1.5497 - accuracy: 0.3620 - val_loss: 0.8469 - val_accuracy: 0.9167\n",
      "Epoch 39/50\n",
      "107/107 [==============================] - 92s 854ms/step - loss: 1.5476 - accuracy: 0.3624 - val_loss: 0.8699 - val_accuracy: 0.8776\n",
      "Epoch 40/50\n",
      "107/107 [==============================] - 92s 849ms/step - loss: 1.5498 - accuracy: 0.3596 - val_loss: 0.8875 - val_accuracy: 0.9167\n",
      "Epoch 41/50\n",
      "107/107 [==============================] - 93s 858ms/step - loss: 1.5491 - accuracy: 0.3589 - val_loss: 0.8805 - val_accuracy: 0.7656\n",
      "Epoch 42/50\n",
      "107/107 [==============================] - 92s 853ms/step - loss: 1.5475 - accuracy: 0.3555 - val_loss: 0.8567 - val_accuracy: 0.9115\n",
      "Epoch 43/50\n",
      "107/107 [==============================] - ETA: 0s - loss: 1.5472 - accuracy: 0.3632Restoring model weights from the end of the best epoch: 38.\n",
      "107/107 [==============================] - 95s 881ms/step - loss: 1.5472 - accuracy: 0.3632 - val_loss: 0.8580 - val_accuracy: 0.8906\n",
      "Epoch 43: early stopping\n"
     ]
    }
   ],
   "source": [
    "resnet_history = resnet_model.fit(augmented_train, epochs=50, batch_size=128, callbacks=[early_stopper], verbose=1, validation_data=validation)"
   ]
  },
  {
   "cell_type": "code",
   "execution_count": 17,
   "id": "f3e883b0",
   "metadata": {
    "execution": {
     "iopub.execute_input": "2023-05-08T13:30:28.896888Z",
     "iopub.status.busy": "2023-05-08T13:30:28.895790Z",
     "iopub.status.idle": "2023-05-08T15:02:39.273341Z",
     "shell.execute_reply": "2023-05-08T15:02:39.272328Z"
    },
    "id": "sZFMuMcjrRRw",
    "papermill": {
     "duration": 5530.642055,
     "end_time": "2023-05-08T15:02:39.275813",
     "exception": false,
     "start_time": "2023-05-08T13:30:28.633758",
     "status": "completed"
    },
    "tags": []
   },
   "outputs": [
    {
     "name": "stdout",
     "output_type": "stream",
     "text": [
      "Epoch 1/50\n"
     ]
    },
    {
     "name": "stderr",
     "output_type": "stream",
     "text": [
      "2023-05-08 13:30:33.973064: E tensorflow/core/grappler/optimizers/meta_optimizer.cc:954] layout failed: INVALID_ARGUMENT: Size of values 0 does not match size of permutation 4 @ fanin shape inmodel_1/block2b_drop/dropout/SelectV2-2-TransposeNHWCToNCHW-LayoutOptimizer\n"
     ]
    },
    {
     "name": "stdout",
     "output_type": "stream",
     "text": [
      "107/107 [==============================] - 94s 813ms/step - loss: 1.8163 - accuracy: 0.2475 - val_loss: 0.9356 - val_accuracy: 0.8177\n",
      "Epoch 2/50\n",
      "107/107 [==============================] - 87s 806ms/step - loss: 1.6752 - accuracy: 0.2894 - val_loss: 0.9053 - val_accuracy: 0.9062\n",
      "Epoch 3/50\n",
      "107/107 [==============================] - 86s 796ms/step - loss: 1.6306 - accuracy: 0.3148 - val_loss: 0.9067 - val_accuracy: 0.9792\n",
      "Epoch 4/50\n",
      "107/107 [==============================] - 87s 802ms/step - loss: 1.6047 - accuracy: 0.3300 - val_loss: 0.9271 - val_accuracy: 0.9557\n",
      "Epoch 5/50\n",
      "107/107 [==============================] - 91s 847ms/step - loss: 1.5877 - accuracy: 0.3405 - val_loss: 0.8834 - val_accuracy: 0.9688\n",
      "Epoch 6/50\n",
      "107/107 [==============================] - 86s 795ms/step - loss: 1.5766 - accuracy: 0.3552 - val_loss: 0.8899 - val_accuracy: 0.9766\n",
      "Epoch 7/50\n",
      "107/107 [==============================] - 87s 804ms/step - loss: 1.5704 - accuracy: 0.3629 - val_loss: 0.8639 - val_accuracy: 0.9844\n",
      "Epoch 8/50\n",
      "107/107 [==============================] - 87s 807ms/step - loss: 1.5620 - accuracy: 0.3610 - val_loss: 0.8419 - val_accuracy: 0.9766\n",
      "Epoch 9/50\n",
      "107/107 [==============================] - 88s 814ms/step - loss: 1.5576 - accuracy: 0.3617 - val_loss: 0.8274 - val_accuracy: 0.9714\n",
      "Epoch 10/50\n",
      "107/107 [==============================] - 88s 811ms/step - loss: 1.5551 - accuracy: 0.3686 - val_loss: 0.8076 - val_accuracy: 0.9766\n",
      "Epoch 11/50\n",
      "107/107 [==============================] - 89s 827ms/step - loss: 1.5502 - accuracy: 0.3735 - val_loss: 0.7715 - val_accuracy: 0.9818\n",
      "Epoch 12/50\n",
      "107/107 [==============================] - 86s 803ms/step - loss: 1.5497 - accuracy: 0.3711 - val_loss: 0.7702 - val_accuracy: 0.9818\n",
      "Epoch 13/50\n",
      "107/107 [==============================] - 86s 798ms/step - loss: 1.5480 - accuracy: 0.3779 - val_loss: 0.7485 - val_accuracy: 0.9766\n",
      "Epoch 14/50\n",
      "107/107 [==============================] - 87s 803ms/step - loss: 1.5455 - accuracy: 0.3751 - val_loss: 0.7507 - val_accuracy: 0.9818\n",
      "Epoch 15/50\n",
      "107/107 [==============================] - 83s 774ms/step - loss: 1.5443 - accuracy: 0.3724 - val_loss: 0.7337 - val_accuracy: 0.9896\n",
      "Epoch 16/50\n",
      "107/107 [==============================] - 88s 811ms/step - loss: 1.5421 - accuracy: 0.3788 - val_loss: 0.7337 - val_accuracy: 0.9609\n",
      "Epoch 17/50\n",
      "107/107 [==============================] - 86s 802ms/step - loss: 1.5404 - accuracy: 0.3778 - val_loss: 0.7071 - val_accuracy: 0.9844\n",
      "Epoch 18/50\n",
      "107/107 [==============================] - 87s 803ms/step - loss: 1.5383 - accuracy: 0.3825 - val_loss: 0.6928 - val_accuracy: 0.9870\n",
      "Epoch 19/50\n",
      "107/107 [==============================] - 87s 804ms/step - loss: 1.5381 - accuracy: 0.3843 - val_loss: 0.7042 - val_accuracy: 0.9896\n",
      "Epoch 20/50\n",
      "107/107 [==============================] - 87s 803ms/step - loss: 1.5358 - accuracy: 0.3851 - val_loss: 0.6979 - val_accuracy: 0.9922\n",
      "Epoch 21/50\n",
      "107/107 [==============================] - 87s 804ms/step - loss: 1.5367 - accuracy: 0.3860 - val_loss: 0.6648 - val_accuracy: 0.9948\n",
      "Epoch 22/50\n",
      "107/107 [==============================] - 87s 796ms/step - loss: 1.5347 - accuracy: 0.3876 - val_loss: 0.6605 - val_accuracy: 0.9922\n",
      "Epoch 23/50\n",
      "107/107 [==============================] - 88s 821ms/step - loss: 1.5351 - accuracy: 0.3862 - val_loss: 0.6790 - val_accuracy: 0.9922\n",
      "Epoch 24/50\n",
      "107/107 [==============================] - 89s 822ms/step - loss: 1.5331 - accuracy: 0.3805 - val_loss: 0.6687 - val_accuracy: 0.9870\n",
      "Epoch 25/50\n",
      "107/107 [==============================] - 92s 859ms/step - loss: 1.5323 - accuracy: 0.3822 - val_loss: 0.6526 - val_accuracy: 0.9974\n",
      "Epoch 26/50\n",
      "107/107 [==============================] - 86s 795ms/step - loss: 1.5307 - accuracy: 0.3816 - val_loss: 0.6598 - val_accuracy: 0.9974\n",
      "Epoch 27/50\n",
      "107/107 [==============================] - 86s 801ms/step - loss: 1.5308 - accuracy: 0.3836 - val_loss: 0.6518 - val_accuracy: 0.9922\n",
      "Epoch 28/50\n",
      "107/107 [==============================] - 87s 807ms/step - loss: 1.5308 - accuracy: 0.3846 - val_loss: 0.6572 - val_accuracy: 0.9896\n",
      "Epoch 29/50\n",
      "107/107 [==============================] - 88s 803ms/step - loss: 1.5297 - accuracy: 0.3895 - val_loss: 0.6405 - val_accuracy: 0.9896\n",
      "Epoch 30/50\n",
      "107/107 [==============================] - 88s 817ms/step - loss: 1.5283 - accuracy: 0.3869 - val_loss: 0.6271 - val_accuracy: 0.9844\n",
      "Epoch 31/50\n",
      "107/107 [==============================] - 86s 799ms/step - loss: 1.5306 - accuracy: 0.3889 - val_loss: 0.6535 - val_accuracy: 0.9896\n",
      "Epoch 32/50\n",
      "107/107 [==============================] - 88s 810ms/step - loss: 1.5287 - accuracy: 0.3860 - val_loss: 0.6294 - val_accuracy: 0.9922\n",
      "Epoch 33/50\n",
      "107/107 [==============================] - 88s 816ms/step - loss: 1.5279 - accuracy: 0.3891 - val_loss: 0.6553 - val_accuracy: 0.9844\n",
      "Epoch 34/50\n",
      "107/107 [==============================] - 92s 855ms/step - loss: 1.5278 - accuracy: 0.3868 - val_loss: 0.6300 - val_accuracy: 0.9974\n",
      "Epoch 35/50\n",
      "107/107 [==============================] - 87s 807ms/step - loss: 1.5266 - accuracy: 0.3915 - val_loss: 0.6200 - val_accuracy: 0.9948\n",
      "Epoch 36/50\n",
      "107/107 [==============================] - 87s 809ms/step - loss: 1.5251 - accuracy: 0.3929 - val_loss: 0.6301 - val_accuracy: 0.9948\n",
      "Epoch 37/50\n",
      "107/107 [==============================] - 87s 803ms/step - loss: 1.5241 - accuracy: 0.3884 - val_loss: 0.6210 - val_accuracy: 0.9948\n",
      "Epoch 38/50\n",
      "107/107 [==============================] - 86s 800ms/step - loss: 1.5251 - accuracy: 0.3919 - val_loss: 0.6259 - val_accuracy: 0.9922\n",
      "Epoch 39/50\n",
      "107/107 [==============================] - 87s 805ms/step - loss: 1.5239 - accuracy: 0.3891 - val_loss: 0.6271 - val_accuracy: 0.9870\n",
      "Epoch 40/50\n",
      "107/107 [==============================] - 87s 800ms/step - loss: 1.5227 - accuracy: 0.3879 - val_loss: 0.6104 - val_accuracy: 0.9948\n",
      "Epoch 41/50\n",
      "107/107 [==============================] - 88s 811ms/step - loss: 1.5212 - accuracy: 0.3892 - val_loss: 0.5980 - val_accuracy: 0.9948\n",
      "Epoch 42/50\n",
      "107/107 [==============================] - 88s 816ms/step - loss: 1.5239 - accuracy: 0.3926 - val_loss: 0.6140 - val_accuracy: 0.9922\n",
      "Epoch 43/50\n",
      "107/107 [==============================] - 87s 811ms/step - loss: 1.5224 - accuracy: 0.3860 - val_loss: 0.6093 - val_accuracy: 0.9870\n",
      "Epoch 44/50\n",
      "107/107 [==============================] - 89s 827ms/step - loss: 1.5223 - accuracy: 0.3951 - val_loss: 0.6127 - val_accuracy: 0.9922\n",
      "Epoch 45/50\n",
      "107/107 [==============================] - 86s 794ms/step - loss: 1.5229 - accuracy: 0.3928 - val_loss: 0.6268 - val_accuracy: 0.9974\n",
      "Epoch 46/50\n",
      "107/107 [==============================] - 87s 808ms/step - loss: 1.5217 - accuracy: 0.3943 - val_loss: 0.5977 - val_accuracy: 0.9974\n",
      "Epoch 47/50\n",
      "107/107 [==============================] - 87s 808ms/step - loss: 1.5226 - accuracy: 0.3897 - val_loss: 0.5963 - val_accuracy: 0.9948\n",
      "Epoch 48/50\n",
      "107/107 [==============================] - 86s 798ms/step - loss: 1.5210 - accuracy: 0.3921 - val_loss: 0.6012 - val_accuracy: 0.9974\n",
      "Epoch 49/50\n",
      "107/107 [==============================] - 87s 810ms/step - loss: 1.5232 - accuracy: 0.3934 - val_loss: 0.5915 - val_accuracy: 1.0000\n",
      "Epoch 50/50\n",
      "107/107 [==============================] - 87s 810ms/step - loss: 1.5211 - accuracy: 0.3938 - val_loss: 0.6077 - val_accuracy: 1.0000\n"
     ]
    }
   ],
   "source": [
    "efficient_history = efficient_model.fit(augmented_train, epochs=50, batch_size=128, callbacks=[early_stopper], verbose=1, validation_data=validation)"
   ]
  },
  {
   "cell_type": "code",
   "execution_count": 18,
   "id": "6b65b3ad",
   "metadata": {
    "execution": {
     "iopub.execute_input": "2023-05-08T15:02:40.438323Z",
     "iopub.status.busy": "2023-05-08T15:02:40.437947Z",
     "iopub.status.idle": "2023-05-08T15:55:21.301708Z",
     "shell.execute_reply": "2023-05-08T15:55:21.300767Z"
    },
    "id": "JoBRfPHRrfCc",
    "papermill": {
     "duration": 3162.065858,
     "end_time": "2023-05-08T15:55:21.955875",
     "exception": false,
     "start_time": "2023-05-08T15:02:39.890017",
     "status": "completed"
    },
    "tags": []
   },
   "outputs": [
    {
     "name": "stdout",
     "output_type": "stream",
     "text": [
      "Epoch 1/50\n",
      "107/107 [==============================] - 108s 906ms/step - loss: 1.8159 - accuracy: 0.2162 - val_loss: 1.4206 - val_accuracy: 0.6432\n",
      "Epoch 2/50\n",
      "107/107 [==============================] - 102s 947ms/step - loss: 1.6719 - accuracy: 0.2451 - val_loss: 1.3567 - val_accuracy: 0.7135\n",
      "Epoch 3/50\n",
      "107/107 [==============================] - 98s 907ms/step - loss: 1.6342 - accuracy: 0.2650 - val_loss: 1.1267 - val_accuracy: 0.8047\n",
      "Epoch 4/50\n",
      "107/107 [==============================] - 98s 902ms/step - loss: 1.6148 - accuracy: 0.2766 - val_loss: 1.1045 - val_accuracy: 0.8385\n",
      "Epoch 5/50\n",
      "107/107 [==============================] - 104s 960ms/step - loss: 1.5999 - accuracy: 0.2878 - val_loss: 1.1636 - val_accuracy: 0.8594\n",
      "Epoch 6/50\n",
      "107/107 [==============================] - 98s 905ms/step - loss: 1.5897 - accuracy: 0.2992 - val_loss: 1.0708 - val_accuracy: 0.8490\n",
      "Epoch 7/50\n",
      "107/107 [==============================] - 97s 900ms/step - loss: 1.5835 - accuracy: 0.3072 - val_loss: 1.0319 - val_accuracy: 0.8984\n",
      "Epoch 8/50\n",
      "107/107 [==============================] - 98s 902ms/step - loss: 1.5779 - accuracy: 0.3045 - val_loss: 1.0432 - val_accuracy: 0.8828\n",
      "Epoch 9/50\n",
      "107/107 [==============================] - 97s 899ms/step - loss: 1.5737 - accuracy: 0.3118 - val_loss: 1.2072 - val_accuracy: 0.8698\n",
      "Epoch 10/50\n",
      "107/107 [==============================] - 98s 910ms/step - loss: 1.5714 - accuracy: 0.3205 - val_loss: 1.1277 - val_accuracy: 0.8828\n",
      "Epoch 11/50\n",
      "107/107 [==============================] - 99s 914ms/step - loss: 1.5685 - accuracy: 0.3279 - val_loss: 0.9611 - val_accuracy: 0.9193\n",
      "Epoch 12/50\n",
      "107/107 [==============================] - 98s 905ms/step - loss: 1.5665 - accuracy: 0.3235 - val_loss: 0.9547 - val_accuracy: 0.8802\n",
      "Epoch 13/50\n",
      "107/107 [==============================] - 99s 911ms/step - loss: 1.5659 - accuracy: 0.3196 - val_loss: 0.9283 - val_accuracy: 0.8802\n",
      "Epoch 14/50\n",
      "107/107 [==============================] - 97s 901ms/step - loss: 1.5645 - accuracy: 0.3226 - val_loss: 0.9325 - val_accuracy: 0.8880\n",
      "Epoch 15/50\n",
      "107/107 [==============================] - 103s 947ms/step - loss: 1.5610 - accuracy: 0.3290 - val_loss: 0.9327 - val_accuracy: 0.8255\n",
      "Epoch 16/50\n",
      "107/107 [==============================] - 97s 901ms/step - loss: 1.5619 - accuracy: 0.3260 - val_loss: 0.8992 - val_accuracy: 0.9089\n",
      "Epoch 17/50\n",
      "107/107 [==============================] - 97s 897ms/step - loss: 1.5598 - accuracy: 0.3264 - val_loss: 0.8967 - val_accuracy: 0.8776\n",
      "Epoch 18/50\n",
      "107/107 [==============================] - 93s 859ms/step - loss: 1.5586 - accuracy: 0.3318 - val_loss: 0.8991 - val_accuracy: 0.8724\n",
      "Epoch 19/50\n",
      "107/107 [==============================] - 97s 901ms/step - loss: 1.5556 - accuracy: 0.3377 - val_loss: 0.8613 - val_accuracy: 0.9245\n",
      "Epoch 20/50\n",
      "107/107 [==============================] - 97s 896ms/step - loss: 1.5563 - accuracy: 0.3359 - val_loss: 0.8525 - val_accuracy: 0.9115\n",
      "Epoch 21/50\n",
      "107/107 [==============================] - 96s 890ms/step - loss: 1.5561 - accuracy: 0.3399 - val_loss: 0.8580 - val_accuracy: 0.8984\n",
      "Epoch 22/50\n",
      "107/107 [==============================] - 98s 905ms/step - loss: 1.5557 - accuracy: 0.3353 - val_loss: 0.8604 - val_accuracy: 0.8802\n",
      "Epoch 23/50\n",
      "107/107 [==============================] - 97s 901ms/step - loss: 1.5537 - accuracy: 0.3398 - val_loss: 0.8770 - val_accuracy: 0.8828\n",
      "Epoch 24/50\n",
      "107/107 [==============================] - 98s 900ms/step - loss: 1.5521 - accuracy: 0.3397 - val_loss: 0.8617 - val_accuracy: 0.8880\n",
      "Epoch 25/50\n",
      "107/107 [==============================] - ETA: 0s - loss: 1.5526 - accuracy: 0.3378Restoring model weights from the end of the best epoch: 20.\n",
      "107/107 [==============================] - 103s 948ms/step - loss: 1.5526 - accuracy: 0.3378 - val_loss: 0.8792 - val_accuracy: 0.9167\n",
      "Epoch 25: early stopping\n"
     ]
    }
   ],
   "source": [
    "vgg_history = vgg_model.fit(augmented_train, epochs=50, batch_size=128, callbacks=[early_stopper], verbose=1, validation_data=validation)"
   ]
  },
  {
   "cell_type": "markdown",
   "id": "f8eabb2d",
   "metadata": {
    "id": "t0nA3B4xmQvy",
    "papermill": {
     "duration": 0.668074,
     "end_time": "2023-05-08T15:55:23.365315",
     "exception": false,
     "start_time": "2023-05-08T15:55:22.697241",
     "status": "completed"
    },
    "tags": []
   },
   "source": [
    "#### Loss VS Epoch "
   ]
  },
  {
   "cell_type": "code",
   "execution_count": 19,
   "id": "958cbcae",
   "metadata": {
    "execution": {
     "iopub.execute_input": "2023-05-08T15:55:24.896030Z",
     "iopub.status.busy": "2023-05-08T15:55:24.895687Z",
     "iopub.status.idle": "2023-05-08T15:55:24.901688Z",
     "shell.execute_reply": "2023-05-08T15:55:24.900758Z"
    },
    "id": "EPE0Jt9Gwzy9",
    "papermill": {
     "duration": 0.689028,
     "end_time": "2023-05-08T15:55:24.903578",
     "exception": false,
     "start_time": "2023-05-08T15:55:24.214550",
     "status": "completed"
    },
    "tags": []
   },
   "outputs": [],
   "source": [
    "def plotLossVSEpoch(model_history, model):\n",
    "    plt.plot(model_history.history['loss'])\n",
    "    plt.plot(model_history.history['val_loss'])\n",
    "    plt.title('{} Loss vs Epoch'.format(model))\n",
    "    plt.ylabel('Loss')\n",
    "    plt.xlabel('Epochs')\n",
    "    plt.legend(['Train', 'Validation'], loc='best')\n",
    "    plt.show()"
   ]
  },
  {
   "cell_type": "code",
   "execution_count": 20,
   "id": "19cd9298",
   "metadata": {
    "execution": {
     "iopub.execute_input": "2023-05-08T15:55:26.368983Z",
     "iopub.status.busy": "2023-05-08T15:55:26.367941Z",
     "iopub.status.idle": "2023-05-08T15:55:26.625864Z",
     "shell.execute_reply": "2023-05-08T15:55:26.625015Z"
    },
    "id": "DXISAsXjmQvy",
    "papermill": {
     "duration": 1.043234,
     "end_time": "2023-05-08T15:55:26.627998",
     "exception": false,
     "start_time": "2023-05-08T15:55:25.584764",
     "status": "completed"
    },
    "tags": []
   },
   "outputs": [
    {
     "data": {
      "image/png": "[encoded data removed]",
      "text/plain": [
       "<Figure size 640x480 with 1 Axes>"
      ]
     },
     "metadata": {},
     "output_type": "display_data"
    }
   ],
   "source": [
    "plotLossVSEpoch(resnet_history, 'ResNet50')"
   ]
  },
  {
   "cell_type": "code",
   "execution_count": 21,
   "id": "331925d4",
   "metadata": {
    "execution": {
     "iopub.execute_input": "2023-05-08T15:55:28.026102Z",
     "iopub.status.busy": "2023-05-08T15:55:28.025752Z",
     "iopub.status.idle": "2023-05-08T15:55:28.263489Z",
     "shell.execute_reply": "2023-05-08T15:55:28.262564Z"
    },
    "id": "xfl9G8eJscWi",
    "papermill": {
     "duration": 0.919713,
     "end_time": "2023-05-08T15:55:28.265521",
     "exception": false,
     "start_time": "2023-05-08T15:55:27.345808",
     "status": "completed"
    },
    "tags": []
   },
   "outputs": [
    {
     "data": {
      "image/png": "[encoded data removed]",
      "text/plain": [
       "<Figure size 640x480 with 1 Axes>"
      ]
     },
     "metadata": {},
     "output_type": "display_data"
    }
   ],
   "source": [
    "plotLossVSEpoch(efficient_history, 'EfficientNetB0')"
   ]
  },
  {
   "cell_type": "code",
   "execution_count": 22,
   "id": "4aef6d8d",
   "metadata": {
    "execution": {
     "iopub.execute_input": "2023-05-08T15:55:29.977623Z",
     "iopub.status.busy": "2023-05-08T15:55:29.977197Z",
     "iopub.status.idle": "2023-05-08T15:55:30.256022Z",
     "shell.execute_reply": "2023-05-08T15:55:30.255191Z"
    },
    "id": "6-0rlZPrmQvy",
    "papermill": {
     "duration": 1.306729,
     "end_time": "2023-05-08T15:55:30.258712",
     "exception": false,
     "start_time": "2023-05-08T15:55:28.951983",
     "status": "completed"
    },
    "tags": []
   },
   "outputs": [
    {
     "data": {
      "image/png": "[encoded data removed]",
      "text/plain": [
       "<Figure size 640x480 with 1 Axes>"
      ]
     },
     "metadata": {},
     "output_type": "display_data"
    }
   ],
   "source": [
    "plotLossVSEpoch(vgg_history, 'VGG16')"
   ]
  },
  {
   "cell_type": "markdown",
   "id": "71c42904",
   "metadata": {
    "id": "4JDHsHIHrwRf",
    "papermill": {
     "duration": 0.759181,
     "end_time": "2023-05-08T15:55:31.824297",
     "exception": false,
     "start_time": "2023-05-08T15:55:31.065116",
     "status": "completed"
    },
    "tags": []
   },
   "source": [
    "### Getting the Predictions"
   ]
  },
  {
   "cell_type": "markdown",
   "id": "d4821b5b",
   "metadata": {
    "id": "VQsibDtSMiDY",
    "papermill": {
     "duration": 0.677822,
     "end_time": "2023-05-08T15:55:33.192051",
     "exception": false,
     "start_time": "2023-05-08T15:55:32.514229",
     "status": "completed"
    },
    "tags": []
   },
   "source": [
    "#### Train"
   ]
  },
  {
   "cell_type": "code",
   "execution_count": 23,
   "id": "ac05f65c",
   "metadata": {
    "execution": {
     "iopub.execute_input": "2023-05-08T15:55:34.626100Z",
     "iopub.status.busy": "2023-05-08T15:55:34.625359Z",
     "iopub.status.idle": "2023-05-08T16:00:55.728513Z",
     "shell.execute_reply": "2023-05-08T16:00:55.727510Z"
    },
    "id": "xnAQpac0173X",
    "papermill": {
     "duration": 321.772108,
     "end_time": "2023-05-08T16:00:55.730769",
     "exception": false,
     "start_time": "2023-05-08T15:55:33.958661",
     "status": "completed"
    },
    "tags": []
   },
   "outputs": [
    {
     "name": "stdout",
     "output_type": "stream",
     "text": [
      "107/107 [==============================] - 89s 814ms/step\n",
      "107/107 [==============================] - 84s 770ms/step\n",
      "107/107 [==============================] - 93s 869ms/step\n"
     ]
    }
   ],
   "source": [
    "train_resnet_probabilities = resnet_model.predict(augmented_train)\n",
    "train_efficient_probabilities = efficient_model.predict(augmented_train)\n",
    "train_vgg_probabilities = vgg_model.predict(augmented_train)\n",
    "\n",
    "# Pick class with highest probabilty\n",
    "train_resnet_prediction = np.argmax(train_resnet_probabilities, axis=1)\n",
    "train_efficient_prediction = np.argmax(train_efficient_probabilities, axis=1)\n",
    "train_vgg_prediction = np.argmax(train_vgg_probabilities, axis=1)"
   ]
  },
  {
   "cell_type": "markdown",
   "id": "a0c03e94",
   "metadata": {
    "id": "zZHUZAUUMiDZ",
    "papermill": {
     "duration": 0.718928,
     "end_time": "2023-05-08T16:00:57.228686",
     "exception": false,
     "start_time": "2023-05-08T16:00:56.509758",
     "status": "completed"
    },
    "tags": []
   },
   "source": [
    "#### Test"
   ]
  },
  {
   "cell_type": "code",
   "execution_count": 24,
   "id": "0cee4849",
   "metadata": {
    "execution": {
     "iopub.execute_input": "2023-05-08T16:00:58.743418Z",
     "iopub.status.busy": "2023-05-08T16:00:58.743068Z",
     "iopub.status.idle": "2023-05-08T16:01:21.446944Z",
     "shell.execute_reply": "2023-05-08T16:01:21.446006Z"
    },
    "id": "4QnNu7X7rxhZ",
    "papermill": {
     "duration": 23.4195,
     "end_time": "2023-05-08T16:01:21.449143",
     "exception": false,
     "start_time": "2023-05-08T16:00:58.029643",
     "status": "completed"
    },
    "tags": []
   },
   "outputs": [
    {
     "name": "stdout",
     "output_type": "stream",
     "text": [
      "3/3 [==============================] - 6s 2s/step\n",
      "3/3 [==============================] - 6s 2s/step\n",
      "3/3 [==============================] - 6s 2s/step\n"
     ]
    }
   ],
   "source": [
    "test_resnet_probabilities = resnet_model.predict(test_dataset)\n",
    "test_efficient_probabilities = efficient_model.predict(test_dataset)\n",
    "test_vgg_probabilities = vgg_model.predict(test_dataset)\n",
    "\n",
    "# Pick class with highest probabilty\n",
    "test_resnet_prediction = np.argmax(test_resnet_probabilities, axis=1)\n",
    "test_efficient_prediction = np.argmax(test_efficient_probabilities, axis=1)\n",
    "test_vgg_prediction = np.argmax(test_vgg_probabilities, axis=1)"
   ]
  },
  {
   "cell_type": "markdown",
   "id": "ce58a79b",
   "metadata": {
    "id": "OCgJlCAnxj0-",
    "papermill": {
     "duration": 0.787218,
     "end_time": "2023-05-08T16:01:22.932050",
     "exception": false,
     "start_time": "2023-05-08T16:01:22.144832",
     "status": "completed"
    },
    "tags": []
   },
   "source": [
    "### Analysis of Image Models"
   ]
  },
  {
   "cell_type": "code",
   "execution_count": 25,
   "id": "0ec619b1",
   "metadata": {
    "execution": {
     "iopub.execute_input": "2023-05-08T16:01:24.323277Z",
     "iopub.status.busy": "2023-05-08T16:01:24.322865Z",
     "iopub.status.idle": "2023-05-08T16:01:24.328516Z",
     "shell.execute_reply": "2023-05-08T16:01:24.327547Z"
    },
    "id": "e_s-Ccv4zoKX",
    "papermill": {
     "duration": 0.702869,
     "end_time": "2023-05-08T16:01:24.330156",
     "exception": false,
     "start_time": "2023-05-08T16:01:23.627287",
     "status": "completed"
    },
    "tags": []
   },
   "outputs": [],
   "source": [
    "def findaccuracy(y_true, y_pred):\n",
    "    # Intitializing variable to store count of correctly predicted classes\n",
    "    correct_predictions = 0    \n",
    "    for yt, yp in zip(y_true, y_pred):\n",
    "        if yt == yp:            \n",
    "            correct_predictions += 1\n",
    "    return correct_predictions / len(y_true)"
   ]
  },
  {
   "cell_type": "code",
   "execution_count": 26,
   "id": "f50f6100",
   "metadata": {
    "execution": {
     "iopub.execute_input": "2023-05-08T16:01:25.805516Z",
     "iopub.status.busy": "2023-05-08T16:01:25.804659Z",
     "iopub.status.idle": "2023-05-08T16:01:25.813913Z",
     "shell.execute_reply": "2023-05-08T16:01:25.812845Z"
    },
    "id": "972PltMtzoIF",
    "papermill": {
     "duration": 0.709114,
     "end_time": "2023-05-08T16:01:25.815880",
     "exception": false,
     "start_time": "2023-05-08T16:01:25.106766",
     "status": "completed"
    },
    "tags": []
   },
   "outputs": [],
   "source": [
    "# Functions to compute True Positives, True Negatives, False Positives and False Negatives\n",
    "def true_positive(y_true, y_pred):\n",
    "    tp = 0\n",
    "    for yt, yp in zip(y_true, y_pred):        \n",
    "        if yt == 1 and yp == 1:\n",
    "            tp += 1\n",
    "    return tp\n",
    "\n",
    "def true_negative(y_true, y_pred):    \n",
    "    tn = 0\n",
    "    for yt, yp in zip(y_true, y_pred):        \n",
    "        if yt == 0 and yp == 0:\n",
    "            tn += 1\n",
    "    return tn\n",
    "\n",
    "def false_positive(y_true, y_pred):    \n",
    "    fp = 0\n",
    "    for yt, yp in zip(y_true, y_pred):\n",
    "        if yt == 0 and yp == 1:\n",
    "            fp += 1            \n",
    "    return fp\n",
    "\n",
    "def false_negative(y_true, y_pred):\n",
    "    fn = 0    \n",
    "    for yt, yp in zip(y_true, y_pred):\n",
    "        if yt == 1 and yp == 0:\n",
    "            fn += 1            \n",
    "    return fn\n",
    "#Computation of macro-averaged precision\n",
    "\n",
    "def macro_precision(y_true, y_pred):\n",
    "    # find the number of classes\n",
    "    num_classes = len(np.unique(y_true))\n",
    "    # initialize precision to 0\n",
    "    precision = 0\n",
    "    # loop over all classes\n",
    "    for class_ in np.unique(y_true):\n",
    "        # all classes except current are considered negative\n",
    "        temp_true = [1 if p == class_ else 0 for p in y_true]\n",
    "        temp_pred = [1 if p == class_ else 0 for p in y_pred]\n",
    "        # compute true positive for current class\n",
    "        tp = true_positive(temp_true, temp_pred)\n",
    "        # compute false positive for current class\n",
    "        fp = false_positive(temp_true, temp_pred)\n",
    "        # compute precision for current class\n",
    "        temp_precision = tp / (tp + fp + 1e-6)\n",
    "        # keep adding precision for all classes\n",
    "        precision += temp_precision\n",
    "    # calculate and return average precision over all classes\n",
    "    precision /= num_classes\n",
    "    return precision"
   ]
  },
  {
   "cell_type": "code",
   "execution_count": 27,
   "id": "eefe4cee",
   "metadata": {
    "execution": {
     "iopub.execute_input": "2023-05-08T16:01:27.443642Z",
     "iopub.status.busy": "2023-05-08T16:01:27.443263Z",
     "iopub.status.idle": "2023-05-08T16:01:27.449694Z",
     "shell.execute_reply": "2023-05-08T16:01:27.448739Z"
    },
    "id": "t06mVemxzoFW",
    "papermill": {
     "duration": 0.930327,
     "end_time": "2023-05-08T16:01:27.451678",
     "exception": false,
     "start_time": "2023-05-08T16:01:26.521351",
     "status": "completed"
    },
    "tags": []
   },
   "outputs": [],
   "source": [
    "def macro_recall(y_true, y_pred):\n",
    "    # find the number of classes\n",
    "    num_classes = len(np.unique(y_true))\n",
    "    # initialize recall to 0\n",
    "    recall = 0\n",
    "    # loop over all classes\n",
    "    for class_ in np.unique(y_true):\n",
    "        # all classes except current are considered negative\n",
    "        temp_true = [1 if p == class_ else 0 for p in y_true]\n",
    "        temp_pred = [1 if p == class_ else 0 for p in y_pred]\n",
    "        # compute true positive for current class\n",
    "        tp = true_positive(temp_true, temp_pred)\n",
    "        # compute false negative for current class\n",
    "        fn = false_negative(temp_true, temp_pred)\n",
    "        # compute recall for current class\n",
    "        temp_recall = tp / (tp + fn + 1e-6)\n",
    "        # keep adding recall for all classes\n",
    "        recall += temp_recall\n",
    "    # calculate and return average recall over all classes\n",
    "    recall /= num_classes\n",
    "    return recall"
   ]
  },
  {
   "cell_type": "code",
   "execution_count": 28,
   "id": "9aeac257",
   "metadata": {
    "execution": {
     "iopub.execute_input": "2023-05-08T16:01:28.964668Z",
     "iopub.status.busy": "2023-05-08T16:01:28.964316Z",
     "iopub.status.idle": "2023-05-08T16:01:28.971015Z",
     "shell.execute_reply": "2023-05-08T16:01:28.970089Z"
    },
    "id": "VUMhIDtZzoAw",
    "papermill": {
     "duration": 0.815283,
     "end_time": "2023-05-08T16:01:28.972938",
     "exception": false,
     "start_time": "2023-05-08T16:01:28.157655",
     "status": "completed"
    },
    "tags": []
   },
   "outputs": [],
   "source": [
    "def macro_f1(y_true, y_pred):\n",
    "    # find the number of classes\n",
    "    num_classes = len(np.unique(y_true))\n",
    "    # initialize f1 to 0\n",
    "    f1 = 0\n",
    "    # loop over all classes\n",
    "    for class_ in np.unique(y_true):\n",
    "        # all classes except current are considered negative\n",
    "        temp_true = [1 if p == class_ else 0 for p in y_true]\n",
    "        temp_pred = [1 if p == class_ else 0 for p in y_pred]\n",
    "        # compute true positive for current class\n",
    "        tp = true_positive(temp_true, temp_pred)\n",
    "        # compute false negative for current class\n",
    "        fn = false_negative(temp_true, temp_pred)\n",
    "        # compute false positive for current class\n",
    "        fp = false_positive(temp_true, temp_pred)\n",
    "        # compute recall for current class\n",
    "        temp_recall = tp / (tp + fn + 1e-6)\n",
    "        # compute precision for current class\n",
    "        temp_precision = tp / (tp + fp + 1e-6)\n",
    "        temp_f1 = 2 * temp_precision * temp_recall / (temp_precision + temp_recall + 1e-6)\n",
    "        # keep adding f1 score for all classes\n",
    "        f1 += temp_f1\n",
    "    # calculate and return average f1 score over all classes\n",
    "    f1 /= num_classes\n",
    "    return f1"
   ]
  },
  {
   "cell_type": "code",
   "execution_count": 29,
   "id": "a5f272bb",
   "metadata": {
    "execution": {
     "iopub.execute_input": "2023-05-08T16:01:30.375616Z",
     "iopub.status.busy": "2023-05-08T16:01:30.373911Z",
     "iopub.status.idle": "2023-05-08T16:01:31.003752Z",
     "shell.execute_reply": "2023-05-08T16:01:31.002790Z"
    },
    "id": "wLSDG3olxmro",
    "papermill": {
     "duration": 1.332814,
     "end_time": "2023-05-08T16:01:31.006154",
     "exception": false,
     "start_time": "2023-05-08T16:01:29.673340",
     "status": "completed"
    },
    "tags": []
   },
   "outputs": [],
   "source": [
    "from sklearn.metrics import confusion_matrix\n",
    "\n",
    "def printResults(model_name, y_true, y_prediction):\n",
    "    print(\"Results for model {}\".format(model_name))\n",
    "    # Calculate the confusion matrix\n",
    "    cm = confusion_matrix( y_true, y_prediction)\n",
    "    print(\"Confusion Matrix:\\n\", cm)\n",
    "\n",
    "    precision = macro_precision( y_true, y_prediction)\n",
    "    recall = macro_recall( y_true, y_prediction)\n",
    "    accuracy = findaccuracy( y_true, y_prediction)\n",
    "    f1 = macro_f1( y_true, y_prediction)\n",
    "\n",
    "    print(\"Precision:\", precision)\n",
    "    print(\"Recall:\", recall)\n",
    "    print(\"Accuracy:\", accuracy)\n",
    "    print(\"F1 Score:\", f1)"
   ]
  },
  {
   "cell_type": "code",
   "execution_count": 30,
   "id": "71252fcd",
   "metadata": {
    "execution": {
     "iopub.execute_input": "2023-05-08T16:01:32.538858Z",
     "iopub.status.busy": "2023-05-08T16:01:32.537993Z",
     "iopub.status.idle": "2023-05-08T16:01:37.931735Z",
     "shell.execute_reply": "2023-05-08T16:01:37.930818Z"
    },
    "id": "J4u0561EsEFR",
    "papermill": {
     "duration": 6.227611,
     "end_time": "2023-05-08T16:01:37.934109",
     "exception": false,
     "start_time": "2023-05-08T16:01:31.706498",
     "status": "completed"
    },
    "tags": []
   },
   "outputs": [],
   "source": [
    "testing_labels = []\n",
    "for img, label in (test_dataset.take(len(test_dataset))):\n",
    "  testing_labels += list(label.numpy())\n",
    "testing_labels = np.array(testing_labels)"
   ]
  },
  {
   "cell_type": "code",
   "execution_count": 31,
   "id": "a8c64d59",
   "metadata": {
    "execution": {
     "iopub.execute_input": "2023-05-08T16:01:39.423896Z",
     "iopub.status.busy": "2023-05-08T16:01:39.423511Z",
     "iopub.status.idle": "2023-05-08T16:02:47.022815Z",
     "shell.execute_reply": "2023-05-08T16:02:47.021825Z"
    },
    "id": "fDZ3R7AB2ZXZ",
    "papermill": {
     "duration": 68.397603,
     "end_time": "2023-05-08T16:02:47.025321",
     "exception": false,
     "start_time": "2023-05-08T16:01:38.627718",
     "status": "completed"
    },
    "tags": []
   },
   "outputs": [],
   "source": [
    "training_labels = []\n",
    "for img, label in (augmented_train.take(len(augmented_train))):\n",
    "  training_labels += list(label.numpy())\n",
    "training_labels = np.array(training_labels)"
   ]
  },
  {
   "cell_type": "markdown",
   "id": "83127f90",
   "metadata": {
    "id": "peH3XpD42hRn",
    "papermill": {
     "duration": 0.688792,
     "end_time": "2023-05-08T16:02:48.411069",
     "exception": false,
     "start_time": "2023-05-08T16:02:47.722277",
     "status": "completed"
    },
    "tags": []
   },
   "source": [
    "#### Train "
   ]
  },
  {
   "cell_type": "code",
   "execution_count": 32,
   "id": "f7183737",
   "metadata": {
    "execution": {
     "iopub.execute_input": "2023-05-08T16:02:49.911184Z",
     "iopub.status.busy": "2023-05-08T16:02:49.908226Z",
     "iopub.status.idle": "2023-05-08T16:02:50.014423Z",
     "shell.execute_reply": "2023-05-08T16:02:50.013273Z"
    },
    "id": "56lX7zeC2g91",
    "papermill": {
     "duration": 0.801136,
     "end_time": "2023-05-08T16:02:50.016199",
     "exception": false,
     "start_time": "2023-05-08T16:02:49.215063",
     "status": "completed"
    },
    "tags": []
   },
   "outputs": [
    {
     "name": "stdout",
     "output_type": "stream",
     "text": [
      "Results for model ResNet50\n",
      "Confusion Matrix:\n",
      " [[3001    7   63   11    2]\n",
      " [   0 2057    0    4    9]\n",
      " [   3    0 2648    0   13]\n",
      " [1238   11   18 1720   19]\n",
      " [   1   50   13    2 2806]]\n",
      "Precision: 0.9232242061433291\n",
      "Recall: 0.9020018306434938\n",
      "Accuracy: 0.893107476635514\n",
      "F1 Score: 0.897145966728783\n"
     ]
    }
   ],
   "source": [
    "printResults('ResNet50', training_labels, train_resnet_prediction)"
   ]
  },
  {
   "cell_type": "code",
   "execution_count": 33,
   "id": "6bc6567b",
   "metadata": {
    "execution": {
     "iopub.execute_input": "2023-05-08T16:02:51.421433Z",
     "iopub.status.busy": "2023-05-08T16:02:51.421000Z",
     "iopub.status.idle": "2023-05-08T16:02:51.620804Z",
     "shell.execute_reply": "2023-05-08T16:02:51.619587Z"
    },
    "id": "c8wdoODV2g4C",
    "papermill": {
     "duration": 0.91703,
     "end_time": "2023-05-08T16:02:51.623543",
     "exception": false,
     "start_time": "2023-05-08T16:02:50.706513",
     "status": "completed"
    },
    "tags": []
   },
   "outputs": [
    {
     "name": "stdout",
     "output_type": "stream",
     "text": [
      "Results for model EfficientNetB0\n",
      "Confusion Matrix:\n",
      " [[3052    0   18   11    3]\n",
      " [   0 2068    0    2    0]\n",
      " [   0    0 2655    1    8]\n",
      " [  43   10    3 2940   10]\n",
      " [   0   21    1    2 2848]]\n",
      "Precision: 0.9900774372102935\n",
      "Recall: 0.9909933335046738\n",
      "Accuracy: 0.9902891355140186\n",
      "F1 Score: 0.9905095516871224\n"
     ]
    }
   ],
   "source": [
    "printResults('EfficientNetB0', training_labels, train_efficient_prediction)"
   ]
  },
  {
   "cell_type": "code",
   "execution_count": 34,
   "id": "a19c2b31",
   "metadata": {
    "execution": {
     "iopub.execute_input": "2023-05-08T16:02:53.498984Z",
     "iopub.status.busy": "2023-05-08T16:02:53.498648Z",
     "iopub.status.idle": "2023-05-08T16:02:53.600321Z",
     "shell.execute_reply": "2023-05-08T16:02:53.599263Z"
    },
    "id": "VSBo7Jvg2gsk",
    "papermill": {
     "duration": 0.798917,
     "end_time": "2023-05-08T16:02:53.602291",
     "exception": false,
     "start_time": "2023-05-08T16:02:52.803374",
     "status": "completed"
    },
    "tags": []
   },
   "outputs": [
    {
     "name": "stdout",
     "output_type": "stream",
     "text": [
      "Results for model VGG16\n",
      "Confusion Matrix:\n",
      " [[2909    7   78   62   28]\n",
      " [   2 2028    0    8   32]\n",
      " [  11    0 2584    0   69]\n",
      " [ 932   35   50 1900   89]\n",
      " [   4   52   18    1 2797]]\n",
      "Precision: 0.9095824947108981\n",
      "Recall: 0.8997781228683731\n",
      "Accuracy: 0.8920852803738317\n",
      "F1 Score: 0.8954969708505944\n"
     ]
    }
   ],
   "source": [
    "printResults('VGG16', training_labels, train_vgg_prediction)"
   ]
  },
  {
   "cell_type": "markdown",
   "id": "750acd44",
   "metadata": {
    "id": "nhSELG_w2ike",
    "papermill": {
     "duration": 0.804387,
     "end_time": "2023-05-08T16:02:55.187617",
     "exception": false,
     "start_time": "2023-05-08T16:02:54.383230",
     "status": "completed"
    },
    "tags": []
   },
   "source": [
    "### Test"
   ]
  },
  {
   "cell_type": "code",
   "execution_count": 35,
   "id": "80ffbff5",
   "metadata": {
    "execution": {
     "iopub.execute_input": "2023-05-08T16:02:56.660451Z",
     "iopub.status.busy": "2023-05-08T16:02:56.660084Z",
     "iopub.status.idle": "2023-05-08T16:02:56.671404Z",
     "shell.execute_reply": "2023-05-08T16:02:56.670265Z"
    },
    "id": "mOSTLcixwC9E",
    "papermill": {
     "duration": 0.790061,
     "end_time": "2023-05-08T16:02:56.673698",
     "exception": false,
     "start_time": "2023-05-08T16:02:55.883637",
     "status": "completed"
    },
    "tags": []
   },
   "outputs": [
    {
     "name": "stdout",
     "output_type": "stream",
     "text": [
      "Results for model ResNet50\n",
      "Confusion Matrix:\n",
      " [[108   0   0   0   1]\n",
      " [  0  73   0   0   0]\n",
      " [  0   0  94   0   0]\n",
      " [ 34   0   0  72   0]\n",
      " [  0   0   0   0   2]]\n",
      "Precision: 0.8854459562288625\n",
      "Recall: 0.9340140862514932\n",
      "Accuracy: 0.9088541666666666\n",
      "F1 Score: 0.8939087439144714\n"
     ]
    }
   ],
   "source": [
    "printResults('ResNet50', testing_labels, test_resnet_prediction)"
   ]
  },
  {
   "cell_type": "code",
   "execution_count": 36,
   "id": "16d680c8",
   "metadata": {
    "execution": {
     "iopub.execute_input": "2023-05-08T16:02:58.128135Z",
     "iopub.status.busy": "2023-05-08T16:02:58.127707Z",
     "iopub.status.idle": "2023-05-08T16:02:58.139140Z",
     "shell.execute_reply": "2023-05-08T16:02:58.137974Z"
    },
    "id": "YXLmS4Rm1xFU",
    "papermill": {
     "duration": 0.745516,
     "end_time": "2023-05-08T16:02:58.141350",
     "exception": false,
     "start_time": "2023-05-08T16:02:57.395834",
     "status": "completed"
    },
    "tags": []
   },
   "outputs": [
    {
     "name": "stdout",
     "output_type": "stream",
     "text": [
      "Results for model EfficientNetB0\n",
      "Confusion Matrix:\n",
      " [[109   0   0   0   0]\n",
      " [  0  73   0   0   0]\n",
      " [  0   0  94   0   0]\n",
      " [  2   0   0 104   0]\n",
      " [  0   0   0   0   2]]\n",
      "Precision: 0.996396287836647\n",
      "Recall: 0.9962263065409491\n",
      "Accuracy: 0.9947916666666666\n",
      "F1 Score: 0.9962764477390322\n"
     ]
    }
   ],
   "source": [
    "printResults('EfficientNetB0', testing_labels, test_efficient_prediction)"
   ]
  },
  {
   "cell_type": "code",
   "execution_count": 37,
   "id": "10ad1730",
   "metadata": {
    "execution": {
     "iopub.execute_input": "2023-05-08T16:02:59.618143Z",
     "iopub.status.busy": "2023-05-08T16:02:59.617813Z",
     "iopub.status.idle": "2023-05-08T16:02:59.628482Z",
     "shell.execute_reply": "2023-05-08T16:02:59.627229Z"
    },
    "id": "T884KQOU1xa9",
    "papermill": {
     "duration": 0.705637,
     "end_time": "2023-05-08T16:02:59.630318",
     "exception": false,
     "start_time": "2023-05-08T16:02:58.924681",
     "status": "completed"
    },
    "tags": []
   },
   "outputs": [
    {
     "name": "stdout",
     "output_type": "stream",
     "text": [
      "Results for model VGG16\n",
      "Confusion Matrix:\n",
      " [[109   0   0   0   0]\n",
      " [  0  73   0   0   0]\n",
      " [  0   0  93   0   1]\n",
      " [ 42   0   0  63   1]\n",
      " [  0   0   0   0   2]]\n",
      "Precision: 0.8443708269061935\n",
      "Recall: 0.9167401571528749\n",
      "Accuracy: 0.8854166666666666\n",
      "F1 Score: 0.8490680161757957\n"
     ]
    }
   ],
   "source": [
    "printResults('VGG16', testing_labels, test_vgg_prediction)"
   ]
  },
  {
   "cell_type": "markdown",
   "id": "4f9dad36",
   "metadata": {
    "id": "5Xl56Kqs3FDG",
    "papermill": {
     "duration": 0.697612,
     "end_time": "2023-05-08T16:03:01.104012",
     "exception": false,
     "start_time": "2023-05-08T16:03:00.406400",
     "status": "completed"
    },
    "tags": []
   },
   "source": [
    "### Video Analysis"
   ]
  },
  {
   "cell_type": "code",
   "execution_count": null,
   "id": "73b73dd1",
   "metadata": {
    "id": "z_rE7Pi53HqO",
    "papermill": {
     "duration": 0.690991,
     "end_time": "2023-05-08T16:03:02.485828",
     "exception": false,
     "start_time": "2023-05-08T16:03:01.794837",
     "status": "completed"
    },
    "tags": []
   },
   "outputs": [],
   "source": []
  },
  {
   "cell_type": "markdown",
   "id": "f66a949e",
   "metadata": {
    "id": "BodcfKzI1_F4",
    "papermill": {
     "duration": 0.699981,
     "end_time": "2023-05-08T16:03:03.992556",
     "exception": false,
     "start_time": "2023-05-08T16:03:03.292575",
     "status": "completed"
    },
    "tags": []
   },
   "source": [
    "### References\n",
    "\n",
    "1. https://pillow.readthedocs.io/en/stable/reference/Image.html#module-PIL.Image\n",
    "\n",
    "2. https://pillow.readthedocs.io/en/stable/reference/Image.html\n",
    "\n",
    "3. https://www.geeksforgeeks.org/python-pil-image-resize-method/\n",
    "\n",
    "4. https://www.geeksforgeeks.org/convert-an-image-into-jpg-format-using-pillow-in-python/\n",
    "\n",
    "5. https://medium.com/@ajeet214/image-type-conversion-jpg-png-jpg-webp-png-webp-with-python-7d5df09394c9"
   ]
  }
 ],
 "metadata": {
  "kernelspec": {
   "display_name": "Python 3",
   "language": "python",
   "name": "python3"
  },
  "language_info": {
   "codemirror_mode": {
    "name": "ipython",
    "version": 3
   },
   "file_extension": ".py",
   "mimetype": "text/x-python",
   "name": "python",
   "nbconvert_exporter": "python",
   "pygments_lexer": "ipython3",
   "version": "3.10.10"
  },
  "papermill": {
   "default_parameters": {},
   "duration": 14476.416116,
   "end_time": "2023-05-08T16:03:08.173241",
   "environment_variables": {},
   "exception": null,
   "input_path": "__notebook__.ipynb",
   "output_path": "__notebook__.ipynb",
   "parameters": {},
   "start_time": "2023-05-08T12:01:51.757125",
   "version": "2.4.0"
  }
 },
 "nbformat": 4,
 "nbformat_minor": 5
}
