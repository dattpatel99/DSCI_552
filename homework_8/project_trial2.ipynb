{
 "cells": [
  {
   "cell_type": "code",
   "execution_count": 1,
   "id": "1c2d9edb",
   "metadata": {
    "execution": {
     "iopub.execute_input": "2023-05-08T20:12:33.878751Z",
     "iopub.status.busy": "2023-05-08T20:12:33.877727Z",
     "iopub.status.idle": "2023-05-08T20:12:40.312044Z",
     "shell.execute_reply": "2023-05-08T20:12:40.311114Z"
    },
    "id": "zuocW4vSOTeX",
    "papermill": {
     "duration": 6.446893,
     "end_time": "2023-05-08T20:12:40.314481",
     "exception": false,
     "start_time": "2023-05-08T20:12:33.867588",
     "status": "completed"
    },
    "tags": []
   },
   "outputs": [
    {
     "name": "stderr",
     "output_type": "stream",
     "text": [
      "/opt/conda/lib/python3.10/site-packages/scipy/__init__.py:146: UserWarning: A NumPy version >=1.16.5 and <1.23.0 is required for this version of SciPy (detected version 1.23.5\n",
      "  warnings.warn(f\"A NumPy version >={np_minversion} and <{np_maxversion}\"\n"
     ]
    }
   ],
   "source": [
    "import tensorflow as tf\n",
    "import matplotlib.pyplot as plt\n",
    "import numpy as np\n",
    "import shutil\n",
    "import os\n",
    "import glob"
   ]
  },
  {
   "cell_type": "code",
   "execution_count": 2,
   "id": "8685cf04",
   "metadata": {
    "execution": {
     "iopub.execute_input": "2023-05-08T20:12:40.332857Z",
     "iopub.status.busy": "2023-05-08T20:12:40.332309Z",
     "iopub.status.idle": "2023-05-08T20:12:40.336536Z",
     "shell.execute_reply": "2023-05-08T20:12:40.335699Z"
    },
    "id": "iEdpV8G5O5_7",
    "papermill": {
     "duration": 0.015105,
     "end_time": "2023-05-08T20:12:40.338320",
     "exception": false,
     "start_time": "2023-05-08T20:12:40.323215",
     "status": "completed"
    },
    "tags": []
   },
   "outputs": [],
   "source": [
    "IMG_WID, IMG_HG = 256, 256\n",
    "IMG_SIZE = (IMG_WID, IMG_HG)"
   ]
  },
  {
   "cell_type": "code",
   "execution_count": 3,
   "id": "e7a69654",
   "metadata": {
    "execution": {
     "iopub.execute_input": "2023-05-08T20:12:40.356534Z",
     "iopub.status.busy": "2023-05-08T20:12:40.355604Z",
     "iopub.status.idle": "2023-05-08T20:12:40.360063Z",
     "shell.execute_reply": "2023-05-08T20:12:40.359316Z"
    },
    "id": "_l3nS2vGOFYW",
    "papermill": {
     "duration": 0.015452,
     "end_time": "2023-05-08T20:12:40.361931",
     "exception": false,
     "start_time": "2023-05-08T20:12:40.346479",
     "status": "completed"
    },
    "tags": []
   },
   "outputs": [],
   "source": [
    "data_images = '/kaggle/input/project-images/Data/Sport Images'\n",
    "data_video = '/kaggle/input/project-images/Data/Sport Videos'"
   ]
  },
  {
   "cell_type": "markdown",
   "id": "507daabc",
   "metadata": {
    "id": "SgwSihQO1RXV",
    "papermill": {
     "duration": 0.007926,
     "end_time": "2023-05-08T20:12:40.377917",
     "exception": false,
     "start_time": "2023-05-08T20:12:40.369991",
     "status": "completed"
    },
    "tags": []
   },
   "source": [
    "# Creating the required dataset"
   ]
  },
  {
   "cell_type": "code",
   "execution_count": 4,
   "id": "06af199b",
   "metadata": {
    "execution": {
     "iopub.execute_input": "2023-05-08T20:12:40.395556Z",
     "iopub.status.busy": "2023-05-08T20:12:40.395034Z",
     "iopub.status.idle": "2023-05-08T20:12:40.401209Z",
     "shell.execute_reply": "2023-05-08T20:12:40.400460Z"
    },
    "id": "DsNl8q4jmQvu",
    "papermill": {
     "duration": 0.016955,
     "end_time": "2023-05-08T20:12:40.402961",
     "exception": false,
     "start_time": "2023-05-08T20:12:40.386006",
     "status": "completed"
    },
    "tags": []
   },
   "outputs": [],
   "source": [
    "def split_folders(image_path, label_count):\n",
    "    dataset = tf.keras.utils.image_dataset_from_directory(image_path,labels=None,label_mode='int',color_mode='rgb',batch_size=None,image_size=IMG_SIZE,seed=20)\n",
    "    dataset = dataset.map(lambda x: (x, label_count))\n",
    "    total_file = len(dataset)\n",
    "    train_size, val_size = int(np.ceil(total_file*0.7)), int(np.ceil(total_file*0.15))\n",
    "    test_size = total_file - (train_size + val_size)\n",
    "    train = dataset.take(train_size)\n",
    "    val = dataset.skip(train_size).take(val_size)\n",
    "    test = dataset.skip(train_size + val_size).take(test_size)\n",
    "    return [train, val, test]"
   ]
  },
  {
   "cell_type": "code",
   "execution_count": 5,
   "id": "8978cfe6",
   "metadata": {
    "execution": {
     "iopub.execute_input": "2023-05-08T20:12:40.420886Z",
     "iopub.status.busy": "2023-05-08T20:12:40.420063Z",
     "iopub.status.idle": "2023-05-08T20:12:43.995593Z",
     "shell.execute_reply": "2023-05-08T20:12:43.994626Z"
    },
    "id": "KUf_5OKhPwZy",
    "outputId": "49a50048-ea6d-48d5-a5b9-decdeb41df1a",
    "papermill": {
     "duration": 3.586668,
     "end_time": "2023-05-08T20:12:43.997625",
     "exception": false,
     "start_time": "2023-05-08T20:12:40.410957",
     "status": "completed"
    },
    "tags": []
   },
   "outputs": [
    {
     "name": "stdout",
     "output_type": "stream",
     "text": [
      "Found 734 files belonging to 1 classes.\n",
      "Found 492 files belonging to 1 classes.\n",
      "Found 634 files belonging to 1 classes.\n",
      "Found 715 files belonging to 1 classes.\n",
      "Found 704 files belonging to 1 classes.\n"
     ]
    }
   ],
   "source": [
    "classes = ['baseball','basketball','fencing','tennis','volleyball']\n",
    "data_sets = []\n",
    "for idx in range(len(classes)):\n",
    "    data_sets.append(split_folders(data_images+'/'+classes[idx], idx))"
   ]
  },
  {
   "cell_type": "code",
   "execution_count": 6,
   "id": "c08e7ebe",
   "metadata": {
    "execution": {
     "iopub.execute_input": "2023-05-08T20:12:44.016580Z",
     "iopub.status.busy": "2023-05-08T20:12:44.015726Z",
     "iopub.status.idle": "2023-05-08T20:12:44.027351Z",
     "shell.execute_reply": "2023-05-08T20:12:44.026528Z"
    },
    "id": "3-HhAKNEMiDU",
    "papermill": {
     "duration": 0.022852,
     "end_time": "2023-05-08T20:12:44.029158",
     "exception": false,
     "start_time": "2023-05-08T20:12:44.006306",
     "status": "completed"
    },
    "tags": []
   },
   "outputs": [],
   "source": [
    "train, val, test = data_sets[0][0],data_sets[0][1],data_sets[0][2]\n",
    "for t, v, tst in data_sets[1:]:\n",
    "    train = train.concatenate(t)\n",
    "    val = val.concatenate(v)\n",
    "    test = test.concatenate(tst)"
   ]
  },
  {
   "cell_type": "markdown",
   "id": "51e11ed5",
   "metadata": {
    "id": "svVTxzl-dgPB",
    "papermill": {
     "duration": 0.008195,
     "end_time": "2023-05-08T20:12:44.045736",
     "exception": false,
     "start_time": "2023-05-08T20:12:44.037541",
     "status": "completed"
    },
    "tags": []
   },
   "source": [
    "# Data Augmentation"
   ]
  },
  {
   "cell_type": "code",
   "execution_count": 7,
   "id": "2e66d9b6",
   "metadata": {
    "execution": {
     "iopub.execute_input": "2023-05-08T20:12:44.063667Z",
     "iopub.status.busy": "2023-05-08T20:12:44.063389Z",
     "iopub.status.idle": "2023-05-08T20:12:44.076078Z",
     "shell.execute_reply": "2023-05-08T20:12:44.075063Z"
    },
    "id": "8noPqsnh3Wmg",
    "papermill": {
     "duration": 0.023784,
     "end_time": "2023-05-08T20:12:44.077825",
     "exception": false,
     "start_time": "2023-05-08T20:12:44.054041",
     "status": "completed"
    },
    "tags": []
   },
   "outputs": [],
   "source": [
    "image_augmentation_flip = tf.keras.layers.RandomFlip(\"horizontal_and_vertical\")\n",
    "image_augmentation_rotation = tf.keras.layers.RandomRotation((-0.1, 0.3))\n",
    "image_augmentation_translation = tf.keras.layers.RandomTranslation((-0.1, 0.5), (-0.2, 0.4))\n",
    "image_augmentation_zoom = tf.keras.layers.RandomZoom((-0.1, 0.4))\n",
    "image_augmentation_brightness = tf.keras.layers.RandomBrightness(0.6)\n",
    "image_augmentation_contrast = tf.keras.layers.RandomContrast(0.3)"
   ]
  },
  {
   "cell_type": "code",
   "execution_count": 8,
   "id": "4d0e7b2f",
   "metadata": {
    "execution": {
     "iopub.execute_input": "2023-05-08T20:12:44.095565Z",
     "iopub.status.busy": "2023-05-08T20:12:44.095321Z",
     "iopub.status.idle": "2023-05-08T20:12:44.100681Z",
     "shell.execute_reply": "2023-05-08T20:12:44.099887Z"
    },
    "id": "XWTcyveJpouC",
    "papermill": {
     "duration": 0.01635,
     "end_time": "2023-05-08T20:12:44.102408",
     "exception": false,
     "start_time": "2023-05-08T20:12:44.086058",
     "status": "completed"
    },
    "tags": []
   },
   "outputs": [],
   "source": [
    "def chooseRandom(img):\n",
    "    choice = [0,1]\n",
    "    np.random.shuffle(choice)\n",
    "    if choice == 1:\n",
    "        return image_augmentation_zoom(image_augmentation_rotation(image_augmentation_brightness(image_augmentation_translation(img))))\n",
    "    else:\n",
    "        return image_augmentation_contrast(image_augmentation_flip(img))"
   ]
  },
  {
   "cell_type": "code",
   "execution_count": 9,
   "id": "1d73a31f",
   "metadata": {
    "execution": {
     "iopub.execute_input": "2023-05-08T20:12:44.119933Z",
     "iopub.status.busy": "2023-05-08T20:12:44.119698Z",
     "iopub.status.idle": "2023-05-08T20:12:44.486355Z",
     "shell.execute_reply": "2023-05-08T20:12:44.485436Z"
    },
    "id": "Yvc1RFKAmQvx",
    "papermill": {
     "duration": 0.377947,
     "end_time": "2023-05-08T20:12:44.488611",
     "exception": false,
     "start_time": "2023-05-08T20:12:44.110664",
     "status": "completed"
    },
    "tags": []
   },
   "outputs": [],
   "source": [
    "dataset_random_augmentation = train.map(lambda i,l:(chooseRandom(i), l))\n",
    "dataset_flip = train.map(lambda i,l:(image_augmentation_flip(i), l))\n",
    "dataset_rotated = train.map(lambda i,l:(image_augmentation_rotation(i), l))\n",
    "dataset_bright = train.map(lambda i,l:(image_augmentation_brightness(i), l))\n",
    "dataset_zoomed = train.map(lambda i,l:(image_augmentation_zoom(i), l))"
   ]
  },
  {
   "cell_type": "code",
   "execution_count": 10,
   "id": "006a049e",
   "metadata": {
    "execution": {
     "iopub.execute_input": "2023-05-08T20:12:44.506858Z",
     "iopub.status.busy": "2023-05-08T20:12:44.506581Z",
     "iopub.status.idle": "2023-05-08T20:12:44.513940Z",
     "shell.execute_reply": "2023-05-08T20:12:44.513122Z"
    },
    "id": "8rBXtKLEbSLZ",
    "papermill": {
     "duration": 0.018501,
     "end_time": "2023-05-08T20:12:44.515763",
     "exception": false,
     "start_time": "2023-05-08T20:12:44.497262",
     "status": "completed"
    },
    "tags": []
   },
   "outputs": [],
   "source": [
    "augmented_train = train.concatenate(dataset_random_augmentation)\n",
    "augmented_train = augmented_train.concatenate(dataset_flip)\n",
    "augmented_train = augmented_train.concatenate(dataset_rotated)\n",
    "augmented_train = augmented_train.concatenate(dataset_bright)\n",
    "augmented_train = augmented_train.concatenate(dataset_zoomed)"
   ]
  },
  {
   "cell_type": "code",
   "execution_count": 11,
   "id": "b3395d15",
   "metadata": {
    "execution": {
     "iopub.execute_input": "2023-05-08T20:12:44.534947Z",
     "iopub.status.busy": "2023-05-08T20:12:44.534088Z",
     "iopub.status.idle": "2023-05-08T20:12:44.543134Z",
     "shell.execute_reply": "2023-05-08T20:12:44.542305Z"
    },
    "id": "iAmg5inNbSLZ",
    "papermill": {
     "duration": 0.020738,
     "end_time": "2023-05-08T20:12:44.545114",
     "exception": false,
     "start_time": "2023-05-08T20:12:44.524376",
     "status": "completed"
    },
    "tags": []
   },
   "outputs": [],
   "source": [
    "augmented_train = augmented_train.batch(128, drop_remainder=True)\n",
    "validation = val.batch(128, drop_remainder=True)\n",
    "test_dataset = test.batch(128, drop_remainder=True)"
   ]
  },
  {
   "cell_type": "markdown",
   "id": "9d8aea0e",
   "metadata": {
    "id": "y7K_E131mQvx",
    "papermill": {
     "duration": 0.008526,
     "end_time": "2023-05-08T20:12:44.562517",
     "exception": false,
     "start_time": "2023-05-08T20:12:44.553991",
     "status": "completed"
    },
    "tags": []
   },
   "source": [
    "# Model Creation"
   ]
  },
  {
   "cell_type": "code",
   "execution_count": 12,
   "id": "c8387e3c",
   "metadata": {
    "execution": {
     "iopub.execute_input": "2023-05-08T20:12:44.581135Z",
     "iopub.status.busy": "2023-05-08T20:12:44.580843Z",
     "iopub.status.idle": "2023-05-08T20:12:44.587003Z",
     "shell.execute_reply": "2023-05-08T20:12:44.586065Z"
    },
    "id": "fgLf822vt0jb",
    "papermill": {
     "duration": 0.017775,
     "end_time": "2023-05-08T20:12:44.589014",
     "exception": false,
     "start_time": "2023-05-08T20:12:44.571239",
     "status": "completed"
    },
    "tags": []
   },
   "outputs": [],
   "source": [
    "def modelCreation(base):\n",
    "    for layer in base.layers:\n",
    "        layer.trainable = False\n",
    "    model = tf.keras.layers.MaxPooling2D(pool_size=(4, 4))(base.output) # Add pooling layer\n",
    "    model = tf.keras.layers.Flatten()(model)\n",
    "    model = tf.keras.layers.Dense(32, activation='relu')(model)\n",
    "    model = tf.keras.layers.Dropout(0.2)(model)\n",
    "    model = tf.keras.layers.BatchNormalization()(model)\n",
    "    model_prediction = tf.keras.layers.Dense(5, activation = 'softmax')(model)\n",
    "    model_final = tf.keras.Model(inputs = base.input, outputs = model_prediction)\n",
    "    model_final.compile(optimizer='adam', loss=\"sparse_categorical_crossentropy\", metrics=['accuracy'])\n",
    "    return model_final"
   ]
  },
  {
   "cell_type": "code",
   "execution_count": 13,
   "id": "df51b6ef",
   "metadata": {
    "execution": {
     "iopub.execute_input": "2023-05-08T20:12:44.606509Z",
     "iopub.status.busy": "2023-05-08T20:12:44.606262Z",
     "iopub.status.idle": "2023-05-08T20:12:55.959575Z",
     "shell.execute_reply": "2023-05-08T20:12:55.958557Z"
    },
    "id": "rUqlAWS9mQvx",
    "outputId": "337049b8-50f5-486e-9909-375a01b5ed76",
    "papermill": {
     "duration": 11.364589,
     "end_time": "2023-05-08T20:12:55.961793",
     "exception": false,
     "start_time": "2023-05-08T20:12:44.597204",
     "status": "completed"
    },
    "tags": []
   },
   "outputs": [
    {
     "name": "stdout",
     "output_type": "stream",
     "text": [
      "Downloading data from https://storage.googleapis.com/tensorflow/keras-applications/resnet/resnet50_weights_tf_dim_ordering_tf_kernels_notop.h5\n",
      "94765736/94765736 [==============================] - 3s 0us/step\n",
      "Downloading data from https://storage.googleapis.com/keras-applications/efficientnetb0_notop.h5\n",
      "16705208/16705208 [==============================] - 1s 0us/step\n",
      "Downloading data from https://storage.googleapis.com/tensorflow/keras-applications/vgg16/vgg16_weights_tf_dim_ordering_tf_kernels_notop.h5\n",
      "58889256/58889256 [==============================] - 2s 0us/step\n"
     ]
    }
   ],
   "source": [
    "resnet = tf.keras.applications.ResNet50(weights = 'imagenet', include_top = False, input_shape = (IMG_WID, IMG_HG, 3))\n",
    "efficient = tf.keras.applications.EfficientNetB0(weights = 'imagenet', include_top = False, input_shape = (IMG_WID, IMG_HG, 3))\n",
    "vgg = tf.keras.applications.VGG16(weights = 'imagenet', include_top = False, input_shape = (IMG_WID, IMG_HG, 3))"
   ]
  },
  {
   "cell_type": "code",
   "execution_count": 14,
   "id": "cf2d10e6",
   "metadata": {
    "execution": {
     "iopub.execute_input": "2023-05-08T20:12:55.993634Z",
     "iopub.status.busy": "2023-05-08T20:12:55.993087Z",
     "iopub.status.idle": "2023-05-08T20:12:56.174274Z",
     "shell.execute_reply": "2023-05-08T20:12:56.173365Z"
    },
    "id": "Tl4W7ZfNwKoz",
    "papermill": {
     "duration": 0.199485,
     "end_time": "2023-05-08T20:12:56.176525",
     "exception": false,
     "start_time": "2023-05-08T20:12:55.977040",
     "status": "completed"
    },
    "tags": []
   },
   "outputs": [],
   "source": [
    "resnet_model = modelCreation(resnet)\n",
    "efficient_model = modelCreation(efficient)\n",
    "vgg_model = modelCreation(vgg)"
   ]
  },
  {
   "cell_type": "code",
   "execution_count": 15,
   "id": "8a194501",
   "metadata": {
    "execution": {
     "iopub.execute_input": "2023-05-08T20:12:56.210974Z",
     "iopub.status.busy": "2023-05-08T20:12:56.210659Z",
     "iopub.status.idle": "2023-05-08T20:12:56.215297Z",
     "shell.execute_reply": "2023-05-08T20:12:56.214433Z"
    },
    "id": "Ky5Q5CRMmQvy",
    "papermill": {
     "duration": 0.022547,
     "end_time": "2023-05-08T20:12:56.217151",
     "exception": false,
     "start_time": "2023-05-08T20:12:56.194604",
     "status": "completed"
    },
    "tags": []
   },
   "outputs": [],
   "source": [
    "# Early stop and restore weight from best model, min validation loss\n",
    "early_stopper = tf.keras.callbacks.EarlyStopping(monitor='val_loss', patience=5, verbose=1, mode='min', restore_best_weights=True)"
   ]
  },
  {
   "cell_type": "code",
   "execution_count": 16,
   "id": "8f3a0452",
   "metadata": {
    "execution": {
     "iopub.execute_input": "2023-05-08T20:12:56.248493Z",
     "iopub.status.busy": "2023-05-08T20:12:56.247738Z",
     "iopub.status.idle": "2023-05-08T20:32:29.506603Z",
     "shell.execute_reply": "2023-05-08T20:32:29.505662Z"
    },
    "id": "v-zb8LWbmQvy",
    "outputId": "6e6b0249-8395-4948-c6df-66b6ee419d94",
    "papermill": {
     "duration": 1173.345871,
     "end_time": "2023-05-08T20:32:29.577631",
     "exception": false,
     "start_time": "2023-05-08T20:12:56.231760",
     "status": "completed"
    },
    "tags": []
   },
   "outputs": [
    {
     "name": "stdout",
     "output_type": "stream",
     "text": [
      "Epoch 1/50\n",
      "107/107 [==============================] - 105s 881ms/step - loss: 1.7602 - accuracy: 0.2211 - val_loss: 1.1183 - val_accuracy: 0.7266\n",
      "Epoch 2/50\n",
      "107/107 [==============================] - 89s 824ms/step - loss: 1.6345 - accuracy: 0.2497 - val_loss: 1.1270 - val_accuracy: 0.8490\n",
      "Epoch 3/50\n",
      "107/107 [==============================] - 90s 833ms/step - loss: 1.6087 - accuracy: 0.2656 - val_loss: 1.1357 - val_accuracy: 0.8958\n",
      "Epoch 4/50\n",
      "107/107 [==============================] - 90s 836ms/step - loss: 1.5947 - accuracy: 0.2880 - val_loss: 1.1210 - val_accuracy: 0.9141\n",
      "Epoch 5/50\n",
      "107/107 [==============================] - 90s 837ms/step - loss: 1.5879 - accuracy: 0.2894 - val_loss: 1.0642 - val_accuracy: 0.9167\n",
      "Epoch 6/50\n",
      "107/107 [==============================] - 97s 902ms/step - loss: 1.5828 - accuracy: 0.3013 - val_loss: 1.1376 - val_accuracy: 0.9115\n",
      "Epoch 7/50\n",
      "107/107 [==============================] - 92s 852ms/step - loss: 1.5809 - accuracy: 0.3000 - val_loss: 1.1839 - val_accuracy: 0.7969\n",
      "Epoch 8/50\n",
      "107/107 [==============================] - 95s 883ms/step - loss: 1.5803 - accuracy: 0.3024 - val_loss: 1.1309 - val_accuracy: 0.7266\n",
      "Epoch 9/50\n",
      "107/107 [==============================] - 91s 840ms/step - loss: 1.5793 - accuracy: 0.3026 - val_loss: 1.1441 - val_accuracy: 0.9323\n",
      "Epoch 10/50\n",
      "107/107 [==============================] - ETA: 0s - loss: 1.5782 - accuracy: 0.2938Restoring model weights from the end of the best epoch: 5.\n",
      "107/107 [==============================] - 91s 841ms/step - loss: 1.5782 - accuracy: 0.2938 - val_loss: 1.1219 - val_accuracy: 0.9167\n",
      "Epoch 10: early stopping\n"
     ]
    }
   ],
   "source": [
    "resnet_history = resnet_model.fit(augmented_train, epochs=50, batch_size=128, callbacks=[early_stopper], verbose=1, validation_data=validation)"
   ]
  },
  {
   "cell_type": "code",
   "execution_count": 17,
   "id": "8c147685",
   "metadata": {
    "execution": {
     "iopub.execute_input": "2023-05-08T20:32:29.717890Z",
     "iopub.status.busy": "2023-05-08T20:32:29.717544Z",
     "iopub.status.idle": "2023-05-08T20:47:14.773789Z",
     "shell.execute_reply": "2023-05-08T20:47:14.772842Z"
    },
    "id": "sZFMuMcjrRRw",
    "papermill": {
     "duration": 885.1289,
     "end_time": "2023-05-08T20:47:14.775968",
     "exception": false,
     "start_time": "2023-05-08T20:32:29.647068",
     "status": "completed"
    },
    "tags": []
   },
   "outputs": [
    {
     "name": "stdout",
     "output_type": "stream",
     "text": [
      "Epoch 1/50\n"
     ]
    },
    {
     "name": "stderr",
     "output_type": "stream",
     "text": [
      "2023-05-08 20:32:34.851945: E tensorflow/core/grappler/optimizers/meta_optimizer.cc:954] layout failed: INVALID_ARGUMENT: Size of values 0 does not match size of permutation 4 @ fanin shape inmodel_1/block2b_drop/dropout/SelectV2-2-TransposeNHWCToNCHW-LayoutOptimizer\n"
     ]
    },
    {
     "name": "stdout",
     "output_type": "stream",
     "text": [
      "107/107 [==============================] - 92s 803ms/step - loss: 1.7521 - accuracy: 0.2430 - val_loss: 1.0041 - val_accuracy: 0.8594\n",
      "Epoch 2/50\n",
      "107/107 [==============================] - 85s 786ms/step - loss: 1.6354 - accuracy: 0.3029 - val_loss: 0.9972 - val_accuracy: 0.9115\n",
      "Epoch 3/50\n",
      "107/107 [==============================] - 85s 786ms/step - loss: 1.6054 - accuracy: 0.3343 - val_loss: 1.0316 - val_accuracy: 0.8828\n",
      "Epoch 4/50\n",
      "107/107 [==============================] - 84s 783ms/step - loss: 1.5916 - accuracy: 0.3413 - val_loss: 1.0110 - val_accuracy: 0.9193\n",
      "Epoch 5/50\n",
      "107/107 [==============================] - 86s 797ms/step - loss: 1.5806 - accuracy: 0.3475 - val_loss: 1.0318 - val_accuracy: 0.8984\n",
      "Epoch 6/50\n",
      "107/107 [==============================] - 84s 784ms/step - loss: 1.5763 - accuracy: 0.3570 - val_loss: 1.0136 - val_accuracy: 0.8984\n",
      "Epoch 7/50\n",
      "107/107 [==============================] - ETA: 0s - loss: 1.5732 - accuracy: 0.3612Restoring model weights from the end of the best epoch: 2.\n",
      "107/107 [==============================] - 85s 792ms/step - loss: 1.5732 - accuracy: 0.3612 - val_loss: 1.0152 - val_accuracy: 0.8854\n",
      "Epoch 7: early stopping\n"
     ]
    }
   ],
   "source": [
    "efficient_history = efficient_model.fit(augmented_train, epochs=50, batch_size=128, callbacks=[early_stopper], verbose=1, validation_data=validation)"
   ]
  },
  {
   "cell_type": "code",
   "execution_count": 18,
   "id": "5b5b2d36",
   "metadata": {
    "execution": {
     "iopub.execute_input": "2023-05-08T20:47:14.999474Z",
     "iopub.status.busy": "2023-05-08T20:47:14.998027Z",
     "iopub.status.idle": "2023-05-08T21:01:41.175784Z",
     "shell.execute_reply": "2023-05-08T21:01:41.174898Z"
    },
    "id": "JoBRfPHRrfCc",
    "papermill": {
     "duration": 866.42672,
     "end_time": "2023-05-08T21:01:41.313738",
     "exception": false,
     "start_time": "2023-05-08T20:47:14.887018",
     "status": "completed"
    },
    "tags": []
   },
   "outputs": [
    {
     "name": "stdout",
     "output_type": "stream",
     "text": [
      "Epoch 1/50\n",
      "107/107 [==============================] - 106s 887ms/step - loss: 1.8021 - accuracy: 0.2129 - val_loss: 1.2018 - val_accuracy: 0.5781\n",
      "Epoch 2/50\n",
      "107/107 [==============================] - 95s 884ms/step - loss: 1.6528 - accuracy: 0.2401 - val_loss: 1.2166 - val_accuracy: 0.7031\n",
      "Epoch 3/50\n",
      "107/107 [==============================] - 95s 881ms/step - loss: 1.6181 - accuracy: 0.2491 - val_loss: 1.1927 - val_accuracy: 0.8177\n",
      "Epoch 4/50\n",
      "107/107 [==============================] - 95s 883ms/step - loss: 1.6042 - accuracy: 0.2670 - val_loss: 1.2104 - val_accuracy: 0.8411\n",
      "Epoch 5/50\n",
      "107/107 [==============================] - 95s 881ms/step - loss: 1.5943 - accuracy: 0.2758 - val_loss: 1.2246 - val_accuracy: 0.8438\n",
      "Epoch 6/50\n",
      "107/107 [==============================] - 95s 881ms/step - loss: 1.5892 - accuracy: 0.2888 - val_loss: 1.2234 - val_accuracy: 0.8229\n",
      "Epoch 7/50\n",
      "107/107 [==============================] - 96s 891ms/step - loss: 1.5856 - accuracy: 0.2887 - val_loss: 1.1983 - val_accuracy: 0.8125\n",
      "Epoch 8/50\n",
      "107/107 [==============================] - ETA: 0s - loss: 1.5830 - accuracy: 0.2944Restoring model weights from the end of the best epoch: 3.\n",
      "107/107 [==============================] - 95s 885ms/step - loss: 1.5830 - accuracy: 0.2944 - val_loss: 1.1950 - val_accuracy: 0.9036\n",
      "Epoch 8: early stopping\n"
     ]
    }
   ],
   "source": [
    "vgg_history = vgg_model.fit(augmented_train, epochs=50, batch_size=128, callbacks=[early_stopper], verbose=1, validation_data=validation)"
   ]
  },
  {
   "cell_type": "markdown",
   "id": "ed889d28",
   "metadata": {
    "id": "t0nA3B4xmQvy",
    "papermill": {
     "duration": 0.155838,
     "end_time": "2023-05-08T21:01:41.625280",
     "exception": false,
     "start_time": "2023-05-08T21:01:41.469442",
     "status": "completed"
    },
    "tags": []
   },
   "source": [
    "#### Loss VS Epoch "
   ]
  },
  {
   "cell_type": "code",
   "execution_count": 19,
   "id": "95f311d0",
   "metadata": {
    "execution": {
     "iopub.execute_input": "2023-05-08T21:01:41.940842Z",
     "iopub.status.busy": "2023-05-08T21:01:41.940487Z",
     "iopub.status.idle": "2023-05-08T21:01:41.946119Z",
     "shell.execute_reply": "2023-05-08T21:01:41.945252Z"
    },
    "id": "EPE0Jt9Gwzy9",
    "papermill": {
     "duration": 0.167835,
     "end_time": "2023-05-08T21:01:41.948007",
     "exception": false,
     "start_time": "2023-05-08T21:01:41.780172",
     "status": "completed"
    },
    "tags": []
   },
   "outputs": [],
   "source": [
    "def plotLossVSEpoch(model_history, model):\n",
    "    plt.plot(model_history.history['loss'])\n",
    "    plt.plot(model_history.history['val_loss'])\n",
    "    plt.title('{} Loss vs Epoch'.format(model))\n",
    "    plt.ylabel('Loss')\n",
    "    plt.xlabel('Epochs')\n",
    "    plt.legend(['Train', 'Validation'], loc='best')\n",
    "    plt.show()"
   ]
  },
  {
   "cell_type": "code",
   "execution_count": 20,
   "id": "1d641c1b",
   "metadata": {
    "execution": {
     "iopub.execute_input": "2023-05-08T21:01:42.324906Z",
     "iopub.status.busy": "2023-05-08T21:01:42.324573Z",
     "iopub.status.idle": "2023-05-08T21:01:42.586044Z",
     "shell.execute_reply": "2023-05-08T21:01:42.585101Z"
    },
    "id": "DXISAsXjmQvy",
    "papermill": {
     "duration": 0.425102,
     "end_time": "2023-05-08T21:01:42.588087",
     "exception": false,
     "start_time": "2023-05-08T21:01:42.162985",
     "status": "completed"
    },
    "tags": []
   },
   "outputs": [
    {
     "data": {
      "image/png": "[encoded data removed]",
      "text/plain": [
       "<Figure size 640x480 with 1 Axes>"
      ]
     },
     "metadata": {},
     "output_type": "display_data"
    }
   ],
   "source": [
    "plotLossVSEpoch(resnet_history, 'ResNet50')"
   ]
  },
  {
   "cell_type": "code",
   "execution_count": 21,
   "id": "4a34e5a7",
   "metadata": {
    "execution": {
     "iopub.execute_input": "2023-05-08T21:01:42.903022Z",
     "iopub.status.busy": "2023-05-08T21:01:42.902682Z",
     "iopub.status.idle": "2023-05-08T21:01:43.138717Z",
     "shell.execute_reply": "2023-05-08T21:01:43.137854Z"
    },
    "id": "xfl9G8eJscWi",
    "papermill": {
     "duration": 0.397066,
     "end_time": "2023-05-08T21:01:43.141019",
     "exception": false,
     "start_time": "2023-05-08T21:01:42.743953",
     "status": "completed"
    },
    "tags": []
   },
   "outputs": [
    {
     "data": {
      "image/png": "[encoded data removed]",
      "text/plain": [
       "<Figure size 640x480 with 1 Axes>"
      ]
     },
     "metadata": {},
     "output_type": "display_data"
    }
   ],
   "source": [
    "plotLossVSEpoch(efficient_history, 'EfficientNetB0')"
   ]
  },
  {
   "cell_type": "code",
   "execution_count": 22,
   "id": "1a6997f4",
   "metadata": {
    "execution": {
     "iopub.execute_input": "2023-05-08T21:01:43.556945Z",
     "iopub.status.busy": "2023-05-08T21:01:43.556590Z",
     "iopub.status.idle": "2023-05-08T21:01:43.798978Z",
     "shell.execute_reply": "2023-05-08T21:01:43.798039Z"
    },
    "id": "6-0rlZPrmQvy",
    "papermill": {
     "duration": 0.402858,
     "end_time": "2023-05-08T21:01:43.801472",
     "exception": false,
     "start_time": "2023-05-08T21:01:43.398614",
     "status": "completed"
    },
    "tags": []
   },
   "outputs": [
    {
     "data": {
      "image/png": "[encoded data removed]",
      "text/plain": [
       "<Figure size 640x480 with 1 Axes>"
      ]
     },
     "metadata": {},
     "output_type": "display_data"
    }
   ],
   "source": [
    "plotLossVSEpoch(vgg_history, 'VGG16')"
   ]
  },
  {
   "cell_type": "markdown",
   "id": "c3a60ce6",
   "metadata": {
    "id": "4JDHsHIHrwRf",
    "papermill": {
     "duration": 0.157346,
     "end_time": "2023-05-08T21:01:44.114903",
     "exception": false,
     "start_time": "2023-05-08T21:01:43.957557",
     "status": "completed"
    },
    "tags": []
   },
   "source": [
    "### Getting the Predictions"
   ]
  },
  {
   "cell_type": "markdown",
   "id": "d65a0105",
   "metadata": {
    "id": "VQsibDtSMiDY",
    "papermill": {
     "duration": 0.157158,
     "end_time": "2023-05-08T21:01:44.428809",
     "exception": false,
     "start_time": "2023-05-08T21:01:44.271651",
     "status": "completed"
    },
    "tags": []
   },
   "source": [
    "#### Train"
   ]
  },
  {
   "cell_type": "code",
   "execution_count": 23,
   "id": "8ea3ff7d",
   "metadata": {
    "execution": {
     "iopub.execute_input": "2023-05-08T21:01:44.741939Z",
     "iopub.status.busy": "2023-05-08T21:01:44.741587Z",
     "iopub.status.idle": "2023-05-08T21:06:04.795155Z",
     "shell.execute_reply": "2023-05-08T21:06:04.794154Z"
    },
    "id": "xnAQpac0173X",
    "papermill": {
     "duration": 260.212704,
     "end_time": "2023-05-08T21:06:04.797481",
     "exception": false,
     "start_time": "2023-05-08T21:01:44.584777",
     "status": "completed"
    },
    "tags": []
   },
   "outputs": [
    {
     "name": "stdout",
     "output_type": "stream",
     "text": [
      "107/107 [==============================] - 86s 794ms/step\n",
      "107/107 [==============================] - 81s 741ms/step\n",
      "107/107 [==============================] - 90s 835ms/step\n"
     ]
    }
   ],
   "source": [
    "train_resnet_probabilities = resnet_model.predict(augmented_train)\n",
    "train_efficient_probabilities = efficient_model.predict(augmented_train)\n",
    "train_vgg_probabilities = vgg_model.predict(augmented_train)\n",
    "\n",
    "# Pick class with highest probabilty\n",
    "train_resnet_prediction = np.argmax(train_resnet_probabilities, axis=1)\n",
    "train_efficient_prediction = np.argmax(train_efficient_probabilities, axis=1)\n",
    "train_vgg_prediction = np.argmax(train_vgg_probabilities, axis=1)"
   ]
  },
  {
   "cell_type": "markdown",
   "id": "f8fb94a2",
   "metadata": {
    "id": "zZHUZAUUMiDZ",
    "papermill": {
     "duration": 0.171406,
     "end_time": "2023-05-08T21:06:05.141456",
     "exception": false,
     "start_time": "2023-05-08T21:06:04.970050",
     "status": "completed"
    },
    "tags": []
   },
   "source": [
    "#### Test"
   ]
  },
  {
   "cell_type": "code",
   "execution_count": 24,
   "id": "49904378",
   "metadata": {
    "execution": {
     "iopub.execute_input": "2023-05-08T21:06:05.491076Z",
     "iopub.status.busy": "2023-05-08T21:06:05.490143Z",
     "iopub.status.idle": "2023-05-08T21:06:22.598500Z",
     "shell.execute_reply": "2023-05-08T21:06:22.597564Z"
    },
    "id": "4QnNu7X7rxhZ",
    "papermill": {
     "duration": 17.285498,
     "end_time": "2023-05-08T21:06:22.600865",
     "exception": false,
     "start_time": "2023-05-08T21:06:05.315367",
     "status": "completed"
    },
    "tags": []
   },
   "outputs": [
    {
     "name": "stdout",
     "output_type": "stream",
     "text": [
      "3/3 [==============================] - 5s 2s/step\n",
      "3/3 [==============================] - 5s 2s/step\n",
      "3/3 [==============================] - 6s 2s/step\n"
     ]
    }
   ],
   "source": [
    "test_resnet_probabilities = resnet_model.predict(test_dataset)\n",
    "test_efficient_probabilities = efficient_model.predict(test_dataset)\n",
    "test_vgg_probabilities = vgg_model.predict(test_dataset)\n",
    "\n",
    "# Pick class with highest probabilty\n",
    "test_resnet_prediction = np.argmax(test_resnet_probabilities, axis=1)\n",
    "test_efficient_prediction = np.argmax(test_efficient_probabilities, axis=1)\n",
    "test_vgg_prediction = np.argmax(test_vgg_probabilities, axis=1)"
   ]
  },
  {
   "cell_type": "markdown",
   "id": "357a2fc8",
   "metadata": {
    "id": "OCgJlCAnxj0-",
    "papermill": {
     "duration": 0.171459,
     "end_time": "2023-05-08T21:06:22.995273",
     "exception": false,
     "start_time": "2023-05-08T21:06:22.823814",
     "status": "completed"
    },
    "tags": []
   },
   "source": [
    "### Analysis of Image Models"
   ]
  },
  {
   "cell_type": "code",
   "execution_count": 25,
   "id": "23b24767",
   "metadata": {
    "execution": {
     "iopub.execute_input": "2023-05-08T21:06:23.382580Z",
     "iopub.status.busy": "2023-05-08T21:06:23.381066Z",
     "iopub.status.idle": "2023-05-08T21:06:23.387109Z",
     "shell.execute_reply": "2023-05-08T21:06:23.386252Z"
    },
    "id": "e_s-Ccv4zoKX",
    "papermill": {
     "duration": 0.222448,
     "end_time": "2023-05-08T21:06:23.389037",
     "exception": false,
     "start_time": "2023-05-08T21:06:23.166589",
     "status": "completed"
    },
    "tags": []
   },
   "outputs": [],
   "source": [
    "def findaccuracy(y_true, y_pred):\n",
    "    # Intitializing variable to store count of correctly predicted classes\n",
    "    correct_predictions = 0    \n",
    "    for yt, yp in zip(y_true, y_pred):\n",
    "        if yt == yp:            \n",
    "            correct_predictions += 1\n",
    "    return correct_predictions / len(y_true)"
   ]
  },
  {
   "cell_type": "code",
   "execution_count": 26,
   "id": "d8c04fce",
   "metadata": {
    "execution": {
     "iopub.execute_input": "2023-05-08T21:06:23.732572Z",
     "iopub.status.busy": "2023-05-08T21:06:23.732229Z",
     "iopub.status.idle": "2023-05-08T21:06:23.742017Z",
     "shell.execute_reply": "2023-05-08T21:06:23.741202Z"
    },
    "id": "972PltMtzoIF",
    "papermill": {
     "duration": 0.184403,
     "end_time": "2023-05-08T21:06:23.743829",
     "exception": false,
     "start_time": "2023-05-08T21:06:23.559426",
     "status": "completed"
    },
    "tags": []
   },
   "outputs": [],
   "source": [
    "# Functions to compute True Positives, True Negatives, False Positives and False Negatives\n",
    "def true_positive(y_true, y_pred):\n",
    "    tp = 0\n",
    "    for yt, yp in zip(y_true, y_pred):        \n",
    "        if yt == 1 and yp == 1:\n",
    "            tp += 1\n",
    "    return tp\n",
    "\n",
    "def true_negative(y_true, y_pred):    \n",
    "    tn = 0\n",
    "    for yt, yp in zip(y_true, y_pred):        \n",
    "        if yt == 0 and yp == 0:\n",
    "            tn += 1\n",
    "    return tn\n",
    "\n",
    "def false_positive(y_true, y_pred):    \n",
    "    fp = 0\n",
    "    for yt, yp in zip(y_true, y_pred):\n",
    "        if yt == 0 and yp == 1:\n",
    "            fp += 1            \n",
    "    return fp\n",
    "\n",
    "def false_negative(y_true, y_pred):\n",
    "    fn = 0    \n",
    "    for yt, yp in zip(y_true, y_pred):\n",
    "        if yt == 1 and yp == 0:\n",
    "            fn += 1            \n",
    "    return fn\n",
    "#Computation of macro-averaged precision\n",
    "\n",
    "def macro_precision(y_true, y_pred):\n",
    "    # find the number of classes\n",
    "    num_classes = len(np.unique(y_true))\n",
    "    # initialize precision to 0\n",
    "    precision = 0\n",
    "    # loop over all classes\n",
    "    for class_ in np.unique(y_true):\n",
    "        # all classes except current are considered negative\n",
    "        temp_true = [1 if p == class_ else 0 for p in y_true]\n",
    "        temp_pred = [1 if p == class_ else 0 for p in y_pred]\n",
    "        # compute true positive for current class\n",
    "        tp = true_positive(temp_true, temp_pred)\n",
    "        # compute false positive for current class\n",
    "        fp = false_positive(temp_true, temp_pred)\n",
    "        # compute precision for current class\n",
    "        temp_precision = tp / (tp + fp + 1e-6)\n",
    "        # keep adding precision for all classes\n",
    "        precision += temp_precision\n",
    "    # calculate and return average precision over all classes\n",
    "    precision /= num_classes\n",
    "    return precision"
   ]
  },
  {
   "cell_type": "code",
   "execution_count": 27,
   "id": "489d8869",
   "metadata": {
    "execution": {
     "iopub.execute_input": "2023-05-08T21:06:24.090279Z",
     "iopub.status.busy": "2023-05-08T21:06:24.089922Z",
     "iopub.status.idle": "2023-05-08T21:06:24.095930Z",
     "shell.execute_reply": "2023-05-08T21:06:24.094999Z"
    },
    "id": "t06mVemxzoFW",
    "papermill": {
     "duration": 0.181904,
     "end_time": "2023-05-08T21:06:24.097765",
     "exception": false,
     "start_time": "2023-05-08T21:06:23.915861",
     "status": "completed"
    },
    "tags": []
   },
   "outputs": [],
   "source": [
    "def macro_recall(y_true, y_pred):\n",
    "    # find the number of classes\n",
    "    num_classes = len(np.unique(y_true))\n",
    "    # initialize recall to 0\n",
    "    recall = 0\n",
    "    # loop over all classes\n",
    "    for class_ in np.unique(y_true):\n",
    "        # all classes except current are considered negative\n",
    "        temp_true = [1 if p == class_ else 0 for p in y_true]\n",
    "        temp_pred = [1 if p == class_ else 0 for p in y_pred]\n",
    "        # compute true positive for current class\n",
    "        tp = true_positive(temp_true, temp_pred)\n",
    "        # compute false negative for current class\n",
    "        fn = false_negative(temp_true, temp_pred)\n",
    "        # compute recall for current class\n",
    "        temp_recall = tp / (tp + fn + 1e-6)\n",
    "        # keep adding recall for all classes\n",
    "        recall += temp_recall\n",
    "    # calculate and return average recall over all classes\n",
    "    recall /= num_classes\n",
    "    return recall"
   ]
  },
  {
   "cell_type": "code",
   "execution_count": 28,
   "id": "c57edf44",
   "metadata": {
    "execution": {
     "iopub.execute_input": "2023-05-08T21:06:24.442712Z",
     "iopub.status.busy": "2023-05-08T21:06:24.442377Z",
     "iopub.status.idle": "2023-05-08T21:06:24.453467Z",
     "shell.execute_reply": "2023-05-08T21:06:24.452646Z"
    },
    "id": "VUMhIDtZzoAw",
    "papermill": {
     "duration": 0.186727,
     "end_time": "2023-05-08T21:06:24.455436",
     "exception": false,
     "start_time": "2023-05-08T21:06:24.268709",
     "status": "completed"
    },
    "tags": []
   },
   "outputs": [],
   "source": [
    "def macro_f1(y_true, y_pred):\n",
    "    # find the number of classes\n",
    "    num_classes = len(np.unique(y_true))\n",
    "    # initialize f1 to 0\n",
    "    f1 = 0\n",
    "    # loop over all classes\n",
    "    for class_ in np.unique(y_true):\n",
    "        # all classes except current are considered negative\n",
    "        temp_true = [1 if p == class_ else 0 for p in y_true]\n",
    "        temp_pred = [1 if p == class_ else 0 for p in y_pred]\n",
    "        # compute true positive for current class\n",
    "        tp = true_positive(temp_true, temp_pred)\n",
    "        # compute false negative for current class\n",
    "        fn = false_negative(temp_true, temp_pred)\n",
    "        # compute false positive for current class\n",
    "        fp = false_positive(temp_true, temp_pred)\n",
    "        # compute recall for current class\n",
    "        temp_recall = tp / (tp + fn + 1e-6)\n",
    "        # compute precision for current class\n",
    "        temp_precision = tp / (tp + fp + 1e-6)\n",
    "        temp_f1 = 2 * temp_precision * temp_recall / (temp_precision + temp_recall + 1e-6)\n",
    "        # keep adding f1 score for all classes\n",
    "        f1 += temp_f1\n",
    "    # calculate and return average f1 score over all classes\n",
    "    f1 /= num_classes\n",
    "    return f1"
   ]
  },
  {
   "cell_type": "code",
   "execution_count": 29,
   "id": "47af49d9",
   "metadata": {
    "execution": {
     "iopub.execute_input": "2023-05-08T21:06:24.802011Z",
     "iopub.status.busy": "2023-05-08T21:06:24.801335Z",
     "iopub.status.idle": "2023-05-08T21:06:25.450248Z",
     "shell.execute_reply": "2023-05-08T21:06:25.449369Z"
    },
    "id": "wLSDG3olxmro",
    "papermill": {
     "duration": 0.825442,
     "end_time": "2023-05-08T21:06:25.452467",
     "exception": false,
     "start_time": "2023-05-08T21:06:24.627025",
     "status": "completed"
    },
    "tags": []
   },
   "outputs": [],
   "source": [
    "from sklearn.metrics import confusion_matrix\n",
    "\n",
    "def printResults(model_name, y_true, y_prediction):\n",
    "    print(\"Results for model {}\".format(model_name))\n",
    "    # Calculate the confusion matrix\n",
    "    cm = confusion_matrix( y_true, y_prediction)\n",
    "    print(\"Confusion Matrix:\\n\", cm)\n",
    "\n",
    "    precision = macro_precision( y_true, y_prediction)\n",
    "    recall = macro_recall( y_true, y_prediction)\n",
    "    accuracy = findaccuracy( y_true, y_prediction)\n",
    "    f1 = macro_f1( y_true, y_prediction)\n",
    "\n",
    "    print(\"Precision:\", precision)\n",
    "    print(\"Recall:\", recall)\n",
    "    print(\"Accuracy:\", accuracy)\n",
    "    print(\"F1 Score:\", f1)"
   ]
  },
  {
   "cell_type": "code",
   "execution_count": 30,
   "id": "e90b20b4",
   "metadata": {
    "execution": {
     "iopub.execute_input": "2023-05-08T21:06:25.800255Z",
     "iopub.status.busy": "2023-05-08T21:06:25.799887Z",
     "iopub.status.idle": "2023-05-08T21:06:36.064687Z",
     "shell.execute_reply": "2023-05-08T21:06:36.063690Z"
    },
    "id": "J4u0561EsEFR",
    "papermill": {
     "duration": 10.441736,
     "end_time": "2023-05-08T21:06:36.067312",
     "exception": false,
     "start_time": "2023-05-08T21:06:25.625576",
     "status": "completed"
    },
    "tags": []
   },
   "outputs": [],
   "source": [
    "testing_labels = []\n",
    "for img, label in (test_dataset.take(len(test_dataset))):\n",
    "  testing_labels += list(label.numpy())\n",
    "testing_labels = np.array(testing_labels)"
   ]
  },
  {
   "cell_type": "code",
   "execution_count": 31,
   "id": "c7f0491a",
   "metadata": {
    "execution": {
     "iopub.execute_input": "2023-05-08T21:06:36.472924Z",
     "iopub.status.busy": "2023-05-08T21:06:36.472572Z",
     "iopub.status.idle": "2023-05-08T21:07:42.654663Z",
     "shell.execute_reply": "2023-05-08T21:07:42.653669Z"
    },
    "id": "fDZ3R7AB2ZXZ",
    "papermill": {
     "duration": 66.35753,
     "end_time": "2023-05-08T21:07:42.656959",
     "exception": false,
     "start_time": "2023-05-08T21:06:36.299429",
     "status": "completed"
    },
    "tags": []
   },
   "outputs": [],
   "source": [
    "training_labels = []\n",
    "for img, label in (augmented_train.take(len(augmented_train))):\n",
    "  training_labels += list(label.numpy())\n",
    "training_labels = np.array(training_labels)"
   ]
  },
  {
   "cell_type": "markdown",
   "id": "0b8a09cc",
   "metadata": {
    "id": "peH3XpD42hRn",
    "papermill": {
     "duration": 0.173269,
     "end_time": "2023-05-08T21:07:43.001382",
     "exception": false,
     "start_time": "2023-05-08T21:07:42.828113",
     "status": "completed"
    },
    "tags": []
   },
   "source": [
    "#### Train "
   ]
  },
  {
   "cell_type": "code",
   "execution_count": 32,
   "id": "06bf4739",
   "metadata": {
    "execution": {
     "iopub.execute_input": "2023-05-08T21:07:43.353906Z",
     "iopub.status.busy": "2023-05-08T21:07:43.353563Z",
     "iopub.status.idle": "2023-05-08T21:07:43.454851Z",
     "shell.execute_reply": "2023-05-08T21:07:43.453402Z"
    },
    "id": "56lX7zeC2g91",
    "papermill": {
     "duration": 0.283485,
     "end_time": "2023-05-08T21:07:43.456783",
     "exception": false,
     "start_time": "2023-05-08T21:07:43.173298",
     "status": "completed"
    },
    "tags": []
   },
   "outputs": [
    {
     "name": "stdout",
     "output_type": "stream",
     "text": [
      "Results for model ResNet50\n",
      "Confusion Matrix:\n",
      " [[2817   80   87   79   21]\n",
      " [  23 1958   11   16   62]\n",
      " [ 129   13 2369   41  112]\n",
      " [ 771  110   68 2027   30]\n",
      " [  97  313  124   72 2266]]\n",
      "Precision: 0.8466289184928029\n",
      "Recall: 0.8423794704177588\n",
      "Accuracy: 0.835061331775701\n",
      "F1 Score: 0.8369005989216884\n"
     ]
    }
   ],
   "source": [
    "printResults('ResNet50', training_labels, train_resnet_prediction)"
   ]
  },
  {
   "cell_type": "code",
   "execution_count": 33,
   "id": "56fbd01e",
   "metadata": {
    "execution": {
     "iopub.execute_input": "2023-05-08T21:07:43.804320Z",
     "iopub.status.busy": "2023-05-08T21:07:43.803963Z",
     "iopub.status.idle": "2023-05-08T21:07:43.902064Z",
     "shell.execute_reply": "2023-05-08T21:07:43.900580Z"
    },
    "id": "c8wdoODV2g4C",
    "papermill": {
     "duration": 0.275106,
     "end_time": "2023-05-08T21:07:43.904048",
     "exception": false,
     "start_time": "2023-05-08T21:07:43.628942",
     "status": "completed"
    },
    "tags": []
   },
   "outputs": [
    {
     "name": "stdout",
     "output_type": "stream",
     "text": [
      "Results for model EfficientNetB0\n",
      "Confusion Matrix:\n",
      " [[2413   23  339  304    5]\n",
      " [   0 1943   33   60   34]\n",
      " [  14    4 2596   30   20]\n",
      " [ 329   59  230 2353   35]\n",
      " [  18  174  295  134 2251]]\n",
      "Precision: 0.8543375665364437\n",
      "Recall: 0.8524178816781559\n",
      "Accuracy: 0.84375\n",
      "F1 Score: 0.847772769858602\n"
     ]
    }
   ],
   "source": [
    "printResults('EfficientNetB0', training_labels, train_efficient_prediction)"
   ]
  },
  {
   "cell_type": "code",
   "execution_count": 34,
   "id": "42c20f6a",
   "metadata": {
    "execution": {
     "iopub.execute_input": "2023-05-08T21:07:44.251046Z",
     "iopub.status.busy": "2023-05-08T21:07:44.250067Z",
     "iopub.status.idle": "2023-05-08T21:07:44.346913Z",
     "shell.execute_reply": "2023-05-08T21:07:44.345959Z"
    },
    "id": "VSBo7Jvg2gsk",
    "papermill": {
     "duration": 0.272445,
     "end_time": "2023-05-08T21:07:44.348780",
     "exception": false,
     "start_time": "2023-05-08T21:07:44.076335",
     "status": "completed"
    },
    "tags": []
   },
   "outputs": [
    {
     "name": "stdout",
     "output_type": "stream",
     "text": [
      "Results for model VGG16\n",
      "Confusion Matrix:\n",
      " [[2216  106  328  366   68]\n",
      " [  89 1635   35  163  148]\n",
      " [  92   13 2306  121  132]\n",
      " [ 496  165  288 1957  100]\n",
      " [  87  187  409  120 2069]]\n",
      "Precision: 0.7489424703914813\n",
      "Recall: 0.7490906396602214\n",
      "Accuracy: 0.7435017523364486\n",
      "F1 Score: 0.7458662441003404\n"
     ]
    }
   ],
   "source": [
    "printResults('VGG16', training_labels, train_vgg_prediction)"
   ]
  },
  {
   "cell_type": "markdown",
   "id": "230e06e5",
   "metadata": {
    "id": "nhSELG_w2ike",
    "papermill": {
     "duration": 0.171689,
     "end_time": "2023-05-08T21:07:44.748706",
     "exception": false,
     "start_time": "2023-05-08T21:07:44.577017",
     "status": "completed"
    },
    "tags": []
   },
   "source": [
    "### Test"
   ]
  },
  {
   "cell_type": "code",
   "execution_count": 35,
   "id": "bd0c54e8",
   "metadata": {
    "execution": {
     "iopub.execute_input": "2023-05-08T21:07:45.095454Z",
     "iopub.status.busy": "2023-05-08T21:07:45.095099Z",
     "iopub.status.idle": "2023-05-08T21:07:45.105348Z",
     "shell.execute_reply": "2023-05-08T21:07:45.103908Z"
    },
    "id": "mOSTLcixwC9E",
    "papermill": {
     "duration": 0.18587,
     "end_time": "2023-05-08T21:07:45.107164",
     "exception": false,
     "start_time": "2023-05-08T21:07:44.921294",
     "status": "completed"
    },
    "tags": []
   },
   "outputs": [
    {
     "name": "stdout",
     "output_type": "stream",
     "text": [
      "Results for model ResNet50\n",
      "Confusion Matrix:\n",
      " [[106   1   1   0   1]\n",
      " [  0  73   0   0   0]\n",
      " [  2   0  92   0   0]\n",
      " [ 25   1   1  78   1]\n",
      " [  0   0   0   0   2]]\n",
      "Precision: 0.8498098103178051\n",
      "Recall: 0.9374097970210331\n",
      "Accuracy: 0.9140625\n",
      "F1 Score: 0.8711466023880264\n"
     ]
    }
   ],
   "source": [
    "printResults('ResNet50', testing_labels, test_resnet_prediction)"
   ]
  },
  {
   "cell_type": "code",
   "execution_count": 36,
   "id": "3d47a8b9",
   "metadata": {
    "execution": {
     "iopub.execute_input": "2023-05-08T21:07:45.454711Z",
     "iopub.status.busy": "2023-05-08T21:07:45.454371Z",
     "iopub.status.idle": "2023-05-08T21:07:45.465589Z",
     "shell.execute_reply": "2023-05-08T21:07:45.463993Z"
    },
    "id": "YXLmS4Rm1xFU",
    "papermill": {
     "duration": 0.18648,
     "end_time": "2023-05-08T21:07:45.467635",
     "exception": false,
     "start_time": "2023-05-08T21:07:45.281155",
     "status": "completed"
    },
    "tags": []
   },
   "outputs": [
    {
     "name": "stdout",
     "output_type": "stream",
     "text": [
      "Results for model EfficientNetB0\n",
      "Confusion Matrix:\n",
      " [[104   0   3   2   0]\n",
      " [  0  69   1   2   1]\n",
      " [  0   0  93   1   0]\n",
      " [ 17   1   4  83   1]\n",
      " [  0   0   0   0   2]]\n",
      "Precision: 0.841838429863152\n",
      "Recall: 0.9343427900515756\n",
      "Accuracy: 0.9140625\n",
      "F1 Score: 0.8691126029253662\n"
     ]
    }
   ],
   "source": [
    "printResults('EfficientNetB0', testing_labels, test_efficient_prediction)"
   ]
  },
  {
   "cell_type": "code",
   "execution_count": 37,
   "id": "8dda88b9",
   "metadata": {
    "execution": {
     "iopub.execute_input": "2023-05-08T21:07:45.816630Z",
     "iopub.status.busy": "2023-05-08T21:07:45.816291Z",
     "iopub.status.idle": "2023-05-08T21:07:45.826658Z",
     "shell.execute_reply": "2023-05-08T21:07:45.825226Z"
    },
    "id": "T884KQOU1xa9",
    "papermill": {
     "duration": 0.185572,
     "end_time": "2023-05-08T21:07:45.828512",
     "exception": false,
     "start_time": "2023-05-08T21:07:45.642940",
     "status": "completed"
    },
    "tags": []
   },
   "outputs": [
    {
     "name": "stdout",
     "output_type": "stream",
     "text": [
      "Results for model VGG16\n",
      "Confusion Matrix:\n",
      " [[91  1  9  7  1]\n",
      " [ 4 63  0  4  2]\n",
      " [ 4  0 84  3  3]\n",
      " [24  5  9 66  2]\n",
      " [ 0  0  0  0  2]]\n",
      "Precision: 0.7002820461531583\n",
      "Recall: 0.8428268159600225\n",
      "Accuracy: 0.796875\n",
      "F1 Score: 0.7143915911929102\n"
     ]
    }
   ],
   "source": [
    "printResults('VGG16', testing_labels, test_vgg_prediction)"
   ]
  },
  {
   "cell_type": "markdown",
   "id": "b69a917a",
   "metadata": {
    "id": "5Xl56Kqs3FDG",
    "papermill": {
     "duration": 0.180317,
     "end_time": "2023-05-08T21:07:46.193021",
     "exception": false,
     "start_time": "2023-05-08T21:07:46.012704",
     "status": "completed"
    },
    "tags": []
   },
   "source": [
    "### Video Analysis"
   ]
  },
  {
   "cell_type": "code",
   "execution_count": null,
   "id": "2229a3eb",
   "metadata": {
    "id": "z_rE7Pi53HqO",
    "papermill": {
     "duration": 0.226255,
     "end_time": "2023-05-08T21:07:46.679719",
     "exception": false,
     "start_time": "2023-05-08T21:07:46.453464",
     "status": "completed"
    },
    "tags": []
   },
   "outputs": [],
   "source": []
  },
  {
   "cell_type": "markdown",
   "id": "dd4c30a3",
   "metadata": {
    "id": "BodcfKzI1_F4",
    "papermill": {
     "duration": 0.174012,
     "end_time": "2023-05-08T21:07:47.024018",
     "exception": false,
     "start_time": "2023-05-08T21:07:46.850006",
     "status": "completed"
    },
    "tags": []
   },
   "source": [
    "### References\n",
    "\n",
    "1. https://pillow.readthedocs.io/en/stable/reference/Image.html#module-PIL.Image\n",
    "\n",
    "2. https://pillow.readthedocs.io/en/stable/reference/Image.html\n",
    "\n",
    "3. https://www.geeksforgeeks.org/python-pil-image-resize-method/\n",
    "\n",
    "4. https://www.geeksforgeeks.org/convert-an-image-into-jpg-format-using-pillow-in-python/\n",
    "\n",
    "5. https://medium.com/@ajeet214/image-type-conversion-jpg-png-jpg-webp-png-webp-with-python-7d5df09394c9"
   ]
  }
 ],
 "metadata": {
  "kernelspec": {
   "display_name": "Python 3",
   "language": "python",
   "name": "python3"
  },
  "language_info": {
   "codemirror_mode": {
    "name": "ipython",
    "version": 3
   },
   "file_extension": ".py",
   "mimetype": "text/x-python",
   "name": "python",
   "nbconvert_exporter": "python",
   "pygments_lexer": "ipython3",
   "version": "3.10.10"
  },
  "papermill": {
   "default_parameters": {},
   "duration": 3325.513864,
   "end_time": "2023-05-08T21:07:50.599678",
   "environment_variables": {},
   "exception": null,
   "input_path": "__notebook__.ipynb",
   "output_path": "__notebook__.ipynb",
   "parameters": {},
   "start_time": "2023-05-08T20:12:25.085814",
   "version": "2.4.0"
  }
 },
 "nbformat": 4,
 "nbformat_minor": 5
}
