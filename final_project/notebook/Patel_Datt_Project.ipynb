{
  "cells": [
    {
      "attachments": {},
      "cell_type": "markdown",
      "metadata": {},
      "source": [
        "<center><h1>Patel_Datt_Project</h1></center>"
      ]
    },
    {
      "attachments": {},
      "cell_type": "markdown",
      "metadata": {},
      "source": [
        "Name: Datt Patel \n",
        "<br>\n",
        "Github Username: dattpatel99\n",
        "<br>\n",
        "USC ID: 2149812400"
      ]
    },
    {
      "cell_type": "code",
      "execution_count": 2,
      "metadata": {
        "id": "zuocW4vSOTeX"
      },
      "outputs": [],
      "source": [
        "import os\n",
        "import cv2\n",
        "import pathlib\n",
        "import numpy as np\n",
        "from tqdm import tqdm\n",
        "import tensorflow as tf\n",
        "import matplotlib.pyplot as plt\n",
        "from sklearn.metrics import confusion_matrix"
      ]
    },
    {
      "attachments": {},
      "cell_type": "markdown",
      "metadata": {},
      "source": [
        "### Define Constants"
      ]
    },
    {
      "cell_type": "code",
      "execution_count": 4,
      "metadata": {
        "id": "iEdpV8G5O5_7"
      },
      "outputs": [],
      "source": [
        "IMG_WID, IMG_HG = 224, 224\n",
        "IMG_SIZE = (IMG_WID, IMG_HG)\n",
        "VAL_RATIO = 0.15\n",
        "TEST_RATIO = 1\n",
        "TRAIN_RATIO = 0.7\n",
        "PATIENCE = 2\n",
        "BATCH_FIT = 128\n",
        "EPOCHS = 50"
      ]
    },
    {
      "cell_type": "code",
      "execution_count": 5,
      "metadata": {
        "id": "_l3nS2vGOFYW"
      },
      "outputs": [],
      "source": [
        "data_files = '../data'\n",
        "data_locs = [data_files+'/Sport Images', data_files+'/Sport Videos']"
      ]
    },
    {
      "cell_type": "code",
      "execution_count": 6,
      "metadata": {
        "id": "QIoc3EMQwcqp"
      },
      "outputs": [],
      "source": [
        "# Print tf.data.dataset image\n",
        "def showIMG(tf_dataset):\n",
        "    for images, label in tf_dataset.take(1):\n",
        "        plt.imshow(images.numpy())\n",
        "        plt.axis(\"off\")"
      ]
    },
    {
      "attachments": {},
      "cell_type": "markdown",
      "metadata": {
        "id": "SgwSihQO1RXV"
      },
      "source": [
        "### Reading Images into Datasets"
      ]
    },
    {
      "cell_type": "code",
      "execution_count": 7,
      "metadata": {
        "id": "DsNl8q4jmQvu"
      },
      "outputs": [],
      "source": [
        "def createFileDataset(filePath, label):\n",
        "    # Read files as tf.data.dataset objects\n",
        "    file_data = tf.keras.utils.image_dataset_from_directory(filePath,\n",
        "                                                          labels=None,\n",
        "                                                          label_mode='int',\n",
        "                                                          color_mode='rgb',\n",
        "                                                          batch_size=None,\n",
        "                                                          image_size=IMG_SIZE,\n",
        "                                                          seed=99)\n",
        "    # Create tuple of label and dataset\n",
        "    file_data = file_data.map(lambda x: (x, label))\n",
        "    # Split data into different sections based on their ratio\n",
        "    # Find number of images in each section\n",
        "    num_images = len(file_data)\n",
        "    train_images = int(np.ceil(num_images*TRAIN_RATIO)) \n",
        "    val_images = int(np.ceil(num_images*VAL_RATIO))\n",
        "    test_images = int(TEST_RATIO*(num_images - (train_images + val_images)))\n",
        "    # Split the dataset \n",
        "    train_data = file_data.take(train_images)\n",
        "    val_data = file_data.skip(train_images).take(val_images)\n",
        "    test_data = file_data.skip(train_images + val_images).take(test_images)\n",
        "    return [train_data, val_data, test_data]"
      ]
    },
    {
      "cell_type": "code",
      "execution_count": 8,
      "metadata": {
        "colab": {
          "base_uri": "https://localhost:8080/"
        },
        "id": "KUf_5OKhPwZy",
        "outputId": "bf29b5b4-9158-4b08-b403-0a1c0d15e1ba"
      },
      "outputs": [
        {
          "name": "stdout",
          "output_type": "stream",
          "text": [
            "Found 734 files belonging to 1 classes.\n",
            "Found 492 files belonging to 1 classes.\n",
            "Found 634 files belonging to 1 classes.\n",
            "Found 715 files belonging to 1 classes.\n",
            "Found 704 files belonging to 1 classes.\n"
          ]
        }
      ],
      "source": [
        "classes = ['baseball','basketball','fencing','tennis','volleyball']\n",
        "image_data = []\n",
        "for idx in range(len(classes)):\n",
        "    image_data.append(createFileDataset(data_locs[0]+'/'+classes[idx], idx))"
      ]
    },
    {
      "cell_type": "code",
      "execution_count": 9,
      "metadata": {
        "id": "biK3L8nj9DpG"
      },
      "outputs": [],
      "source": [
        "train = image_data[0][0]\n",
        "val = image_data[0][1]\n",
        "test = image_data[0][2]\n",
        "for data_train, data_val, data_test in image_data[1:]: \n",
        "    train = train.concatenate(data_train)\n",
        "    val = val.concatenate(data_val)\n",
        "    test = test.concatenate(data_test)"
      ]
    },
    {
      "attachments": {},
      "cell_type": "markdown",
      "metadata": {
        "id": "svVTxzl-dgPB"
      },
      "source": [
        "### Image Augmentation"
      ]
    },
    {
      "cell_type": "code",
      "execution_count": 10,
      "metadata": {
        "id": "8noPqsnh3Wmg"
      },
      "outputs": [],
      "source": [
        "flip_img = tf.keras.layers.RandomFlip(\"horizontal_and_vertical\")\n",
        "rot_img = tf.keras.layers.RandomRotation((-0.2, 0.5))\n",
        "trans_img = tf.keras.layers.RandomTranslation((-0.2, 0.5), (-0.2, 0.5))\n",
        "zoom_img = tf.keras.layers.RandomZoom((-0.1, 0.3))\n",
        "brightness_img = tf.keras.layers.RandomBrightness(0.4)\n",
        "contrast_img = tf.keras.layers.RandomContrast(0.6)"
      ]
    },
    {
      "cell_type": "code",
      "execution_count": 11,
      "metadata": {
        "id": "XWTcyveJpouC"
      },
      "outputs": [],
      "source": [
        "def chooseRandom(x):\n",
        "    chooser = np.random.randint(0,1)\n",
        "    # Randomly choose which type of augmentation to do but first one gets a little more edge\n",
        "    if chooser >= 0.6:\n",
        "        return trans_img(flip_img(contrast_img(zoom_img(x))))\n",
        "    else:\n",
        "        return rot_img(brightness_img(x))"
      ]
    },
    {
      "cell_type": "code",
      "execution_count": 12,
      "metadata": {
        "id": "Yvc1RFKAmQvx"
      },
      "outputs": [],
      "source": [
        "# DO augmentation on training data\n",
        "augmented_data = train.map(lambda x,y:(chooseRandom(x), y))\n",
        "flip_dataset = train.map(lambda x,y:(flip_img(x), y))\n",
        "rot_dataset = train.map(lambda x,y:(rot_img(x), y))\n",
        "trans_dataset = train.map(lambda x,y:(trans_img(x), y))\n",
        "zoom_dataset = train.map(lambda x,y:(zoom_img(x), y))"
      ]
    },
    {
      "cell_type": "code",
      "execution_count": 13,
      "metadata": {
        "id": "8rBXtKLEbSLZ"
      },
      "outputs": [],
      "source": [
        "train_new = train.concatenate(augmented_data)\n",
        "train_new = train_new.concatenate(flip_dataset)\n",
        "train_new = train_new.concatenate(rot_dataset)\n",
        "train_new = train_new.concatenate(trans_dataset)\n",
        "train_new = train_new.concatenate(zoom_dataset)"
      ]
    },
    {
      "cell_type": "code",
      "execution_count": 14,
      "metadata": {
        "id": "iAmg5inNbSLZ"
      },
      "outputs": [],
      "source": [
        "batched_train = train_new.batch(128, drop_remainder=True)\n",
        "batched_val = val.batch(128, drop_remainder=True)\n",
        "batched_test = test.batch(128, drop_remainder=True)"
      ]
    },
    {
      "attachments": {},
      "cell_type": "markdown",
      "metadata": {
        "id": "y7K_E131mQvx"
      },
      "source": [
        "### Create models: ResNet50, EfficientNetB0, VGG16"
      ]
    },
    {
      "cell_type": "code",
      "execution_count": 15,
      "metadata": {
        "id": "fgLf822vt0jb"
      },
      "outputs": [],
      "source": [
        "def createModel(base_model):\n",
        "    for layer in base_model.layers:\n",
        "        layer.trainable = False\n",
        "    model_run = tf.keras.layers.Flatten()(base_model.output)\n",
        "    model_run = tf.keras.layers.Dense(32, activation='relu')(model_run)\n",
        "    model_run = tf.keras.layers.Dropout(0.2)(model_run)\n",
        "    model_run = tf.keras.layers.BatchNormalization()(model_run)\n",
        "    model_run_predictions = tf.keras.layers.Dense(5, activation = 'softmax')(model_run)\n",
        "    model_head = tf.keras.Model(inputs = base_model.input, outputs = model_run_predictions)\n",
        "    model_head.compile(optimizer='adam', loss=\"sparse_categorical_crossentropy\", metrics=['accuracy'])\n",
        "    return model_head"
      ]
    },
    {
      "cell_type": "code",
      "execution_count": 16,
      "metadata": {
        "colab": {
          "base_uri": "https://localhost:8080/"
        },
        "id": "rUqlAWS9mQvx",
        "outputId": "e2f1e005-a2b0-4c77-fac8-167579699faa"
      },
      "outputs": [
        {
          "name": "stdout",
          "output_type": "stream",
          "text": [
            "Downloading data from https://storage.googleapis.com/tensorflow/keras-applications/resnet/resnet50_weights_tf_dim_ordering_tf_kernels_notop.h5\n",
            "94765736/94765736 [==============================] - 1s 0us/step\n",
            "Downloading data from https://storage.googleapis.com/keras-applications/efficientnetb0_notop.h5\n",
            "16705208/16705208 [==============================] - 1s 0us/step\n",
            "Downloading data from https://storage.googleapis.com/tensorflow/keras-applications/vgg16/vgg16_weights_tf_dim_ordering_tf_kernels_notop.h5\n",
            "58889256/58889256 [==============================] - 1s 0us/step\n"
          ]
        }
      ],
      "source": [
        "resnet_base = tf.keras.applications.ResNet50(weights = 'imagenet', include_top = False, input_shape = (IMG_WID, IMG_HG, 3))\n",
        "efficient_base = tf.keras.applications.EfficientNetB0(weights = 'imagenet', include_top = False, input_shape = (IMG_WID, IMG_HG, 3))\n",
        "vgg_base = tf.keras.applications.VGG16(weights = 'imagenet', include_top = False, input_shape = (IMG_WID, IMG_HG, 3))"
      ]
    },
    {
      "cell_type": "code",
      "execution_count": 17,
      "metadata": {
        "id": "Tl4W7ZfNwKoz"
      },
      "outputs": [],
      "source": [
        "resnet_head = createModel(resnet_base)\n",
        "efficient_head = createModel(efficient_base)\n",
        "vgg_head = createModel(vgg_base)"
      ]
    },
    {
      "cell_type": "code",
      "execution_count": 18,
      "metadata": {
        "id": "Ky5Q5CRMmQvy"
      },
      "outputs": [],
      "source": [
        "# Define early stopping callback\n",
        "early_stop = tf.keras.callbacks.EarlyStopping(monitor='val_loss', patience=PATIENCE, verbose=1, mode='min', restore_best_weights=True) # Early stop and restore weight from best model"
      ]
    },
    {
      "attachments": {},
      "cell_type": "markdown",
      "metadata": {},
      "source": [
        "#### Training models"
      ]
    },
    {
      "cell_type": "code",
      "execution_count": 19,
      "metadata": {
        "colab": {
          "base_uri": "https://localhost:8080/"
        },
        "id": "v-zb8LWbmQvy",
        "outputId": "6b1d2b96-1a5c-48b5-f62d-674b7814d4b8"
      },
      "outputs": [
        {
          "name": "stdout",
          "output_type": "stream",
          "text": [
            "Epoch 1/50\n",
            "107/107 [==============================] - 336s 3s/step - loss: 1.7807 - accuracy: 0.2178 - val_loss: 1.3770 - val_accuracy: 0.6068\n",
            "Epoch 2/50\n",
            "107/107 [==============================] - 108s 1s/step - loss: 1.6541 - accuracy: 0.2404 - val_loss: 1.1758 - val_accuracy: 0.7917\n",
            "Epoch 3/50\n",
            "107/107 [==============================] - 107s 997ms/step - loss: 1.6229 - accuracy: 0.2691 - val_loss: 1.1322 - val_accuracy: 0.8750\n",
            "Epoch 4/50\n",
            "107/107 [==============================] - 107s 1s/step - loss: 1.6068 - accuracy: 0.2780 - val_loss: 1.2552 - val_accuracy: 0.8802\n",
            "Epoch 5/50\n",
            "107/107 [==============================] - ETA: 0s - loss: 1.5960 - accuracy: 0.2978Restoring model weights from the end of the best epoch: 3.\n",
            "107/107 [==============================] - 107s 993ms/step - loss: 1.5960 - accuracy: 0.2978 - val_loss: 1.3718 - val_accuracy: 0.9089\n",
            "Epoch 5: early stopping\n"
          ]
        }
      ],
      "source": [
        "resnet_history = resnet_head.fit(batched_train, epochs=EPOCHS, batch_size=BATCH_FIT, callbacks=[early_stop], verbose=1, validation_data=batched_val)"
      ]
    },
    {
      "cell_type": "code",
      "execution_count": 21,
      "metadata": {
        "colab": {
          "base_uri": "https://localhost:8080/"
        },
        "id": "sZFMuMcjrRRw",
        "outputId": "16d485a8-b9cb-4f69-e301-95f59d50e97e"
      },
      "outputs": [
        {
          "name": "stdout",
          "output_type": "stream",
          "text": [
            "Epoch 1/50\n",
            "107/107 [==============================] - 99s 866ms/step - loss: 1.8432 - accuracy: 0.2316 - val_loss: 0.8177 - val_accuracy: 0.7969\n",
            "Epoch 2/50\n",
            "107/107 [==============================] - 91s 850ms/step - loss: 1.6813 - accuracy: 0.2789 - val_loss: 0.8642 - val_accuracy: 0.9323\n",
            "Epoch 3/50\n",
            "107/107 [==============================] - ETA: 0s - loss: 1.6337 - accuracy: 0.3025Restoring model weights from the end of the best epoch: 1.\n",
            "107/107 [==============================] - 89s 828ms/step - loss: 1.6337 - accuracy: 0.3025 - val_loss: 0.8856 - val_accuracy: 0.9531\n",
            "Epoch 3: early stopping\n"
          ]
        }
      ],
      "source": [
        "efficient_history = efficient_head.fit(batched_train, epochs=EPOCHS, batch_size=BATCH_FIT, callbacks=[early_stop], verbose=1, validation_data=batched_val)"
      ]
    },
    {
      "cell_type": "code",
      "execution_count": 22,
      "metadata": {
        "colab": {
          "base_uri": "https://localhost:8080/"
        },
        "id": "JoBRfPHRrfCc",
        "outputId": "eba71820-10fd-47cf-b100-34e81919b472"
      },
      "outputs": [
        {
          "name": "stdout",
          "output_type": "stream",
          "text": [
            "Epoch 1/50\n",
            "107/107 [==============================] - 146s 1s/step - loss: 1.7538 - accuracy: 0.2035 - val_loss: 1.3648 - val_accuracy: 0.5182\n",
            "Epoch 2/50\n",
            "107/107 [==============================] - 129s 1s/step - loss: 1.6575 - accuracy: 0.2286 - val_loss: 1.3800 - val_accuracy: 0.7214\n",
            "Epoch 3/50\n",
            "107/107 [==============================] - ETA: 0s - loss: 1.6316 - accuracy: 0.2439Restoring model weights from the end of the best epoch: 1.\n",
            "107/107 [==============================] - 128s 1s/step - loss: 1.6316 - accuracy: 0.2439 - val_loss: 1.4888 - val_accuracy: 0.7292\n",
            "Epoch 3: early stopping\n"
          ]
        }
      ],
      "source": [
        "vgg_history = vgg_head.fit(batched_train, epochs=EPOCHS, batch_size=BATCH_FIT, callbacks=[early_stop], verbose=1, validation_data=batched_val)"
      ]
    },
    {
      "attachments": {},
      "cell_type": "markdown",
      "metadata": {
        "id": "t0nA3B4xmQvy"
      },
      "source": [
        "### Model Evaluation"
      ]
    },
    {
      "cell_type": "code",
      "execution_count": 24,
      "metadata": {
        "id": "EPE0Jt9Gwzy9"
      },
      "outputs": [],
      "source": [
        "# Plotting function for showing Model Loss per Epoch\n",
        "def plotLossEpoch(model_history, model):\n",
        "    plt.plot(model_history.history['loss'])\n",
        "    plt.plot(model_history.history['val_loss'])\n",
        "    plt.title('{} Model Loss'.format(model))\n",
        "    plt.ylabel('Loss')\n",
        "    plt.xlabel('Epoch')\n",
        "    plt.legend(['Train', 'Validation'], loc='upper right')\n",
        "    plt.show()"
      ]
    },
    {
      "cell_type": "code",
      "execution_count": 25,
      "metadata": {
        "colab": {
          "base_uri": "https://localhost:8080/",
          "height": 472
        },
        "id": "DXISAsXjmQvy",
        "outputId": "22a705f6-3760-4ad9-ff03-a75cbeb58a75"
      },
      "outputs": [
        {
          "data": {
            "image/png": "[encoded data removed]",
            "text/plain": [
              "<Figure size 640x480 with 1 Axes>"
            ]
          },
          "metadata": {},
          "output_type": "display_data"
        }
      ],
      "source": [
        "plotLossEpoch(resnet_history, 'ResNet50')"
      ]
    },
    {
      "cell_type": "code",
      "execution_count": 26,
      "metadata": {
        "colab": {
          "base_uri": "https://localhost:8080/",
          "height": 472
        },
        "id": "xfl9G8eJscWi",
        "outputId": "fd48e0aa-0b0f-43db-d69b-2f6c8fa8cfa3"
      },
      "outputs": [
        {
          "data": {
            "image/png": "[encoded data removed]",
            "text/plain": [
              "<Figure size 640x480 with 1 Axes>"
            ]
          },
          "metadata": {},
          "output_type": "display_data"
        }
      ],
      "source": [
        "plotLossEpoch(efficient_history, 'EfficientNetB0')"
      ]
    },
    {
      "cell_type": "code",
      "execution_count": 27,
      "metadata": {
        "colab": {
          "base_uri": "https://localhost:8080/",
          "height": 472
        },
        "id": "6-0rlZPrmQvy",
        "outputId": "1f166c15-5c68-4d82-9c88-901bf8829584"
      },
      "outputs": [
        {
          "data": {
            "image/png": "[encoded data removed]",
            "text/plain": [
              "<Figure size 640x480 with 1 Axes>"
            ]
          },
          "metadata": {},
          "output_type": "display_data"
        }
      ],
      "source": [
        "plotLossEpoch(vgg_history, 'VGG16')"
      ]
    },
    {
      "attachments": {},
      "cell_type": "markdown",
      "metadata": {
        "id": "4JDHsHIHrwRf"
      },
      "source": [
        "### Predictions"
      ]
    },
    {
      "attachments": {},
      "cell_type": "markdown",
      "metadata": {},
      "source": [
        "#### Train"
      ]
    },
    {
      "cell_type": "code",
      "execution_count": 28,
      "metadata": {
        "colab": {
          "base_uri": "https://localhost:8080/"
        },
        "id": "xnAQpac0173X",
        "outputId": "9aeb58d5-bd6f-42c9-dd43-5e3bca6e26de"
      },
      "outputs": [
        {
          "name": "stdout",
          "output_type": "stream",
          "text": [
            "107/107 [==============================] - 104s 961ms/step\n",
            "107/107 [==============================] - 88s 807ms/step\n",
            "107/107 [==============================] - 121s 1s/step\n"
          ]
        }
      ],
      "source": [
        "train_resnet_pred = resnet_head.predict(batched_train)\n",
        "train_efficient_pred = efficient_head.predict(batched_train)\n",
        "train_vgg_pred = vgg_head.predict(batched_train)"
      ]
    },
    {
      "attachments": {},
      "cell_type": "markdown",
      "metadata": {},
      "source": [
        "#### Test"
      ]
    },
    {
      "cell_type": "code",
      "execution_count": 29,
      "metadata": {
        "colab": {
          "base_uri": "https://localhost:8080/"
        },
        "id": "4QnNu7X7rxhZ",
        "outputId": "de48c396-752d-43a7-dbde-1fc0bd281ff2"
      },
      "outputs": [
        {
          "name": "stdout",
          "output_type": "stream",
          "text": [
            "3/3 [==============================] - 4s 1s/step\n",
            "3/3 [==============================] - 4s 1s/step\n",
            "3/3 [==============================] - 4s 1s/step\n"
          ]
        }
      ],
      "source": [
        "resnet_pred = resnet_head.predict(batched_test)\n",
        "efficient_pred = efficient_head.predict(batched_test)\n",
        "vgg_pred = vgg_head.predict(batched_test)"
      ]
    },
    {
      "attachments": {},
      "cell_type": "markdown",
      "metadata": {},
      "source": [
        "#### Train"
      ]
    },
    {
      "cell_type": "code",
      "execution_count": 31,
      "metadata": {
        "id": "IyJ-kfS11_-f"
      },
      "outputs": [],
      "source": [
        "train_resnet_pred = np.argmax(train_resnet_pred, axis=1)\n",
        "train_efficient_pred = np.argmax(train_efficient_pred, axis=1)\n",
        "train_vgg_pred = np.argmax(train_vgg_pred, axis=1)"
      ]
    },
    {
      "attachments": {},
      "cell_type": "markdown",
      "metadata": {},
      "source": [
        "#### Test"
      ]
    },
    {
      "cell_type": "code",
      "execution_count": 30,
      "metadata": {
        "id": "-muYcUJwxTC7"
      },
      "outputs": [],
      "source": [
        "resnet_pred = np.argmax(resnet_pred, axis=1)\n",
        "efficient_pred = np.argmax(efficient_pred, axis=1)\n",
        "vgg_pred = np.argmax(vgg_pred, axis=1)"
      ]
    },
    {
      "attachments": {},
      "cell_type": "markdown",
      "metadata": {
        "id": "OCgJlCAnxj0-"
      },
      "source": [
        "### Statistical Analysis of Image Models"
      ]
    },
    {
      "attachments": {},
      "cell_type": "markdown",
      "metadata": {
        "id": "Q7fqxVXt9DpM"
      },
      "source": [
        "Methods for claculating Precision, Recall, Accuracy, F1 and Confusion Matrix itesm for multiclassification are from\n",
        "\n",
        "https://www.kaggle.com/code/nkitgupta/evaluation-metrics-for-multi-class-classification"
      ]
    },
    {
      "cell_type": "code",
      "execution_count": 32,
      "metadata": {
        "id": "e_s-Ccv4zoKX"
      },
      "outputs": [],
      "source": [
        "# ACCURACY\n",
        "def findaccuracy(y_true, y_pred):\n",
        "    # Intitializing variable to store count of correctly predicted classes\n",
        "    correct_predictions = 0    \n",
        "    for yt, yp in zip(y_true, y_pred):\n",
        "        if yt == yp:            \n",
        "            correct_predictions += 1\n",
        "    return correct_predictions / len(y_true)"
      ]
    },
    {
      "cell_type": "code",
      "execution_count": 33,
      "metadata": {
        "id": "972PltMtzoIF"
      },
      "outputs": [],
      "source": [
        "# Functions to compute True Positives, True Negatives, False Positives and False Negatives\n",
        "def true_positive(y_true, y_pred):\n",
        "    tp = 0\n",
        "    for yt, yp in zip(y_true, y_pred):        \n",
        "        if yt == 1 and yp == 1:\n",
        "            tp += 1\n",
        "    return tp\n",
        "\n",
        "def true_negative(y_true, y_pred):    \n",
        "    tn = 0\n",
        "    for yt, yp in zip(y_true, y_pred):        \n",
        "        if yt == 0 and yp == 0:\n",
        "            tn += 1\n",
        "    return tn\n",
        "\n",
        "def false_positive(y_true, y_pred):    \n",
        "    fp = 0\n",
        "    for yt, yp in zip(y_true, y_pred):\n",
        "        if yt == 0 and yp == 1:\n",
        "            fp += 1            \n",
        "    return fp\n",
        "\n",
        "def false_negative(y_true, y_pred):\n",
        "    fn = 0    \n",
        "    for yt, yp in zip(y_true, y_pred):\n",
        "        if yt == 1 and yp == 0:\n",
        "            fn += 1            \n",
        "    return fn\n",
        "\n",
        "# PRECISION\n",
        "def macro_precision(y_true, y_pred):\n",
        "    # find the number of classes\n",
        "    num_classes = len(np.unique(y_true))\n",
        "    # initialize precision to 0\n",
        "    precision = 0\n",
        "    # loop over all classes\n",
        "    for class_ in np.unique(y_true):\n",
        "        # all classes except current are considered negative\n",
        "        temp_true = [1 if p == class_ else 0 for p in y_true]\n",
        "        temp_pred = [1 if p == class_ else 0 for p in y_pred]\n",
        "        # compute true positive for current class\n",
        "        tp = true_positive(temp_true, temp_pred)\n",
        "        # compute false positive for current class\n",
        "        fp = false_positive(temp_true, temp_pred)\n",
        "        # compute precision for current class\n",
        "        temp_precision = tp / (tp + fp + 1e-6)\n",
        "        # keep adding precision for all classes\n",
        "        precision += temp_precision\n",
        "    # calculate and return average precision over all classes\n",
        "    precision /= num_classes\n",
        "    return precision"
      ]
    },
    {
      "cell_type": "code",
      "execution_count": 34,
      "metadata": {
        "id": "t06mVemxzoFW"
      },
      "outputs": [],
      "source": [
        "# RECALL\n",
        "def macro_recall(y_true, y_pred):\n",
        "    # find the number of classes\n",
        "    num_classes = len(np.unique(y_true))\n",
        "    # initialize recall to 0\n",
        "    recall = 0\n",
        "    # loop over all classes\n",
        "    for class_ in np.unique(y_true):\n",
        "        # all classes except current are considered negative\n",
        "        temp_true = [1 if p == class_ else 0 for p in y_true]\n",
        "        temp_pred = [1 if p == class_ else 0 for p in y_pred]\n",
        "        # compute true positive for current class\n",
        "        tp = true_positive(temp_true, temp_pred)\n",
        "        # compute false negative for current class\n",
        "        fn = false_negative(temp_true, temp_pred)\n",
        "        # compute recall for current class\n",
        "        temp_recall = tp / (tp + fn + 1e-6)\n",
        "        # keep adding recall for all classes\n",
        "        recall += temp_recall\n",
        "    # calculate and return average recall over all classes\n",
        "    recall /= num_classes\n",
        "    return recall"
      ]
    },
    {
      "cell_type": "code",
      "execution_count": 35,
      "metadata": {
        "id": "VUMhIDtZzoAw"
      },
      "outputs": [],
      "source": [
        "# F1\n",
        "def macro_f1(y_true, y_pred):\n",
        "    # find the number of classes\n",
        "    num_classes = len(np.unique(y_true))\n",
        "    # initialize f1 to 0\n",
        "    f1 = 0\n",
        "    # loop over all classes\n",
        "    for class_ in np.unique(y_true):\n",
        "        # all classes except current are considered negative\n",
        "        temp_true = [1 if p == class_ else 0 for p in y_true]\n",
        "        temp_pred = [1 if p == class_ else 0 for p in y_pred]\n",
        "        # compute true positive for current class\n",
        "        tp = true_positive(temp_true, temp_pred)\n",
        "        # compute false negative for current class\n",
        "        fn = false_negative(temp_true, temp_pred)\n",
        "        # compute false positive for current class\n",
        "        fp = false_positive(temp_true, temp_pred)\n",
        "        # compute recall for current class\n",
        "        temp_recall = tp / (tp + fn + 1e-6)\n",
        "        # compute precision for current class\n",
        "        temp_precision = tp / (tp + fp + 1e-6)\n",
        "        temp_f1 = 2 * temp_precision * temp_recall / (temp_precision + temp_recall + 1e-6)\n",
        "        # keep adding f1 score for all classes\n",
        "        f1 += temp_f1\n",
        "    # calculate and return average f1 score over all classes\n",
        "    f1 /= num_classes\n",
        "    return f1"
      ]
    },
    {
      "cell_type": "code",
      "execution_count": 36,
      "metadata": {
        "id": "wLSDG3olxmro"
      },
      "outputs": [],
      "source": [
        "# Statistics of model prediction\n",
        "def displayAnalysis(model_name, y_test, y_pred):\n",
        "    print(\"Results for model {}\".format(model_name))\n",
        "    cm = confusion_matrix(y_test, y_pred)\n",
        "    print(\"Confusion Matrix:\\n\", cm)\n",
        "\n",
        "    precision = macro_precision(y_test, y_pred)\n",
        "    recall = macro_recall(y_test, y_pred)\n",
        "    accuracy = findaccuracy(y_test, y_pred)\n",
        "    f1 = macro_f1(y_test, y_pred)\n",
        "\n",
        "    print(\"Precision:\", precision)\n",
        "    print(\"Recall:\", recall)\n",
        "    print(\"Accuracy:\", accuracy)\n",
        "    print(\"F1 Score:\", f1)"
      ]
    },
    {
      "cell_type": "code",
      "execution_count": 37,
      "metadata": {
        "id": "J4u0561EsEFR"
      },
      "outputs": [],
      "source": [
        "# Combine the batches into single array \n",
        "test_label = []\n",
        "for img, label in (batched_test.take(len(batched_test))):\n",
        "    test_label += list(label.numpy())\n",
        "test_label = np.array(test_label)"
      ]
    },
    {
      "cell_type": "code",
      "execution_count": 38,
      "metadata": {
        "id": "fDZ3R7AB2ZXZ"
      },
      "outputs": [],
      "source": [
        "# Combine the batches into single array \n",
        "train_label = []\n",
        "for img, label in (batched_train.take(len(batched_train))):\n",
        "    train_label += list(label.numpy())\n",
        "train_label = np.array(train_label)"
      ]
    },
    {
      "attachments": {},
      "cell_type": "markdown",
      "metadata": {
        "id": "peH3XpD42hRn"
      },
      "source": [
        "#### Train "
      ]
    },
    {
      "cell_type": "code",
      "execution_count": 39,
      "metadata": {
        "colab": {
          "base_uri": "https://localhost:8080/"
        },
        "id": "56lX7zeC2g91",
        "outputId": "851f1849-c827-4ebb-a90f-5d48453edbee"
      },
      "outputs": [
        {
          "name": "stdout",
          "output_type": "stream",
          "text": [
            "Results for model ResNet\n",
            "Confusion Matrix:\n",
            " [[2234  124  193  147  386]\n",
            " [  22 1732   21   41  254]\n",
            " [  76   22 1937   31  598]\n",
            " [ 667  156  159 1522  502]\n",
            " [  31  271  100    8 2462]]\n",
            "Precision: 0.7497122332320477\n",
            "Recall: 0.7303528050683574\n",
            "Accuracy: 0.7218896028037384\n",
            "F1 Score: 0.7244578703487774\n"
          ]
        }
      ],
      "source": [
        "displayAnalysis('ResNet', train_label, train_resnet_pred)"
      ]
    },
    {
      "cell_type": "code",
      "execution_count": 40,
      "metadata": {
        "colab": {
          "base_uri": "https://localhost:8080/"
        },
        "id": "c8wdoODV2g4C",
        "outputId": "beb97a05-6437-4e3e-bba4-3e3d206ed0f5"
      },
      "outputs": [
        {
          "name": "stdout",
          "output_type": "stream",
          "text": [
            "Results for model EfficientB0\n",
            "Confusion Matrix:\n",
            " [[2667   19  131  179   88]\n",
            " [ 132 1577   36   47  278]\n",
            " [ 281   10 2031  120  222]\n",
            " [1058   56  149 1601  142]\n",
            " [ 135  250  113   76 2298]]\n",
            "Precision: 0.764973577734589\n",
            "Recall: 0.7443499733024708\n",
            "Accuracy: 0.7428446261682243\n",
            "F1 Score: 0.745103161071335\n"
          ]
        }
      ],
      "source": [
        "displayAnalysis('EfficientB0', train_label, train_efficient_pred)"
      ]
    },
    {
      "cell_type": "code",
      "execution_count": 41,
      "metadata": {
        "colab": {
          "base_uri": "https://localhost:8080/"
        },
        "id": "VSBo7Jvg2gsk",
        "outputId": "208c5c0c-2b2e-49a7-87f6-424ea1a9ebe1"
      },
      "outputs": [
        {
          "name": "stdout",
          "output_type": "stream",
          "text": [
            "Results for model VGG16\n",
            "Confusion Matrix:\n",
            " [[ 606   80  432 1316  650]\n",
            " [  24  390   30  606 1020]\n",
            " [  88    6 1539  317  714]\n",
            " [  79   52  226 2226  423]\n",
            " [   8   27  204  156 2477]]\n",
            "Precision: 0.6078116223410767\n",
            "Recall: 0.5131181392989936\n",
            "Accuracy: 0.5284754672897196\n",
            "F1 Score: 0.4808064051761023\n"
          ]
        }
      ],
      "source": [
        "displayAnalysis('VGG16', train_label, train_vgg_pred)"
      ]
    },
    {
      "attachments": {},
      "cell_type": "markdown",
      "metadata": {
        "id": "nhSELG_w2ike"
      },
      "source": [
        "#### Test"
      ]
    },
    {
      "cell_type": "code",
      "execution_count": 42,
      "metadata": {
        "colab": {
          "base_uri": "https://localhost:8080/"
        },
        "id": "mOSTLcixwC9E",
        "outputId": "ccfc3d77-9c21-45ff-bccd-ade866e145ef"
      },
      "outputs": [
        {
          "name": "stdout",
          "output_type": "stream",
          "text": [
            "Results for model ResNet50\n",
            "Confusion Matrix:\n",
            " [[92  4  9  3  1]\n",
            " [ 2 67  1  1  2]\n",
            " [ 2  0 86  2  4]\n",
            " [29  2  5 62  8]\n",
            " [ 0  0  0  0  2]]\n",
            "Precision: 0.7069410170357672\n",
            "Recall: 0.8523287316515228\n",
            "Accuracy: 0.8046875\n",
            "F1 Score: 0.7018704122554646\n"
          ]
        }
      ],
      "source": [
        "displayAnalysis('ResNet50', test_label, resnet_pred)"
      ]
    },
    {
      "cell_type": "code",
      "execution_count": 43,
      "metadata": {
        "colab": {
          "base_uri": "https://localhost:8080/"
        },
        "id": "YXLmS4Rm1xFU",
        "outputId": "52059e34-1965-4d80-b39a-479c28707436"
      },
      "outputs": [
        {
          "name": "stdout",
          "output_type": "stream",
          "text": [
            "Results for model EfficientNetB0\n",
            "Confusion Matrix:\n",
            " [[103   0   1   4   1]\n",
            " [  7  62   1   1   2]\n",
            " [ 10   0  74   7   3]\n",
            " [ 36   1   5  62   2]\n",
            " [  0   1   0   0   1]]\n",
            "Precision: 0.698307110360646\n",
            "Recall: 0.7332817231335256\n",
            "Accuracy: 0.7864583333333334\n",
            "F1 Score: 0.6797774011018654\n"
          ]
        }
      ],
      "source": [
        "displayAnalysis('EfficientNetB0', test_label, efficient_pred)"
      ]
    },
    {
      "cell_type": "code",
      "execution_count": 44,
      "metadata": {
        "colab": {
          "base_uri": "https://localhost:8080/"
        },
        "id": "T884KQOU1xa9",
        "outputId": "8409c3d3-5287-4a6a-e085-d814d4b18323"
      },
      "outputs": [
        {
          "name": "stdout",
          "output_type": "stream",
          "text": [
            "Results for model VGG16\n",
            "Confusion Matrix:\n",
            " [[28  2 19 45 15]\n",
            " [ 1 17  0 28 27]\n",
            " [ 0  0 72 13  9]\n",
            " [ 1  0  6 94  5]\n",
            " [ 0  0  1  0  1]]\n",
            "Precision: 0.6205060091905088\n",
            "Recall: 0.52850141477026\n",
            "Accuracy: 0.5520833333333334\n",
            "F1 Score: 0.44273643044636596\n"
          ]
        }
      ],
      "source": [
        "displayAnalysis('VGG16', test_label, vgg_pred)"
      ]
    },
    {
      "attachments": {},
      "cell_type": "markdown",
      "metadata": {},
      "source": [
        "Conclusion:\n",
        "Resnet model performs the best on the test set while the Efficient isn't too far behind, VGG could still perform better. Running for larger number of epochs and more patience would give better results."
      ]
    },
    {
      "attachments": {},
      "cell_type": "markdown",
      "metadata": {
        "id": "5Xl56Kqs3FDG"
      },
      "source": [
        "### Frame by Frame Analysis"
      ]
    },
    {
      "attachments": {},
      "cell_type": "markdown",
      "metadata": {
        "id": "62Tsdxb89DpS"
      },
      "source": [
        "#### Retrain best model"
      ]
    },
    {
      "cell_type": "code",
      "execution_count": 45,
      "metadata": {
        "colab": {
          "base_uri": "https://localhost:8080/"
        },
        "id": "a2RnOyPx9DpT",
        "outputId": "a99e688b-1b89-438c-f9a8-0fad129e8c2a"
      },
      "outputs": [
        {
          "name": "stdout",
          "output_type": "stream",
          "text": [
            "Epoch 1/50\n",
            "3/3 [==============================] - 10s 3s/step - loss: 1.4030 - accuracy: 0.4714 - val_loss: 1.1644 - val_accuracy: 0.8490\n",
            "Epoch 2/50\n",
            "3/3 [==============================] - 9s 3s/step - loss: 1.3517 - accuracy: 0.4583 - val_loss: 1.0912 - val_accuracy: 0.8542\n",
            "Epoch 3/50\n",
            "3/3 [==============================] - 9s 4s/step - loss: 1.3621 - accuracy: 0.5026 - val_loss: 1.2733 - val_accuracy: 0.8802\n",
            "Epoch 4/50\n",
            "3/3 [==============================] - 11s 4s/step - loss: 1.3207 - accuracy: 0.5417 - val_loss: 1.0346 - val_accuracy: 0.8646\n",
            "Epoch 5/50\n",
            "3/3 [==============================] - 10s 4s/step - loss: 1.2839 - accuracy: 0.5547 - val_loss: 0.9944 - val_accuracy: 0.8620\n",
            "Epoch 6/50\n",
            "3/3 [==============================] - 11s 4s/step - loss: 1.2886 - accuracy: 0.5234 - val_loss: 0.9854 - val_accuracy: 0.8411\n",
            "Epoch 7/50\n",
            "3/3 [==============================] - 9s 4s/step - loss: 1.2281 - accuracy: 0.5443 - val_loss: 0.8691 - val_accuracy: 0.8906\n",
            "Epoch 8/50\n",
            "3/3 [==============================] - 8s 3s/step - loss: 1.2246 - accuracy: 0.5625 - val_loss: 0.8098 - val_accuracy: 0.8750\n",
            "Epoch 9/50\n",
            "3/3 [==============================] - 9s 3s/step - loss: 1.2065 - accuracy: 0.5807 - val_loss: 0.9011 - val_accuracy: 0.9062\n",
            "Epoch 10/50\n",
            "3/3 [==============================] - ETA: 0s - loss: 1.1970 - accuracy: 0.5599Restoring model weights from the end of the best epoch: 8.\n",
            "3/3 [==============================] - 9s 4s/step - loss: 1.1970 - accuracy: 0.5599 - val_loss: 0.8239 - val_accuracy: 0.8984\n",
            "Epoch 10: early stopping\n"
          ]
        }
      ],
      "source": [
        "'''\n",
        "Due to lack of time I could only retrain the model that I was going to use to predict.\n",
        "'''\n",
        "vide_resnet_history = resnet_head.fit(batched_val, epochs=EPOCHS, batch_size=BATCH_FIT, callbacks=[early_stop], verbose=1, validation_data=batched_test)"
      ]
    },
    {
      "attachments": {},
      "cell_type": "markdown",
      "metadata": {
        "id": "ocQhw0aY9DpT"
      },
      "source": [
        "### Statistical Analysis of Video"
      ]
    },
    {
      "cell_type": "code",
      "execution_count": 46,
      "metadata": {
        "id": "hJkGKq6y9DpT"
      },
      "outputs": [],
      "source": [
        "L = 100 # minimum number of frames from video if it has a length equal or more to it\n",
        "\n",
        "# Alter frame dimensions to be useful\n",
        "def preprocess_frame(frame_img):\n",
        "    frame_img = cv2.resize(frame_img, (IMG_WID, IMG_HG))\n",
        "    frame_img = np.expand_dims(frame_img, axis=0)\n",
        "    return frame_img"
      ]
    },
    {
      "cell_type": "code",
      "execution_count": 50,
      "metadata": {
        "id": "z_rE7Pi53HqO"
      },
      "outputs": [],
      "source": [
        "# Get all file paths for videos and their labels\n",
        "def getFilesandLabels():\n",
        "    video_dir = pathlib.Path('/content/drive/Shareddrives/552 Project/Final Project/data/Sport Videos')\n",
        "    paths = []\n",
        "    vid_true = []\n",
        "    class_mappings = {'BaseballPitch':0,'Basketball':1,'Fencing':2,'TennisSwing':3,'VolleyballSpiking':4}\n",
        "    for vid_path in video_dir.glob('**/*.avi'):\n",
        "        cur_class = os.path.basename(os.path.dirname(vid_path)).split('/')[-1]\n",
        "        vid_true.append(class_mappings[cur_class])\n",
        "        paths.append(str(vid_path))\n",
        "    return paths, vid_true\n",
        "\n",
        "# Prediction\n",
        "def getVideoTestSet(vid_path):\n",
        "    resnet_pred = []\n",
        "    # Verify file type\n",
        "    if str(vid_path)[-4:] == '.avi':\n",
        "        extracted_frames =[]\n",
        "        cap = cv2.VideoCapture(str(vid_path))\n",
        "        length_vid = int(cap.get(cv2.CAP_PROP_FRAME_COUNT))\n",
        "        #Fun Fact: grab and retrieve has better time complexity then other methods https://vuamitom.github.io/2019/12/13/fast-iterate-through-video-frames.html\n",
        "        success = cap.grab() # Check if there is a frame to get\n",
        "        while success:\n",
        "            if (len(extracted_frames) < int(L) or (len(extracted_frames)/length_vid) < 0.6):\n",
        "                success, img = cap.retrieve() # Retrieve frame\n",
        "                frame = preprocess_frame(img)\n",
        "                resnet_pred.append(resnet_head.predict(frame, verbose=0))\n",
        "                success = cap.grab()\n",
        "        cap.release()\n",
        "    tf.keras.backend.clear_session()\n",
        "    return np.argmax(np.mean(resnet_pred, axis=0)) "
      ]
    },
    {
      "cell_type": "code",
      "execution_count": 51,
      "metadata": {
        "colab": {
          "base_uri": "https://localhost:8080/"
        },
        "id": "OHRLk8xy9DpU",
        "outputId": "fd4b9808-15a9-432d-baa3-2ace5eeb603e"
      },
      "outputs": [
        {
          "name": "stderr",
          "output_type": "stream",
          "text": [
            "100%|██████████| 681/681 [1:39:24<00:00,  8.76s/it]\n"
          ]
        }
      ],
      "source": [
        "paths, y_labels = getFilesandLabels()\n",
        "dataset = list(map(getVideoTestSet, tqdm(paths)))"
      ]
    },
    {
      "cell_type": "code",
      "execution_count": 52,
      "metadata": {
        "colab": {
          "base_uri": "https://localhost:8080/"
        },
        "id": "oKIwTZLBbMgj",
        "outputId": "4442cec6-26f3-42f3-f723-4168fc5505ed"
      },
      "outputs": [
        {
          "data": {
            "text/plain": [
              "[2,\n",
              " 2,\n",
              " 0,\n",
              " 2,\n",
              " 2,\n",
              " 2,\n",
              " 2,\n",
              " 0,\n",
              " 0,\n",
              " 0,\n",
              " 0,\n",
              " 3,\n",
              " 2,\n",
              " 0,\n",
              " 2,\n",
              " 0,\n",
              " 2,\n",
              " 2,\n",
              " 0,\n",
              " 0,\n",
              " 2,\n",
              " 3,\n",
              " 2,\n",
              " 2,\n",
              " 2,\n",
              " 2,\n",
              " 2,\n",
              " 0,\n",
              " 2,\n",
              " 0,\n",
              " 0,\n",
              " 0,\n",
              " 2,\n",
              " 0,\n",
              " 2,\n",
              " 2,\n",
              " 0,\n",
              " 0,\n",
              " 0,\n",
              " 2,\n",
              " 0,\n",
              " 0,\n",
              " 2,\n",
              " 0,\n",
              " 2,\n",
              " 0,\n",
              " 0,\n",
              " 0,\n",
              " 2,\n",
              " 2,\n",
              " 0,\n",
              " 0,\n",
              " 0,\n",
              " 0,\n",
              " 0,\n",
              " 0,\n",
              " 2,\n",
              " 0,\n",
              " 2,\n",
              " 0,\n",
              " 0,\n",
              " 0,\n",
              " 0,\n",
              " 2,\n",
              " 0,\n",
              " 2,\n",
              " 2,\n",
              " 2,\n",
              " 2,\n",
              " 2,\n",
              " 0,\n",
              " 2,\n",
              " 0,\n",
              " 2,\n",
              " 0,\n",
              " 2,\n",
              " 0,\n",
              " 2,\n",
              " 2,\n",
              " 2,\n",
              " 0,\n",
              " 0,\n",
              " 2,\n",
              " 2,\n",
              " 0,\n",
              " 2,\n",
              " 2,\n",
              " 0,\n",
              " 0,\n",
              " 2,\n",
              " 2,\n",
              " 2,\n",
              " 2,\n",
              " 2,\n",
              " 2,\n",
              " 0,\n",
              " 2,\n",
              " 0,\n",
              " 2,\n",
              " 2,\n",
              " 0,\n",
              " 0,\n",
              " 0,\n",
              " 2,\n",
              " 2,\n",
              " 2,\n",
              " 0,\n",
              " 0,\n",
              " 0,\n",
              " 2,\n",
              " 2,\n",
              " 2,\n",
              " 2,\n",
              " 0,\n",
              " 0,\n",
              " 0,\n",
              " 2,\n",
              " 0,\n",
              " 2,\n",
              " 4,\n",
              " 0,\n",
              " 0,\n",
              " 0,\n",
              " 0,\n",
              " 0,\n",
              " 2,\n",
              " 2,\n",
              " 2,\n",
              " 2,\n",
              " 2,\n",
              " 0,\n",
              " 2,\n",
              " 0,\n",
              " 0,\n",
              " 0,\n",
              " 2,\n",
              " 2,\n",
              " 0,\n",
              " 0,\n",
              " 2,\n",
              " 0,\n",
              " 0,\n",
              " 0,\n",
              " 0,\n",
              " 0,\n",
              " 0,\n",
              " 0,\n",
              " 0,\n",
              " 0,\n",
              " 0,\n",
              " 0,\n",
              " 0,\n",
              " 0,\n",
              " 0,\n",
              " 0,\n",
              " 0,\n",
              " 0,\n",
              " 0,\n",
              " 0,\n",
              " 0,\n",
              " 0,\n",
              " 0,\n",
              " 0,\n",
              " 0,\n",
              " 0,\n",
              " 0,\n",
              " 0,\n",
              " 0,\n",
              " 0,\n",
              " 0,\n",
              " 0,\n",
              " 0,\n",
              " 0,\n",
              " 0,\n",
              " 0,\n",
              " 0,\n",
              " 0,\n",
              " 0,\n",
              " 0,\n",
              " 0,\n",
              " 0,\n",
              " 0,\n",
              " 2,\n",
              " 0,\n",
              " 0,\n",
              " 0,\n",
              " 0,\n",
              " 0,\n",
              " 0,\n",
              " 0,\n",
              " 0,\n",
              " 0,\n",
              " 0,\n",
              " 0,\n",
              " 0,\n",
              " 2,\n",
              " 2,\n",
              " 0,\n",
              " 0,\n",
              " 0,\n",
              " 2,\n",
              " 0,\n",
              " 0,\n",
              " 0,\n",
              " 0,\n",
              " 0,\n",
              " 0,\n",
              " 0,\n",
              " 0,\n",
              " 0,\n",
              " 0,\n",
              " 0,\n",
              " 0,\n",
              " 0,\n",
              " 0,\n",
              " 0,\n",
              " 0,\n",
              " 2,\n",
              " 0,\n",
              " 0,\n",
              " 0,\n",
              " 0,\n",
              " 0,\n",
              " 0,\n",
              " 0,\n",
              " 0,\n",
              " 0,\n",
              " 0,\n",
              " 0,\n",
              " 0,\n",
              " 0,\n",
              " 0,\n",
              " 0,\n",
              " 0,\n",
              " 0,\n",
              " 2,\n",
              " 0,\n",
              " 0,\n",
              " 0,\n",
              " 0,\n",
              " 0,\n",
              " 0,\n",
              " 0,\n",
              " 0,\n",
              " 0,\n",
              " 0,\n",
              " 2,\n",
              " 0,\n",
              " 0,\n",
              " 0,\n",
              " 0,\n",
              " 2,\n",
              " 0,\n",
              " 0,\n",
              " 0,\n",
              " 0,\n",
              " 0,\n",
              " 0,\n",
              " 0,\n",
              " 0,\n",
              " 0,\n",
              " 0,\n",
              " 0,\n",
              " 0,\n",
              " 0,\n",
              " 0,\n",
              " 2,\n",
              " 0,\n",
              " 0,\n",
              " 0,\n",
              " 0,\n",
              " 0,\n",
              " 0,\n",
              " 0,\n",
              " 2,\n",
              " 0,\n",
              " 0,\n",
              " 0,\n",
              " 2,\n",
              " 0,\n",
              " 0,\n",
              " 2,\n",
              " 0,\n",
              " 0,\n",
              " 0,\n",
              " 0,\n",
              " 0,\n",
              " 0,\n",
              " 2,\n",
              " 0,\n",
              " 0,\n",
              " 0,\n",
              " 0,\n",
              " 0,\n",
              " 2,\n",
              " 0,\n",
              " 0,\n",
              " 0,\n",
              " 2,\n",
              " 0,\n",
              " 0,\n",
              " 0,\n",
              " 2,\n",
              " 0,\n",
              " 2,\n",
              " 2,\n",
              " 2,\n",
              " 2,\n",
              " 4,\n",
              " 2,\n",
              " 2,\n",
              " 2,\n",
              " 2,\n",
              " 2,\n",
              " 2,\n",
              " 2,\n",
              " 0,\n",
              " 2,\n",
              " 0,\n",
              " 2,\n",
              " 2,\n",
              " 2,\n",
              " 2,\n",
              " 2,\n",
              " 2,\n",
              " 2,\n",
              " 0,\n",
              " 2,\n",
              " 2,\n",
              " 2,\n",
              " 2,\n",
              " 2,\n",
              " 2,\n",
              " 2,\n",
              " 0,\n",
              " 2,\n",
              " 2,\n",
              " 2,\n",
              " 2,\n",
              " 2,\n",
              " 2,\n",
              " 2,\n",
              " 2,\n",
              " 2,\n",
              " 0,\n",
              " 2,\n",
              " 2,\n",
              " 2,\n",
              " 2,\n",
              " 2,\n",
              " 2,\n",
              " 2,\n",
              " 2,\n",
              " 2,\n",
              " 2,\n",
              " 2,\n",
              " 2,\n",
              " 2,\n",
              " 2,\n",
              " 0,\n",
              " 2,\n",
              " 2,\n",
              " 2,\n",
              " 2,\n",
              " 2,\n",
              " 0,\n",
              " 2,\n",
              " 2,\n",
              " 2,\n",
              " 2,\n",
              " 2,\n",
              " 2,\n",
              " 2,\n",
              " 2,\n",
              " 2,\n",
              " 2,\n",
              " 2,\n",
              " 2,\n",
              " 2,\n",
              " 2,\n",
              " 2,\n",
              " 2,\n",
              " 2,\n",
              " 2,\n",
              " 2,\n",
              " 2,\n",
              " 2,\n",
              " 2,\n",
              " 2,\n",
              " 2,\n",
              " 2,\n",
              " 2,\n",
              " 2,\n",
              " 0,\n",
              " 2,\n",
              " 2,\n",
              " 2,\n",
              " 2,\n",
              " 2,\n",
              " 2,\n",
              " 2,\n",
              " 2,\n",
              " 2,\n",
              " 2,\n",
              " 2,\n",
              " 2,\n",
              " 2,\n",
              " 2,\n",
              " 2,\n",
              " 2,\n",
              " 2,\n",
              " 2,\n",
              " 2,\n",
              " 2,\n",
              " 2,\n",
              " 0,\n",
              " 0,\n",
              " 0,\n",
              " 0,\n",
              " 0,\n",
              " 0,\n",
              " 0,\n",
              " 0,\n",
              " 0,\n",
              " 0,\n",
              " 2,\n",
              " 0,\n",
              " 0,\n",
              " 0,\n",
              " 2,\n",
              " 0,\n",
              " 0,\n",
              " 0,\n",
              " 0,\n",
              " 0,\n",
              " 0,\n",
              " 0,\n",
              " 2,\n",
              " 0,\n",
              " 0,\n",
              " 0,\n",
              " 0,\n",
              " 0,\n",
              " 2,\n",
              " 2,\n",
              " 2,\n",
              " 0,\n",
              " 0,\n",
              " 0,\n",
              " 0,\n",
              " 0,\n",
              " 0,\n",
              " 0,\n",
              " 2,\n",
              " 0,\n",
              " 0,\n",
              " 0,\n",
              " 2,\n",
              " 0,\n",
              " 0,\n",
              " 0,\n",
              " 0,\n",
              " 0,\n",
              " 0,\n",
              " 0,\n",
              " 2,\n",
              " 0,\n",
              " 0,\n",
              " 0,\n",
              " 0,\n",
              " 0,\n",
              " 0,\n",
              " 0,\n",
              " 2,\n",
              " 0,\n",
              " 0,\n",
              " 0,\n",
              " 0,\n",
              " 0,\n",
              " 0,\n",
              " 2,\n",
              " 0,\n",
              " 0,\n",
              " 0,\n",
              " 2,\n",
              " 0,\n",
              " 0,\n",
              " 2,\n",
              " 0,\n",
              " 0,\n",
              " 2,\n",
              " 0,\n",
              " 0,\n",
              " 0,\n",
              " 0,\n",
              " 0,\n",
              " 0,\n",
              " 2,\n",
              " 0,\n",
              " 0,\n",
              " 0,\n",
              " 0,\n",
              " 2,\n",
              " 0,\n",
              " 0,\n",
              " 0,\n",
              " 0,\n",
              " 0,\n",
              " 2,\n",
              " 0,\n",
              " 0,\n",
              " 0,\n",
              " 0,\n",
              " 0,\n",
              " 0,\n",
              " 0,\n",
              " 0,\n",
              " 0,\n",
              " 0,\n",
              " 0,\n",
              " 0,\n",
              " 0,\n",
              " 0,\n",
              " 0,\n",
              " 0,\n",
              " 0,\n",
              " 2,\n",
              " 0,\n",
              " 0,\n",
              " 0,\n",
              " 0,\n",
              " 0,\n",
              " 0,\n",
              " 0,\n",
              " 0,\n",
              " 0,\n",
              " 0,\n",
              " 0,\n",
              " 0,\n",
              " 0,\n",
              " 0,\n",
              " 2,\n",
              " 0,\n",
              " 0,\n",
              " 0,\n",
              " 0,\n",
              " 0,\n",
              " 0,\n",
              " 0,\n",
              " 0,\n",
              " 0,\n",
              " 0,\n",
              " 0,\n",
              " 0,\n",
              " 0,\n",
              " 0,\n",
              " 0,\n",
              " 0,\n",
              " 0,\n",
              " 0,\n",
              " 0,\n",
              " 0,\n",
              " 0,\n",
              " 0,\n",
              " 0,\n",
              " 2,\n",
              " 2,\n",
              " 2,\n",
              " 2,\n",
              " 2,\n",
              " 2,\n",
              " 2,\n",
              " 2,\n",
              " 2,\n",
              " 2,\n",
              " 2,\n",
              " 2,\n",
              " 0,\n",
              " 2,\n",
              " 2,\n",
              " 2,\n",
              " 2,\n",
              " 2,\n",
              " 0,\n",
              " 2,\n",
              " 2,\n",
              " 2,\n",
              " 2,\n",
              " 2,\n",
              " 2,\n",
              " 2,\n",
              " 2,\n",
              " 2,\n",
              " 2,\n",
              " 2,\n",
              " 2,\n",
              " 2,\n",
              " 2,\n",
              " 2,\n",
              " 2,\n",
              " 2,\n",
              " 2,\n",
              " 2,\n",
              " 2,\n",
              " 2,\n",
              " 2,\n",
              " 2,\n",
              " 2,\n",
              " 2,\n",
              " 2,\n",
              " 0,\n",
              " 2,\n",
              " 2,\n",
              " 2,\n",
              " 2,\n",
              " 2,\n",
              " 2,\n",
              " 2,\n",
              " 2,\n",
              " 2,\n",
              " 2,\n",
              " 2,\n",
              " 2,\n",
              " 2,\n",
              " 2,\n",
              " 0,\n",
              " 2,\n",
              " 2,\n",
              " 2,\n",
              " 0,\n",
              " 2,\n",
              " 0,\n",
              " 2,\n",
              " 2,\n",
              " 2,\n",
              " 2,\n",
              " 2,\n",
              " 0,\n",
              " 2,\n",
              " 2,\n",
              " 2,\n",
              " 2,\n",
              " 2,\n",
              " 2,\n",
              " 2,\n",
              " 0,\n",
              " 0,\n",
              " 0,\n",
              " 2,\n",
              " 2,\n",
              " 2,\n",
              " 2,\n",
              " 2,\n",
              " 0,\n",
              " 0,\n",
              " 2,\n",
              " 0,\n",
              " 2,\n",
              " 2,\n",
              " 2,\n",
              " 2,\n",
              " 2,\n",
              " 2,\n",
              " 0,\n",
              " 2,\n",
              " 2,\n",
              " 2,\n",
              " 2,\n",
              " 2,\n",
              " 2,\n",
              " 2,\n",
              " 2,\n",
              " 2,\n",
              " 2,\n",
              " 2,\n",
              " 2,\n",
              " 2,\n",
              " 2,\n",
              " 2,\n",
              " 2,\n",
              " 2]"
            ]
          },
          "execution_count": 52,
          "metadata": {},
          "output_type": "execute_result"
        }
      ],
      "source": [
        "dataset # Prediction output"
      ]
    },
    {
      "cell_type": "code",
      "execution_count": 53,
      "metadata": {
        "colab": {
          "base_uri": "https://localhost:8080/"
        },
        "id": "8kn5JVPj9DpU",
        "outputId": "9b075fd8-9769-4a2d-a80d-eaef39ffe672"
      },
      "outputs": [
        {
          "name": "stdout",
          "output_type": "stream",
          "text": [
            "Results for model ResNet50\n",
            "Confusion Matrix:\n",
            " [[131   0  19   0   0]\n",
            " [ 65   0  69   2   1]\n",
            " [  8   0 102   0   1]\n",
            " [150   0  17   0   0]\n",
            " [ 14   0 102   0   0]]\n",
            "Precision: 0.13721506924251967\n",
            "Recall: 0.35845044763029627\n",
            "Accuracy: 0.342143906020558\n",
            "F1 Score: 0.19830099738404283\n"
          ]
        }
      ],
      "source": [
        "displayAnalysis('ResNet50', y_labels, dataset) "
      ]
    },
    {
      "attachments": {},
      "cell_type": "markdown",
      "metadata": {},
      "source": [
        "Based on the results we see that the model is able to predict videos to be majorly of 2 classes 0 and 2. This could be mainly because of the low patience I used to train the model. Using more epochs and more patience could give us better results"
      ]
    },
    {
      "attachments": {},
      "cell_type": "markdown",
      "metadata": {
        "id": "BodcfKzI1_F4"
      },
      "source": [
        "### References\n",
        "\n",
        "https://pyimagesearch.com/2021/06/28/data-augmentation-with-tf-data-and-tensorflow/\n",
        "\n",
        "https://machinelearningmastery.com/image-augmentation-with-keras-preprocessing-layers-and-tf-image/\n",
        "\n",
        "https://www.datacamp.com/tutorial/complete-guide-data-augmentation\n",
        "\n",
        "https://www.tensorflow.org/tutorials/load_data/images\n",
        "\n",
        "https://vuamitom.github.io/2019/12/13/fast-iterate-through-video-frames.html\n",
        "\n",
        "https://www.freecodecamp.org/news/improve-image-recognition-model-accuracy-with-these-hacks/\n",
        "\n",
        "https://www.kaggle.com/code/nkitgupta/evaluation-metrics-for-multi-class-classification\n",
        "\n",
        "https://www.youtube.com/watch?v=mTVf7BN7S8w&ab_channel=codebasics\n",
        "\n",
        "https://www.youtube.com/watch?v=ccdssX4rIh8&t=1038s&ab_channel=DigitalSreeni\n",
        "\n",
        "https://www.youtube.com/watch?v=jztwpsIzEGc&t=2500s&ab_channel=NicholasRenotte"
      ]
    }
  ],
  "metadata": {
    "accelerator": "GPU",
    "colab": {
      "machine_shape": "hm",
      "provenance": []
    },
    "gpuClass": "standard",
    "kernelspec": {
      "display_name": "Python 3",
      "language": "python",
      "name": "python3"
    },
    "language_info": {
      "codemirror_mode": {
        "name": "ipython",
        "version": 3
      },
      "file_extension": ".py",
      "mimetype": "text/x-python",
      "name": "python",
      "nbconvert_exporter": "python",
      "pygments_lexer": "ipython3",
      "version": "3.10.10"
    }
  },
  "nbformat": 4,
  "nbformat_minor": 0
}
